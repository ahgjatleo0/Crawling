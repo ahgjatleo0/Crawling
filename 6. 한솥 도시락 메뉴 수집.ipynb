{
 "cells": [
  {
   "cell_type": "code",
   "execution_count": 2,
   "id": "7354be73",
   "metadata": {
    "ExecuteTime": {
     "end_time": "2023-03-31T00:41:44.586895Z",
     "start_time": "2023-03-31T00:41:44.104815Z"
    }
   },
   "outputs": [],
   "source": [
    "# 셀레니움 라이브러리 로딩\n",
    "\n",
    "# 브라우저\n",
    "from selenium import webdriver as wb\n",
    "\n",
    "# 키보드\n",
    "from selenium.webdriver.common.keys import Keys\n",
    "\n",
    "# 구분자\n",
    "from selenium.webdriver.common.by import By\n",
    "\n",
    "# 지연시간\n",
    "import time\n",
    "\n",
    "# 데이터프레임\n",
    "import pandas as pd\n"
   ]
  },
  {
   "cell_type": "code",
   "execution_count": 1,
   "id": "daed7b18",
   "metadata": {
    "ExecuteTime": {
     "end_time": "2023-03-31T00:41:42.289623Z",
     "start_time": "2023-03-31T00:41:42.084171Z"
    }
   },
   "outputs": [
    {
     "ename": "NameError",
     "evalue": "name 'wb' is not defined",
     "output_type": "error",
     "traceback": [
      "\u001b[1;31m---------------------------------------------------------------------------\u001b[0m",
      "\u001b[1;31mNameError\u001b[0m                                 Traceback (most recent call last)",
      "\u001b[1;32m~\\AppData\\Local\\Temp\\ipykernel_8100\\1255492176.py\u001b[0m in \u001b[0;36m<module>\u001b[1;34m\u001b[0m\n\u001b[1;32m----> 1\u001b[1;33m \u001b[0mdriver\u001b[0m \u001b[1;33m=\u001b[0m \u001b[0mwb\u001b[0m\u001b[1;33m.\u001b[0m\u001b[0mChrome\u001b[0m\u001b[1;33m(\u001b[0m\u001b[1;33m)\u001b[0m\u001b[1;33m\u001b[0m\u001b[1;33m\u001b[0m\u001b[0m\n\u001b[0m\u001b[0;32m      2\u001b[0m \u001b[0murl\u001b[0m \u001b[1;33m=\u001b[0m \u001b[1;34m'https://www.hsd.co.kr/menu/menu_list'\u001b[0m\u001b[1;33m\u001b[0m\u001b[1;33m\u001b[0m\u001b[0m\n\u001b[0;32m      3\u001b[0m \u001b[0mdriver\u001b[0m\u001b[1;33m.\u001b[0m\u001b[0mget\u001b[0m\u001b[1;33m(\u001b[0m\u001b[0murl\u001b[0m\u001b[1;33m)\u001b[0m\u001b[1;33m\u001b[0m\u001b[1;33m\u001b[0m\u001b[0m\n",
      "\u001b[1;31mNameError\u001b[0m: name 'wb' is not defined"
     ]
    }
   ],
   "source": [
    "driver = wb.Chrome()\n",
    "url = 'https://www.hsd.co.kr/menu/menu_list'\n",
    "driver.get(url)"
   ]
  },
  {
   "cell_type": "code",
   "execution_count": 21,
   "id": "458f37f2",
   "metadata": {
    "ExecuteTime": {
     "end_time": "2023-03-29T02:05:08.743908Z",
     "start_time": "2023-03-29T02:05:08.688057Z"
    }
   },
   "outputs": [],
   "source": [
    "# \"더보기\" 요소 접근하기\n",
    "# 클릭\n",
    "# 클릭횟수 : 각자 다름!!\n",
    "\n",
    "driver.find_element(By.CLASS_NAME, \"c_05\").click()\n"
   ]
  },
  {
   "cell_type": "code",
   "execution_count": 63,
   "id": "8d513c9b",
   "metadata": {
    "ExecuteTime": {
     "end_time": "2023-03-29T02:35:37.344992Z",
     "start_time": "2023-03-29T02:35:33.124516Z"
    }
   },
   "outputs": [],
   "source": [
    "# 더보기 클릭을 반복문으로 구현\n",
    "\n",
    "for i in range(4) :\n",
    "    driver.find_element(By.CLASS_NAME, \"c_05\").click()\n",
    "    time.sleep(1)"
   ]
  },
  {
   "cell_type": "code",
   "execution_count": 64,
   "id": "38f293e6",
   "metadata": {
    "ExecuteTime": {
     "end_time": "2023-03-29T02:35:40.059124Z",
     "start_time": "2023-03-29T02:35:40.036186Z"
    }
   },
   "outputs": [
    {
     "data": {
      "text/plain": [
       "(91, 91)"
      ]
     },
     "execution_count": 64,
     "metadata": {},
     "output_type": "execute_result"
    }
   ],
   "source": [
    "# 도시락 메뉴(이름)와 가격 수집 후 출력\n",
    "menu = driver.find_elements(By.CSS_SELECTOR, \"h4.h.fz_03\")\n",
    "\n",
    "# 가격 수집\n",
    "price = driver.find_elements(By.CSS_SELECTOR, \"span.blind + strong\")\n",
    "\n",
    "len(menu), len(price)"
   ]
  },
  {
   "cell_type": "code",
   "execution_count": 76,
   "id": "de393667",
   "metadata": {
    "ExecuteTime": {
     "end_time": "2023-03-29T02:46:00.743883Z",
     "start_time": "2023-03-29T02:45:58.191616Z"
    }
   },
   "outputs": [],
   "source": [
    "# 데이터프레임으로 결과 만들어보기\n",
    "\n",
    "menuList = []\n",
    "priceList = []\n",
    "\n",
    "for i in range(len(menu)) :\n",
    "    \n",
    "    menuList.append(menu[i].text)\n",
    "    priceList.append(price[i].text)\n",
    "\n",
    "hansot_dic = {'메뉴' : menuList ,'가격' : priceList}\n",
    "hansot_df= pd.DataFrame(hansot_dic)    \n"
   ]
  },
  {
   "cell_type": "code",
   "execution_count": 78,
   "id": "ae0fb7fe",
   "metadata": {
    "ExecuteTime": {
     "end_time": "2023-03-29T02:46:40.881954Z",
     "start_time": "2023-03-29T02:46:40.855475Z"
    },
    "collapsed": true
   },
   "outputs": [
    {
     "data": {
      "text/html": [
       "<div>\n",
       "<style scoped>\n",
       "    .dataframe tbody tr th:only-of-type {\n",
       "        vertical-align: middle;\n",
       "    }\n",
       "\n",
       "    .dataframe tbody tr th {\n",
       "        vertical-align: top;\n",
       "    }\n",
       "\n",
       "    .dataframe thead th {\n",
       "        text-align: right;\n",
       "    }\n",
       "</style>\n",
       "<table border=\"1\" class=\"dataframe\">\n",
       "  <thead>\n",
       "    <tr style=\"text-align: right;\">\n",
       "      <th></th>\n",
       "      <th>메뉴</th>\n",
       "      <th>가격</th>\n",
       "    </tr>\n",
       "  </thead>\n",
       "  <tbody>\n",
       "    <tr>\n",
       "      <th>0</th>\n",
       "      <td>치즈버터 해시 포테이토 스틱</td>\n",
       "      <td>2,200</td>\n",
       "    </tr>\n",
       "    <tr>\n",
       "      <th>1</th>\n",
       "      <td>허니버터 해시 포테이토 스틱</td>\n",
       "      <td>2,200</td>\n",
       "    </tr>\n",
       "    <tr>\n",
       "      <th>2</th>\n",
       "      <td>새후마요</td>\n",
       "      <td>4,500</td>\n",
       "    </tr>\n",
       "    <tr>\n",
       "      <th>3</th>\n",
       "      <td>숯불직화구이 두부강된장</td>\n",
       "      <td>8,200</td>\n",
       "    </tr>\n",
       "    <tr>\n",
       "      <th>4</th>\n",
       "      <td>해시 포테이토 스틱</td>\n",
       "      <td>2,000</td>\n",
       "    </tr>\n",
       "    <tr>\n",
       "      <th>...</th>\n",
       "      <td>...</td>\n",
       "      <td>...</td>\n",
       "    </tr>\n",
       "    <tr>\n",
       "      <th>86</th>\n",
       "      <td>무말랭이 무침</td>\n",
       "      <td>500</td>\n",
       "    </tr>\n",
       "    <tr>\n",
       "      <th>87</th>\n",
       "      <td>한솥밥</td>\n",
       "      <td>1,000</td>\n",
       "    </tr>\n",
       "    <tr>\n",
       "      <th>88</th>\n",
       "      <td>현미밥</td>\n",
       "      <td>1,700</td>\n",
       "    </tr>\n",
       "    <tr>\n",
       "      <th>89</th>\n",
       "      <td>리얼 티라미수 찰떡</td>\n",
       "      <td>1,700</td>\n",
       "    </tr>\n",
       "    <tr>\n",
       "      <th>90</th>\n",
       "      <td>리얼꿀 미니호떡</td>\n",
       "      <td>2,200</td>\n",
       "    </tr>\n",
       "  </tbody>\n",
       "</table>\n",
       "<p>91 rows × 2 columns</p>\n",
       "</div>"
      ],
      "text/plain": [
       "                 메뉴     가격\n",
       "0   치즈버터 해시 포테이토 스틱  2,200\n",
       "1   허니버터 해시 포테이토 스틱  2,200\n",
       "2              새후마요  4,500\n",
       "3      숯불직화구이 두부강된장  8,200\n",
       "4        해시 포테이토 스틱  2,000\n",
       "..              ...    ...\n",
       "86          무말랭이 무침    500\n",
       "87              한솥밥  1,000\n",
       "88              현미밥  1,700\n",
       "89       리얼 티라미수 찰떡  1,700\n",
       "90         리얼꿀 미니호떡  2,200\n",
       "\n",
       "[91 rows x 2 columns]"
      ]
     },
     "execution_count": 78,
     "metadata": {},
     "output_type": "execute_result"
    }
   ],
   "source": [
    "hansot_df"
   ]
  },
  {
   "cell_type": "markdown",
   "id": "9f0a382b",
   "metadata": {},
   "source": [
    "### ActionChains\n",
    "- 내가 동작할 액션(행동)들을 묶어서 실행할 때 "
   ]
  },
  {
   "cell_type": "code",
   "execution_count": 4,
   "id": "e6153e2a",
   "metadata": {
    "ExecuteTime": {
     "end_time": "2023-03-30T01:05:15.591056Z",
     "start_time": "2023-03-30T01:05:13.393341Z"
    }
   },
   "outputs": [],
   "source": [
    "url = 'https://www.hsd.co.kr/'\n",
    "driver = wb.Chrome()\n",
    "driver.get(url)"
   ]
  },
  {
   "cell_type": "markdown",
   "id": "b64c222f",
   "metadata": {},
   "source": [
    "### 선택자를 한꺼번에 가지고 오는 팁\n",
    "- 개발자 도구에서 원하는 요소(검사해서 나온 결과)에 마우스 우클릭!\n",
    "    - copy 탭 > copy selector(선택자 복사) 클릭!\n",
    "\n",
    "## 주의할 점!\n",
    "- 무조건 내가 선택한 요소 한 개만 가지고 올 수 있다.\n",
    "    - 복수개의 데이터가 필요한 경우에는 선택자를 수정\n",
    "        - ex) nth-child() 지워주는 경우가 가장 많다!"
   ]
  },
  {
   "cell_type": "code",
   "execution_count": 6,
   "id": "551ab3b7",
   "metadata": {
    "ExecuteTime": {
     "end_time": "2023-03-30T01:05:39.279665Z",
     "start_time": "2023-03-30T01:05:34.834011Z"
    }
   },
   "outputs": [],
   "source": [
    "# 1. MENU 탭에 마우스 이동\n",
    "# 2. 전체메뉴를 클릭\n",
    "# gnb > div.gnb_menu > ul > li:nth-child(3) > p > a\n",
    "menu_bar = driver.find_element(By.CSS_SELECTOR, \"#gnb > div.gnb_menu > ul > li:nth-child(3) > p > a\" )\n",
    "allMenu = driver.find_element(By.CSS_SELECTOR, \"#gnb > div.gnb_menu > ul > li:nth-child(3) > div > ul > li:nth-child(1) > a\")\n",
    "\n",
    "# A, C 대문자 주의하자!!\n",
    "# 한줄로 표현(훨씬 좋음)\n",
    "wb.ActionChains(driver).move_to_element(menu_bar).click(allMenu).perform()\n",
    "\n",
    "# 변수에 담아서 표현\n",
    "# AC_driver = wb.ActionChains(driver)\n",
    "# menu_bar_move = AC_driver.move_to_element(menu_bar)\n",
    "# allMenu_click = menu_bar_move.click(allMenu)\n",
    "# allMenu_click.perform()\n",
    "\n",
    "# wb.ActionChains(\"브라우저\").기능(요소).기능(요소).기능(요소).perform()\n",
    "# ==> 기능(요소)는 얼마나 적든 상관 없다\n",
    "# perforn() : 적용!!"
   ]
  },
  {
   "cell_type": "markdown",
   "id": "8f1ee8cb",
   "metadata": {},
   "source": [
    "### 화면에서 안보이게 동작\n",
    "- 크롬 옵션을 설정\n",
    "#### 단점!\n",
    "- 크롤링 시작할 때(처음부터) 사용하기에는 권장하지 않음!!!\n",
    "    - 1000건, 10000건의 데이터를 수집할 때 어느 부분에서 오류가 나는지 파악하기 힘들다.\n",
    "- try/except 사용시에도 동일하다!\n",
    "    - 우선, 에러가 발생하는 영역을 파악한 뒤 사용을 권장"
   ]
  },
  {
   "cell_type": "code",
   "execution_count": 14,
   "id": "4409d9bd",
   "metadata": {
    "ExecuteTime": {
     "end_time": "2023-03-30T02:08:24.636144Z",
     "start_time": "2023-03-30T02:08:16.226315Z"
    }
   },
   "outputs": [
    {
     "name": "stderr",
     "output_type": "stream",
     "text": [
      "C:\\Users\\smhrd\\AppData\\Local\\Temp\\ipykernel_5072\\3214087301.py:12: DeprecationWarning: use options instead of chrome_options\n",
      "  driver = wb.Chrome(chrome_options = options)\n"
     ]
    },
    {
     "name": "stdout",
     "output_type": "stream",
     "text": [
      "나는 except\n"
     ]
    },
    {
     "data": {
      "text/html": [
       "<div>\n",
       "<style scoped>\n",
       "    .dataframe tbody tr th:only-of-type {\n",
       "        vertical-align: middle;\n",
       "    }\n",
       "\n",
       "    .dataframe tbody tr th {\n",
       "        vertical-align: top;\n",
       "    }\n",
       "\n",
       "    .dataframe thead th {\n",
       "        text-align: right;\n",
       "    }\n",
       "</style>\n",
       "<table border=\"1\" class=\"dataframe\">\n",
       "  <thead>\n",
       "    <tr style=\"text-align: right;\">\n",
       "      <th></th>\n",
       "      <th>메뉴</th>\n",
       "      <th>가격</th>\n",
       "    </tr>\n",
       "  </thead>\n",
       "  <tbody>\n",
       "    <tr>\n",
       "      <th>0</th>\n",
       "      <td>치즈버터 해시 포테이토 스틱</td>\n",
       "      <td>2,200원</td>\n",
       "    </tr>\n",
       "    <tr>\n",
       "      <th>1</th>\n",
       "      <td>허니버터 해시 포테이토 스틱</td>\n",
       "      <td>2,200원</td>\n",
       "    </tr>\n",
       "    <tr>\n",
       "      <th>2</th>\n",
       "      <td>새후마요</td>\n",
       "      <td>4,500원</td>\n",
       "    </tr>\n",
       "    <tr>\n",
       "      <th>3</th>\n",
       "      <td>숯불직화구이 두부강된장</td>\n",
       "      <td>8,200원</td>\n",
       "    </tr>\n",
       "    <tr>\n",
       "      <th>4</th>\n",
       "      <td>해시 포테이토 스틱</td>\n",
       "      <td>2,000원</td>\n",
       "    </tr>\n",
       "    <tr>\n",
       "      <th>...</th>\n",
       "      <td>...</td>\n",
       "      <td>...</td>\n",
       "    </tr>\n",
       "    <tr>\n",
       "      <th>86</th>\n",
       "      <td>무말랭이 무침</td>\n",
       "      <td>500원</td>\n",
       "    </tr>\n",
       "    <tr>\n",
       "      <th>87</th>\n",
       "      <td>한솥밥</td>\n",
       "      <td>1,000원</td>\n",
       "    </tr>\n",
       "    <tr>\n",
       "      <th>88</th>\n",
       "      <td>현미밥</td>\n",
       "      <td>1,700원</td>\n",
       "    </tr>\n",
       "    <tr>\n",
       "      <th>89</th>\n",
       "      <td>리얼 티라미수 찰떡</td>\n",
       "      <td>1,700원</td>\n",
       "    </tr>\n",
       "    <tr>\n",
       "      <th>90</th>\n",
       "      <td>리얼꿀 미니호떡</td>\n",
       "      <td>2,200원</td>\n",
       "    </tr>\n",
       "  </tbody>\n",
       "</table>\n",
       "<p>91 rows × 2 columns</p>\n",
       "</div>"
      ],
      "text/plain": [
       "                 메뉴      가격\n",
       "0   치즈버터 해시 포테이토 스틱  2,200원\n",
       "1   허니버터 해시 포테이토 스틱  2,200원\n",
       "2              새후마요  4,500원\n",
       "3      숯불직화구이 두부강된장  8,200원\n",
       "4        해시 포테이토 스틱  2,000원\n",
       "..              ...     ...\n",
       "86          무말랭이 무침    500원\n",
       "87              한솥밥  1,000원\n",
       "88              현미밥  1,700원\n",
       "89       리얼 티라미수 찰떡  1,700원\n",
       "90         리얼꿀 미니호떡  2,200원\n",
       "\n",
       "[91 rows x 2 columns]"
      ]
     },
     "execution_count": 14,
     "metadata": {},
     "output_type": "execute_result"
    }
   ],
   "source": [
    "# 더보기 버튼 몇 번 눌러야할지 알고싶지 않을때는??\n",
    "# for문x / while문 o\n",
    "\n",
    "# C와 O는 대문자\n",
    "# 크롬의 옵션을 설정할건데~\n",
    "options = wb.ChromeOptions()\n",
    "# 눈에 안보이게 가려주세요\n",
    "options.add_argument(\"headless\")\n",
    "\n",
    "# [크롬 설정 적용] -> wb.Chrome(옵션속성 부여)\n",
    "url = 'https://www.hsd.co.kr/menu/menu_list'\n",
    "driver = wb.Chrome(chrome_options = options)\n",
    "driver.get(url)\n",
    "\n",
    "# 더보기 클릭 반복문\n",
    "\n",
    "# try에서 코드를 일단 실행히봄\n",
    "# 근데 실행이 끝나면, 에러가 발생해도 except로 넘어가줘~!\n",
    "\n",
    "try :\n",
    "    while True :\n",
    "        \n",
    "        driver.find_element(By.CLASS_NAME, \"c_05\").click()\n",
    "        time.sleep(1)\n",
    "    \n",
    "# except : 나를 실행하고 아래로 넘어가야지~ (에러 문구 출력 X)\n",
    "except :\n",
    "    print(\"나는 except\")\n",
    "\n",
    "\n",
    "# 더보기 클린 반복문\n",
    "\n",
    "# 메뉴, 가격 수집\n",
    "menu = driver.find_elements(By.CSS_SELECTOR, \"h4.h.fz_03\")\n",
    "price = driver.find_elements(By.CSS_SELECTOR, \"span.blind + strong\")\n",
    "\n",
    "menuList = []\n",
    "priceList = []\n",
    "\n",
    "for i in range(len(menu)) :\n",
    "    \n",
    "    menuList.append(menu[i].text)\n",
    "    priceList.append(price[i].text + \"원\")\n",
    "\n",
    "# 딕셔너리 - 데이터프레임 생성\n",
    "driver.close()\n",
    "\n",
    "hansot_dic = {'메뉴' : menuList ,'가격' : priceList}\n",
    "pd.DataFrame(hansot_dic)    \n"
   ]
  },
  {
   "cell_type": "code",
   "execution_count": null,
   "id": "1052193c",
   "metadata": {},
   "outputs": [],
   "source": []
  },
  {
   "cell_type": "code",
   "execution_count": null,
   "id": "7da97076",
   "metadata": {},
   "outputs": [],
   "source": []
  },
  {
   "cell_type": "code",
   "execution_count": null,
   "id": "ff9234ab",
   "metadata": {},
   "outputs": [],
   "source": []
  },
  {
   "cell_type": "code",
   "execution_count": null,
   "id": "23b58a74",
   "metadata": {},
   "outputs": [],
   "source": []
  },
  {
   "cell_type": "code",
   "execution_count": null,
   "id": "191c06a4",
   "metadata": {},
   "outputs": [],
   "source": []
  },
  {
   "cell_type": "code",
   "execution_count": null,
   "id": "dd298d74",
   "metadata": {},
   "outputs": [],
   "source": []
  },
  {
   "cell_type": "code",
   "execution_count": null,
   "id": "9f3d4d38",
   "metadata": {},
   "outputs": [],
   "source": []
  },
  {
   "cell_type": "code",
   "execution_count": null,
   "id": "cce6cc32",
   "metadata": {},
   "outputs": [],
   "source": []
  },
  {
   "cell_type": "code",
   "execution_count": null,
   "id": "7fd4830b",
   "metadata": {},
   "outputs": [],
   "source": []
  },
  {
   "cell_type": "code",
   "execution_count": null,
   "id": "4f7b1184",
   "metadata": {},
   "outputs": [],
   "source": []
  },
  {
   "cell_type": "code",
   "execution_count": null,
   "id": "e7cb6ddf",
   "metadata": {},
   "outputs": [],
   "source": []
  },
  {
   "cell_type": "code",
   "execution_count": null,
   "id": "f9318c6d",
   "metadata": {},
   "outputs": [],
   "source": []
  },
  {
   "cell_type": "code",
   "execution_count": null,
   "id": "ee3e46a2",
   "metadata": {},
   "outputs": [],
   "source": []
  },
  {
   "cell_type": "code",
   "execution_count": null,
   "id": "c6102d9b",
   "metadata": {},
   "outputs": [],
   "source": []
  },
  {
   "cell_type": "code",
   "execution_count": null,
   "id": "dc5edacc",
   "metadata": {},
   "outputs": [],
   "source": []
  }
 ],
 "metadata": {
  "kernelspec": {
   "display_name": "Python 3 (ipykernel)",
   "language": "python",
   "name": "python3"
  },
  "language_info": {
   "codemirror_mode": {
    "name": "ipython",
    "version": 3
   },
   "file_extension": ".py",
   "mimetype": "text/x-python",
   "name": "python",
   "nbconvert_exporter": "python",
   "pygments_lexer": "ipython3",
   "version": "3.9.13"
  },
  "toc": {
   "base_numbering": 1,
   "nav_menu": {},
   "number_sections": true,
   "sideBar": true,
   "skip_h1_title": false,
   "title_cell": "Table of Contents",
   "title_sidebar": "Contents",
   "toc_cell": false,
   "toc_position": {},
   "toc_section_display": true,
   "toc_window_display": false
  },
  "varInspector": {
   "cols": {
    "lenName": 16,
    "lenType": 16,
    "lenVar": 40
   },
   "kernels_config": {
    "python": {
     "delete_cmd_postfix": "",
     "delete_cmd_prefix": "del ",
     "library": "var_list.py",
     "varRefreshCmd": "print(var_dic_list())"
    },
    "r": {
     "delete_cmd_postfix": ") ",
     "delete_cmd_prefix": "rm(",
     "library": "var_list.r",
     "varRefreshCmd": "cat(var_dic_list()) "
    }
   },
   "types_to_exclude": [
    "module",
    "function",
    "builtin_function_or_method",
    "instance",
    "_Feature"
   ],
   "window_display": false
  }
 },
 "nbformat": 4,
 "nbformat_minor": 5
}
