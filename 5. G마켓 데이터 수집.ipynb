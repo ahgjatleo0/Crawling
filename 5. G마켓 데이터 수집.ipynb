{
 "cells": [
  {
   "cell_type": "markdown",
   "id": "41b7a1e6",
   "metadata": {},
   "source": [
    "###  사용자 입장에서 해야 할 step!\n",
    "- G마켓 BEST 상품의 1위부터 10위까지의 데이터를 수집\n",
    "- 중요한 것!\n",
    "    - 첫 번째에 있는 상품을 클릭한 다음에 해당 상품의 이름과 가격 정보를 수집\n",
    "    - 뒤로간 다음 두번째에 있는 상품을 클릭, 수집 똑같은 말을 반복 중\n",
    "    - while? for? 어떤 것이 적합? --> for문/ 10번 정해져 있기때문"
   ]
  },
  {
   "cell_type": "code",
   "execution_count": 1,
   "id": "2611f69d",
   "metadata": {
    "ExecuteTime": {
     "end_time": "2023-03-29T00:26:40.792029Z",
     "start_time": "2023-03-29T00:26:40.316194Z"
    }
   },
   "outputs": [],
   "source": [
    "# selenium 라이브러리 로딩\n",
    "\n",
    "# 브라우저 역할 - 컴퓨터용 브라우저\n",
    "from selenium import webdriver as wb\n",
    "\n",
    "# 키보드 역할 (Keys K는 대문자!!) - 컴퓨터용 키보드\n",
    "from selenium.webdriver.common.keys import Keys\n",
    "\n",
    "# 구분자 역할(By B대문자!!) - 선택자를 구분\n",
    "from selenium.webdriver.common.by import By\n",
    "\n",
    "# 수집한 이후 데이터프레임까지 만들어볼 예정\n",
    "import pandas as pd\n",
    "\n",
    "# 지연시간 설정\n",
    "import time"
   ]
  },
  {
   "cell_type": "code",
   "execution_count": 18,
   "id": "052959ce",
   "metadata": {
    "ExecuteTime": {
     "end_time": "2023-03-29T01:00:04.380589Z",
     "start_time": "2023-03-29T01:00:02.406123Z"
    }
   },
   "outputs": [],
   "source": [
    "driver = wb.Chrome()\n",
    "url = 'https://corners.gmarket.co.kr/bestsellers'\n",
    "driver.get(url)"
   ]
  },
  {
   "cell_type": "markdown",
   "id": "b04b80e8",
   "metadata": {},
   "source": [
    "#### 반복문을 시작하기 전 하나의 프로세스를 완벽하게 짜보기\n",
    "#### 잘 완성되면 반복문 안에 프로세스를 통째로 넣어주기만 하면 됨1\n",
    "1. 상품의 이미지를 클릭 (화면 변경) --> 지연시간을 넣어줘야하는 구간\n",
    "> 사용자는 첫 번째 상품을 알 수 있지만 컴퓨터는 알 수 없다!<br>   \n",
    "> 어떤 태그로 구성되어 있는지 검사해서 알려줘야 함(find)  \n",
    "2. 상품의 이름과 가격을 수집\n",
    "3. 페이지 뒤로가기 (화면 변경)"
   ]
  },
  {
   "cell_type": "code",
   "execution_count": 19,
   "id": "d41c960e",
   "metadata": {
    "ExecuteTime": {
     "end_time": "2023-03-29T01:00:08.044319Z",
     "start_time": "2023-03-29T01:00:04.415493Z"
    }
   },
   "outputs": [],
   "source": [
    "# 1. 상품의 이미지를 클릭\n",
    "\n",
    "# 1-1. 이미지를 클릭하기 위해서 이미지 태그들을 알려줘야 함\n",
    "imgs = driver.find_elements(By.CLASS_NAME, \"lazy\")\n",
    "\n",
    "# 1-2. 이미지 클릭\n",
    "imgs[0].click()\n",
    "\n",
    "# 요청을 복수개로 했으니까 응답도 복수개이다 -> [리스트]"
   ]
  },
  {
   "cell_type": "code",
   "execution_count": null,
   "id": "44bbf4e6",
   "metadata": {
    "ExecuteTime": {
     "end_time": "2023-03-29T01:00:08.077231Z",
     "start_time": "2023-03-29T01:00:08.077231Z"
    }
   },
   "outputs": [],
   "source": [
    "# 2-1. 상품명 수집\n",
    "\n",
    "# 조회하고자 하는 요소가 class를 가지고 있을 경우에는 \n",
    "# 먼저! elements(복수)로 요청해본다.\n",
    "# 그 다음에 데이터가 한 개만 넘어왔다면, element(단일)로 수정해서 활용하면 편하다\n",
    "title = driver.find_element(By.CLASS_NAME, \"itemtit\")\n",
    "title.text"
   ]
  },
  {
   "cell_type": "code",
   "execution_count": null,
   "id": "079aca15",
   "metadata": {
    "ExecuteTime": {
     "end_time": "2023-03-29T01:00:08.080223Z",
     "start_time": "2023-03-29T01:00:08.080223Z"
    }
   },
   "outputs": [],
   "source": [
    "# 2-2. 상품 가격 수집\n",
    "# price 변수에 담아서 price.text 컨테츠 추출\n",
    "price = driver.find_element(By.CLASS_NAME, \"price_real\")\n",
    "price.text"
   ]
  },
  {
   "cell_type": "code",
   "execution_count": 20,
   "id": "7a8ce83e",
   "metadata": {
    "ExecuteTime": {
     "end_time": "2023-03-29T01:00:09.243672Z",
     "start_time": "2023-03-29T01:00:08.670178Z"
    }
   },
   "outputs": [],
   "source": [
    "# 페이지 뒤로가기\n",
    "driver.back()"
   ]
  },
  {
   "cell_type": "code",
   "execution_count": 23,
   "id": "39ebe29b",
   "metadata": {
    "ExecuteTime": {
     "end_time": "2023-03-29T01:23:08.192568Z",
     "start_time": "2023-03-29T01:21:56.304062Z"
    }
   },
   "outputs": [],
   "source": [
    "# 1번부터 5번까지 데이터 수집\n",
    "\n",
    "# 1. 비어있는 리스트에 수집한 텍스트 정보를 저장 (상품명, 가격)\n",
    "# 2. 데이터프레임으로 생성\n",
    "# 3. 참고파일 -> 멜론차트, 영화리뷰 파일을 참고해서 완성해보자~\n",
    "titleList = []\n",
    "priceList = []\n",
    "\n",
    "for i in range(10) :\n",
    "    \n",
    "    imgs = driver.find_elements(By.CLASS_NAME, \"lazy\")\n",
    "    imgs[i].click()\n",
    "    # 이미지를 클릭 했을 때(화면 변화/깜빡) 1초 쉬어주기\n",
    "    time.sleep(1)\n",
    "    # 이름 가져오기\n",
    "    title = driver.find_element(By.CLASS_NAME, \"itemtit\")\n",
    "    titleList.append(title.text)\n",
    "    \n",
    "    # 가격 가지오기\n",
    "    price = driver.find_element(By.CLASS_NAME, \"price_real\")\n",
    "    priceList.append(price.text)\n",
    "    \n",
    "    # 뒤로가기\n",
    "    driver.back()\n",
    "    #뒤로가기 실행 했을 때(화면 변화/깜빡) 1초 쉬어주기\n",
    "    time.sleep(1)\n",
    "    \n",
    "market_dic = {'상품이름' : titleList ,'가격' : priceList}\n",
    "market_df= pd.DataFrame(market_dic)"
   ]
  },
  {
   "cell_type": "code",
   "execution_count": 28,
   "id": "55bf1bf0",
   "metadata": {
    "ExecuteTime": {
     "end_time": "2023-03-29T01:25:57.678618Z",
     "start_time": "2023-03-29T01:25:57.655676Z"
    }
   },
   "outputs": [
    {
     "data": {
      "text/html": [
       "<div>\n",
       "<style scoped>\n",
       "    .dataframe tbody tr th:only-of-type {\n",
       "        vertical-align: middle;\n",
       "    }\n",
       "\n",
       "    .dataframe tbody tr th {\n",
       "        vertical-align: top;\n",
       "    }\n",
       "\n",
       "    .dataframe thead th {\n",
       "        text-align: right;\n",
       "    }\n",
       "</style>\n",
       "<table border=\"1\" class=\"dataframe\">\n",
       "  <thead>\n",
       "    <tr style=\"text-align: right;\">\n",
       "      <th></th>\n",
       "      <th>상품이름</th>\n",
       "      <th>가격</th>\n",
       "    </tr>\n",
       "  </thead>\n",
       "  <tbody>\n",
       "    <tr>\n",
       "      <th>0</th>\n",
       "      <td>휴튼미플린하코트출판사가 만든 과학레벨드리더스 /Science and Engineer...</td>\n",
       "      <td>168,800원</td>\n",
       "    </tr>\n",
       "    <tr>\n",
       "      <th>1</th>\n",
       "      <td>크로아상 크로플 생지 2250g (40~50개입) + 사과버터잼 100g 증정(쿠폰...</td>\n",
       "      <td>21,100원</td>\n",
       "    </tr>\n",
       "    <tr>\n",
       "      <th>2</th>\n",
       "      <td>더미식 백미밥 210g 24개+장인라면 컵라면 증정</td>\n",
       "      <td>23,900원</td>\n",
       "    </tr>\n",
       "    <tr>\n",
       "      <th>3</th>\n",
       "      <td>(깨비농원) 고당도 천혜향 4.5kg 소과(28-36과)/20%+5% 쿠폰</td>\n",
       "      <td>30,900원</td>\n",
       "    </tr>\n",
       "    <tr>\n",
       "      <th>4</th>\n",
       "      <td>태국 마하차녹 무지개 망고 2kg 9-10수 / 18680원 (25%쿠폰가) / 부...</td>\n",
       "      <td>SOLD OUT</td>\n",
       "    </tr>\n",
       "    <tr>\n",
       "      <th>5</th>\n",
       "      <td>에너자이저 알카라인 패밀리팩 건전지 AA24입+AAA24입</td>\n",
       "      <td>27,000원</td>\n",
       "    </tr>\n",
       "    <tr>\n",
       "      <th>6</th>\n",
       "      <td>고창 김민상님의 황토밭 햇 꿀밤고구마 5kg 특상 / 쿠폰가 12680 (3/29 하루)</td>\n",
       "      <td>16,900원</td>\n",
       "    </tr>\n",
       "    <tr>\n",
       "      <th>7</th>\n",
       "      <td>훈제오리 슬라이스 800g + 800g</td>\n",
       "      <td>23,600원</td>\n",
       "    </tr>\n",
       "    <tr>\n",
       "      <th>8</th>\n",
       "      <td>탑텐 본사직영 쿨에어/티셔츠/폴로티/스웨터 외 특가</td>\n",
       "      <td>9,290원</td>\n",
       "    </tr>\n",
       "    <tr>\n",
       "      <th>9</th>\n",
       "      <td>불닭볶음면 140g 5입 멀티 x 3팩</td>\n",
       "      <td>13,260원</td>\n",
       "    </tr>\n",
       "  </tbody>\n",
       "</table>\n",
       "</div>"
      ],
      "text/plain": [
       "                                                상품이름        가격\n",
       "0  휴튼미플린하코트출판사가 만든 과학레벨드리더스 /Science and Engineer...  168,800원\n",
       "1  크로아상 크로플 생지 2250g (40~50개입) + 사과버터잼 100g 증정(쿠폰...   21,100원\n",
       "2                       더미식 백미밥 210g 24개+장인라면 컵라면 증정   23,900원\n",
       "3          (깨비농원) 고당도 천혜향 4.5kg 소과(28-36과)/20%+5% 쿠폰   30,900원\n",
       "4  태국 마하차녹 무지개 망고 2kg 9-10수 / 18680원 (25%쿠폰가) / 부...  SOLD OUT\n",
       "5                   에너자이저 알카라인 패밀리팩 건전지 AA24입+AAA24입   27,000원\n",
       "6  고창 김민상님의 황토밭 햇 꿀밤고구마 5kg 특상 / 쿠폰가 12680 (3/29 하루)   16,900원\n",
       "7                              훈제오리 슬라이스 800g + 800g   23,600원\n",
       "8                       탑텐 본사직영 쿨에어/티셔츠/폴로티/스웨터 외 특가    9,290원\n",
       "9                              불닭볶음면 140g 5입 멀티 x 3팩   13,260원"
      ]
     },
     "execution_count": 28,
     "metadata": {},
     "output_type": "execute_result"
    }
   ],
   "source": [
    "market_df"
   ]
  },
  {
   "cell_type": "markdown",
   "id": "c9ec35a3",
   "metadata": {},
   "source": [
    "###### req ~ bs 객체화 \n",
    "- 자동제어와 거리가 먼\n",
    "- select()\n",
    "- select_one()\n",
    "\n",
    "###### select_one()\n",
    "\n",
    "- 단수: 리스트가 아니라 단 한개만 나옴!\n",
    "    - 만일 데이터가 여러개있다면?\n",
    "    - 해당 목록 중 가장 첫번째에 있는 요소만 나옴\n",
    "    - ex) 리스트[0]\n",
    "- 복수 : 돌려주는 값이 [리스트] 형태임\n",
    "    - 만일 데이터가 한개만 있다면?\n",
    "    - [리스트에 감싸져서 한개만 나온다] \n",
    "    - 인덱싱이 무조건 필요하다\n",
    "        - why? 리스트는 연산이나 처리가 불가능\n",
    "        \n",
    "###### selenium\n",
    "- 자동제어\n",
    "- find_elements()\n",
    "- find_element()"
   ]
  },
  {
   "cell_type": "markdown",
   "id": "29acfbaa",
   "metadata": {},
   "source": [
    "###  크롤링의 순서! (프로세스)\n",
    "- 1. 화면 구성 : 크롬창에 데이터를 수집 할 준비\n",
    "- 2. 요소 수집 : 컴퓨터가 사용하는 HTML 형태의 데이터 수집\n",
    "- 3. 데이터 가공 : 수집된 요소에서 내가 필요한 정보만 추출\n",
    "    - 3-1. 비어있는 리스트에 내가 필요한 정보를 저장\n",
    "- 4. 데이터 활용 : 데이터프레임, 파일로 저장, DB로 저장"
   ]
  }
 ],
 "metadata": {
  "kernelspec": {
   "display_name": "Python 3 (ipykernel)",
   "language": "python",
   "name": "python3"
  },
  "language_info": {
   "codemirror_mode": {
    "name": "ipython",
    "version": 3
   },
   "file_extension": ".py",
   "mimetype": "text/x-python",
   "name": "python",
   "nbconvert_exporter": "python",
   "pygments_lexer": "ipython3",
   "version": "3.9.13"
  },
  "toc": {
   "base_numbering": 1,
   "nav_menu": {},
   "number_sections": true,
   "sideBar": true,
   "skip_h1_title": false,
   "title_cell": "Table of Contents",
   "title_sidebar": "Contents",
   "toc_cell": false,
   "toc_position": {},
   "toc_section_display": true,
   "toc_window_display": false
  },
  "varInspector": {
   "cols": {
    "lenName": 16,
    "lenType": 16,
    "lenVar": 40
   },
   "kernels_config": {
    "python": {
     "delete_cmd_postfix": "",
     "delete_cmd_prefix": "del ",
     "library": "var_list.py",
     "varRefreshCmd": "print(var_dic_list())"
    },
    "r": {
     "delete_cmd_postfix": ") ",
     "delete_cmd_prefix": "rm(",
     "library": "var_list.r",
     "varRefreshCmd": "cat(var_dic_list()) "
    }
   },
   "types_to_exclude": [
    "module",
    "function",
    "builtin_function_or_method",
    "instance",
    "_Feature"
   ],
   "window_display": false
  }
 },
 "nbformat": 4,
 "nbformat_minor": 5
}
