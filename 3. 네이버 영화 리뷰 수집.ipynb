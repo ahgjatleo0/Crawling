{
 "cells": [
  {
   "cell_type": "code",
   "execution_count": 74,
   "id": "2cac9664",
   "metadata": {
    "ExecuteTime": {
     "end_time": "2023-03-27T02:16:33.547383Z",
     "start_time": "2023-03-27T02:16:33.534339Z"
    }
   },
   "outputs": [],
   "source": [
    "# 라이브러리 로딩\n",
    "import requests as req\n",
    "from bs4 import BeautifulSoup as bs\n",
    "import pandas as pd\n",
    "\n",
    "# 요청할 때 지연시간을 주기 위한 라이브러리\n",
    "# 페이지가 변화할 때(로딩시간) 마다 지연시간을 주어야한다.\n",
    "import time"
   ]
  },
  {
   "cell_type": "code",
   "execution_count": 7,
   "id": "9b379354",
   "metadata": {
    "ExecuteTime": {
     "end_time": "2023-03-27T00:37:55.997087Z",
     "start_time": "2023-03-27T00:37:55.893243Z"
    }
   },
   "outputs": [],
   "source": [
    "url = 'https://movie.naver.com/movie/bi/mi/point.naver?code=81888'\n",
    "\n",
    "review = req.get(url)"
   ]
  },
  {
   "cell_type": "code",
   "execution_count": 8,
   "id": "2d593757",
   "metadata": {
    "ExecuteTime": {
     "end_time": "2023-03-27T00:37:57.195738Z",
     "start_time": "2023-03-27T00:37:57.109086Z"
    }
   },
   "outputs": [
    {
     "data": {
      "text/plain": [
       "[]"
      ]
     },
     "execution_count": 8,
     "metadata": {},
     "output_type": "execute_result"
    }
   ],
   "source": [
    "soup = bs(review.text, 'lxml')\n",
    "rev = soup.select('span#_filtered_ment_0')\n",
    "rev"
   ]
  },
  {
   "cell_type": "markdown",
   "id": "1e47cc22",
   "metadata": {},
   "source": [
    "### iframe과 첫 만남"
   ]
  },
  {
   "cell_type": "code",
   "execution_count": null,
   "id": "d52acf94",
   "metadata": {},
   "outputs": [],
   "source": [
    "# 처음부터 다시 요청/응답 받아주기\n",
    "# 크롤링 프로세스 그대로 진행하면서\n",
    "\n",
    "# 관람객+리뷰 10개 가져오기\n",
    "\n",
    "# 1. reple 변수에 담아주기\n",
    "# 2. len(reple) ==> 20개\n",
    "# 3. reple[3]"
   ]
  },
  {
   "cell_type": "code",
   "execution_count": 27,
   "id": "fe9d6d8b",
   "metadata": {
    "ExecuteTime": {
     "end_time": "2023-03-27T00:46:16.831190Z",
     "start_time": "2023-03-27T00:46:16.728461Z"
    }
   },
   "outputs": [],
   "source": [
    "url = 'https://movie.naver.com/movie/bi/mi/pointWriteFormList.naver?code=81888&type=after&isActualPointWriteExecute=false&isMileageSubscriptionAlready=false&isMileageSubscriptionReject=false'\n",
    "\n",
    "reple = req.get(url)"
   ]
  },
  {
   "cell_type": "code",
   "execution_count": 49,
   "id": "cb337c99",
   "metadata": {
    "ExecuteTime": {
     "end_time": "2023-03-27T01:13:43.451302Z",
     "start_time": "2023-03-27T01:13:43.420266Z"
    },
    "collapsed": true
   },
   "outputs": [
    {
     "data": {
      "text/plain": [
       "[<span class=\"ico_viewer\">관람객</span>,\n",
       " <span id=\"_filtered_ment_0\">\n",
       " \t\t\t\t\t\t\t\t\t\t\t\t\t\t\n",
       " \t\t\t\t\t\t\t\t\t\t\t\t\t\t\t\n",
       " \t\t\t\t\t\t\t\t\t\t\t\t\t\t\t\n",
       " \t\t\t\t\t\t\t\t\t\t\t\t\t\t\t\t평점 잘 안주는데 만점 줄려고 왔다 \n",
       " \t\t\t\t\t\t\t\t\t\t\t\t\t\t\t\n",
       " \t\t\t\t\t\t\t\t\t\t\t\t\t\t\n",
       " \t\t\t\t\t\t\t\t\t\t\t\t\t\t\n",
       " \t\t\t\t\t\t\t\t\t\t\t\t\t</span>,\n",
       " <span class=\"ico_viewer\">관람객</span>,\n",
       " <span id=\"_filtered_ment_1\">\n",
       " \t\t\t\t\t\t\t\t\t\t\t\t\t\t\n",
       " \t\t\t\t\t\t\t\t\t\t\t\t\t\t\t\n",
       " \t\t\t\t\t\t\t\t\t\t\t\t\t\t\t\n",
       " \t\t\t\t\t\t\t\t\t\t\t\t\t\t\t\t영화관이 필요한 이유 \n",
       " \t\t\t\t\t\t\t\t\t\t\t\t\t\t\t\n",
       " \t\t\t\t\t\t\t\t\t\t\t\t\t\t\n",
       " \t\t\t\t\t\t\t\t\t\t\t\t\t\t\n",
       " \t\t\t\t\t\t\t\t\t\t\t\t\t</span>,\n",
       " <span class=\"ico_viewer\">관람객</span>,\n",
       " <span id=\"_filtered_ment_2\">\n",
       " \t\t\t\t\t\t\t\t\t\t\t\t\t\t\n",
       " \t\t\t\t\t\t\t\t\t\t\t\t\t\t\t\n",
       " \t\t\t\t\t\t\t\t\t\t\t\t\t\t\t\n",
       " \t\t\t\t\t\t\t\t\t\t\t\t\t\t\t\t중국 애들은 불쌍타 나라 잘못 만나서 이런 영화를 극장에서 못보다니 ㅋㅋ \n",
       " \t\t\t\t\t\t\t\t\t\t\t\t\t\t\t\n",
       " \t\t\t\t\t\t\t\t\t\t\t\t\t\t\n",
       " \t\t\t\t\t\t\t\t\t\t\t\t\t\t\n",
       " \t\t\t\t\t\t\t\t\t\t\t\t\t</span>,\n",
       " <span class=\"ico_viewer\">관람객</span>,\n",
       " <span id=\"_filtered_ment_3\">\n",
       " \t\t\t\t\t\t\t\t\t\t\t\t\t\t\n",
       " \t\t\t\t\t\t\t\t\t\t\t\t\t\t\t\n",
       " \t\t\t\t\t\t\t\t\t\t\t\t\t\t\t\n",
       " \t\t\t\t\t\t\t\t\t\t\t\t\t\t\t\t감동의눈물 나올정도입니다. 평점10점급임.  내가 전투기 탄 기분이였음 \n",
       " \t\t\t\t\t\t\t\t\t\t\t\t\t\t\t\n",
       " \t\t\t\t\t\t\t\t\t\t\t\t\t\t\n",
       " \t\t\t\t\t\t\t\t\t\t\t\t\t\t\n",
       " \t\t\t\t\t\t\t\t\t\t\t\t\t</span>,\n",
       " <span class=\"ico_viewer\">관람객</span>,\n",
       " <span id=\"_filtered_ment_4\">\n",
       " \t\t\t\t\t\t\t\t\t\t\t\t\t\t\n",
       " \t\t\t\t\t\t\t\t\t\t\t\t\t\t\t\n",
       " \t\t\t\t\t\t\t\t\t\t\t\t\t\t\t\n",
       " \t\t\t\t\t\t\t\t\t\t\t\t\t\t\t\t이 시대의 마지막 액션스타, \"톰 크루즈\" \n",
       " \t\t\t\t\t\t\t\t\t\t\t\t\t\t\t\n",
       " \t\t\t\t\t\t\t\t\t\t\t\t\t\t\n",
       " \t\t\t\t\t\t\t\t\t\t\t\t\t\t\n",
       " \t\t\t\t\t\t\t\t\t\t\t\t\t</span>,\n",
       " <span class=\"ico_viewer\">관람객</span>,\n",
       " <span id=\"_filtered_ment_5\">\n",
       " <span class=\"_unfold_ment\" id=\"_unfold_ment5\">\n",
       " <a data-src=\"탑건1(1986년)의 36년만의 나온 속편. 매우 만족 스러웠고 매우 재밌었다 무조건 특별관에서 봐야되는 영화 2022년 개봉작 영화중에서 범죄도시2 이후 2번째로 엄청 좋았던 영화 톰 크루즈 미모는 여전히 잘생겼다 1편을 보고 가야되는 질문에서 답을 하자면 1편 보고 가는게 더 좋다 감동도 2배 더 느낄 수 있음 \" href=\"javascript:void(0);\" onclick=\"unfoldPointMent(this);\">\n",
       " \t\t\t\t\t\t\t\t\t\t\t\t\t\t\t\t\t\t탑건1(1986년)의 36년만의 나온 속편. 매우 만족 스러웠고 매우 재밌었다 무조건 특별관에서 봐야되는 영화 2022년 개봉작 영화중에서 범죄도시2 이후 2번째로 엄청 좋았던 영화 톰 크루즈 미모는 여전히 잘생겼다...\n",
       " \t\t\t\t\t\t\t\t\t\t\t\t\t\t\t\t\t</a>\n",
       " </span>\n",
       " </span>,\n",
       " <span class=\"ico_viewer\">관람객</span>,\n",
       " <span id=\"_filtered_ment_6\">\n",
       " \t\t\t\t\t\t\t\t\t\t\t\t\t\t\n",
       " \t\t\t\t\t\t\t\t\t\t\t\t\t\t\t\n",
       " \t\t\t\t\t\t\t\t\t\t\t\t\t\t\t\n",
       " \t\t\t\t\t\t\t\t\t\t\t\t\t\t\t\t다른 말이 필요한가 레.전.드 \n",
       " \t\t\t\t\t\t\t\t\t\t\t\t\t\t\t\n",
       " \t\t\t\t\t\t\t\t\t\t\t\t\t\t\n",
       " \t\t\t\t\t\t\t\t\t\t\t\t\t\t\n",
       " \t\t\t\t\t\t\t\t\t\t\t\t\t</span>,\n",
       " <span class=\"ico_viewer\">관람객</span>,\n",
       " <span id=\"_filtered_ment_7\">\n",
       " \t\t\t\t\t\t\t\t\t\t\t\t\t\t\n",
       " \t\t\t\t\t\t\t\t\t\t\t\t\t\t\t\n",
       " \t\t\t\t\t\t\t\t\t\t\t\t\t\t\t\n",
       " \t\t\t\t\t\t\t\t\t\t\t\t\t\t\t\t개쩐다 말이 필요없음 직접확인 \n",
       " \t\t\t\t\t\t\t\t\t\t\t\t\t\t\t\n",
       " \t\t\t\t\t\t\t\t\t\t\t\t\t\t\n",
       " \t\t\t\t\t\t\t\t\t\t\t\t\t\t\n",
       " \t\t\t\t\t\t\t\t\t\t\t\t\t</span>,\n",
       " <span class=\"ico_viewer\">관람객</span>,\n",
       " <span id=\"_filtered_ment_8\">\n",
       " \t\t\t\t\t\t\t\t\t\t\t\t\t\t\n",
       " \t\t\t\t\t\t\t\t\t\t\t\t\t\t\t\n",
       " \t\t\t\t\t\t\t\t\t\t\t\t\t\t\t\n",
       " \t\t\t\t\t\t\t\t\t\t\t\t\t\t\t\t감동까지 겸비한 최고의 블록버스터 \n",
       " \t\t\t\t\t\t\t\t\t\t\t\t\t\t\t\n",
       " \t\t\t\t\t\t\t\t\t\t\t\t\t\t\n",
       " \t\t\t\t\t\t\t\t\t\t\t\t\t\t\n",
       " \t\t\t\t\t\t\t\t\t\t\t\t\t</span>,\n",
       " <span class=\"ico_viewer\">관람객</span>,\n",
       " <span id=\"_filtered_ment_9\">\n",
       " \t\t\t\t\t\t\t\t\t\t\t\t\t\t\n",
       " \t\t\t\t\t\t\t\t\t\t\t\t\t\t\t\n",
       " \t\t\t\t\t\t\t\t\t\t\t\t\t\t\t\n",
       " \t\t\t\t\t\t\t\t\t\t\t\t\t\t\t\t지린다... 지려 할말이 없게 만듬.. \n",
       " \t\t\t\t\t\t\t\t\t\t\t\t\t\t\t\n",
       " \t\t\t\t\t\t\t\t\t\t\t\t\t\t\n",
       " \t\t\t\t\t\t\t\t\t\t\t\t\t\t\n",
       " \t\t\t\t\t\t\t\t\t\t\t\t\t</span>]"
      ]
     },
     "execution_count": 49,
     "metadata": {},
     "output_type": "execute_result"
    }
   ],
   "source": [
    "soup = bs(reple.text, 'lxml')\n",
    "rep = soup.select('div.score_reple > p > span')\n",
    "rep"
   ]
  },
  {
   "cell_type": "code",
   "execution_count": 50,
   "id": "ac87bdc2",
   "metadata": {
    "ExecuteTime": {
     "end_time": "2023-03-27T01:13:47.128151Z",
     "start_time": "2023-03-27T01:13:47.109151Z"
    }
   },
   "outputs": [
    {
     "data": {
      "text/plain": [
       "20"
      ]
     },
     "execution_count": 50,
     "metadata": {},
     "output_type": "execute_result"
    }
   ],
   "source": [
    "len(rep)\n",
    "    "
   ]
  },
  {
   "cell_type": "code",
   "execution_count": 52,
   "id": "64ee7494",
   "metadata": {
    "ExecuteTime": {
     "end_time": "2023-03-27T01:17:34.710088Z",
     "start_time": "2023-03-27T01:17:34.702049Z"
    }
   },
   "outputs": [
    {
     "data": {
      "text/plain": [
       "<span class=\"ico_viewer\">관람객</span>"
      ]
     },
     "execution_count": 52,
     "metadata": {},
     "output_type": "execute_result"
    }
   ],
   "source": [
    "rep[4]"
   ]
  },
  {
   "cell_type": "code",
   "execution_count": 61,
   "id": "922860b2",
   "metadata": {
    "ExecuteTime": {
     "end_time": "2023-03-27T01:25:58.109857Z",
     "start_time": "2023-03-27T01:25:58.097413Z"
    },
    "collapsed": true
   },
   "outputs": [
    {
     "name": "stdout",
     "output_type": "stream",
     "text": [
      "평점 잘 안주는데 만점 줄려고 왔다\n",
      "영화관이 필요한 이유\n",
      "중국 애들은 불쌍타 나라 잘못 만나서 이런 영화를 극장에서 못보다니 ㅋㅋ\n",
      "감동의눈물 나올정도입니다. 평점10점급임.  내가 전투기 탄 기분이였음\n",
      "이 시대의 마지막 액션스타, \"톰 크루즈\"\n",
      "탑건1(1986년)의 36년만의 나온 속편. 매우 만족 스러웠고 매우 재밌었다 무조건 특별관에서 봐야되는 영화 2022년 개봉작 영화중에서 범죄도시2 이후 2번째로 엄청 좋았던 영화 톰 크루즈 미모는 여전히 잘생겼다...\n",
      "다른 말이 필요한가 레.전.드\n",
      "개쩐다 말이 필요없음 직접확인\n",
      "감동까지 겸비한 최고의 블록버스터\n",
      "지린다... 지려 할말이 없게 만듬..\n"
     ]
    }
   ],
   "source": [
    "# 인덱스 짝수 : 관람객\n",
    "# 인덱스 홀수 : 리뷰 데이터\n",
    "\n",
    "for i in range(len(rep)) :\n",
    "    # 관람객을 제외하기 위해 홀수 인덱스에 있는 값만 출력\n",
    "    if i % 2 != 0 :\n",
    "        # 불필요한 공백들이 존재하기 떄문에 strip()함수를 활용해 공백 제거\n",
    "        print(rep[i].text.strip())\n"
   ]
  },
  {
   "cell_type": "code",
   "execution_count": null,
   "id": "07376ba6",
   "metadata": {},
   "outputs": [],
   "source": [
    "# 1~10 페이지의 리뷰데이터 수집\n",
    "# 다른 페이지를 요청하는 로직 구현 ==> URL 패턴 분석!"
   ]
  },
  {
   "cell_type": "code",
   "execution_count": 72,
   "id": "bb44906f",
   "metadata": {
    "ExecuteTime": {
     "end_time": "2023-03-27T01:45:14.438707Z",
     "start_time": "2023-03-27T01:45:13.366278Z"
    },
    "collapsed": true
   },
   "outputs": [
    {
     "name": "stdout",
     "output_type": "stream",
     "text": [
      "평점 잘 안주는데 만점 줄려고 왔다\n",
      "영화관이 필요한 이유\n",
      "중국 애들은 불쌍타 나라 잘못 만나서 이런 영화를 극장에서 못보다니 ㅋㅋ\n",
      "감동의눈물 나올정도입니다. 평점10점급임.  내가 전투기 탄 기분이였음\n",
      "이 시대의 마지막 액션스타, \"톰 크루즈\"\n",
      "탑건1(1986년)의 36년만의 나온 속편. 매우 만족 스러웠고 매우 재밌었다 무조건 특별관에서 봐야되는 영화 2022년 개봉작 영화중에서 범죄도시2 이후 2번째로 엄청 좋았던 영화 톰 크루즈 미모는 여전히 잘생겼다...\n",
      "다른 말이 필요한가 레.전.드\n",
      "개쩐다 말이 필요없음 직접확인\n",
      "감동까지 겸비한 최고의 블록버스터\n",
      "지린다... 지려 할말이 없게 만듬..\n",
      "영화관에서 탑건 보고 집에 가려고 차 핸들 잡는데 F-18 탄것도 아니면서 쓸데없이 비장해짐\n",
      "돌아가신 아버지가 탑건1을 좋아하셨는데 살아계시다면 꼭 함께 아이맥스관에서 관람하고 싶었어요 아버지와 함께 보는 기분으로 봤어요\n",
      "영화 보고 이렇게 기분 좋게 나왔던거 너무 오랜만인것같다 ㅋㅋㅋ\n",
      "CG시대에 실제 항공기 비행촬영을 한, OTT시대에도 왜 영화관이어야 하는지 새삼 알려준, 헐리우드 영화 황금기 그 시절 극장에서 박수치고 가슴뛰며 보던 그 흥분을 다시 느끼게 해준 영화! 오프닝 탑건 ANTHEM과...\n",
      "범죄도시2 재미있죠. 그런데 말입니다, 이거 한번 보고 오시죠.비행기 액션 영화인데 가슴이 웅장해지고 눈물 나올뻔함. 아니 진심 울컥했다니까요. 주변에서 눈물 삼키는 소리인지, 에어컨 때문에 추워서 코 훌쩍이는건진 ...\n",
      "기체 틀때 파일럿의 몸도 제껴 지니 나까지 심장이  터질듯했다. 미친 명화  탄생  10점 밖에  못 줘서  미안하다.탐형님 만수무강하시길\n",
      "마하10 별점10점!!\n",
      "매버릭은 낭만 그자체다 우리는 탐크루즈 시대의 살고있다\n",
      "미친영화 진심 미친영화특히 마지막 15분은 진짜 영화의 대비를 장식하는 역대 최고의 전투기씬. 톰 크루즈 커리어에 영원히 남을 올해 최고의 대작영화는 진짜 이렇게 만들어야 한다최고의 대작!!3번 보고 또 볼 예정\n",
      "3~40년을 건너뛰어 돌아온 것 만으로도 열광할 이유는 충분하다... 찬사를 보낸다.\n",
      "올해 본 영화 중에 가장 최고의 영화다... 기립박수 치고 싶은 심정\n",
      "역시 실망시키지 않는 천조국 영화 완전 미국 그 자체인 영화 미국인이 보면 국뽕이 한계치까지 차오르는 영화 미국이 자랑스러울 영화 진짜 미국의 군사력 전투력 파일럿 세계최고 영화의 영상미 연출 스토리 연기 모든게 완...\n",
      "평점 잘안주는데 만점입니다\n",
      "어 그냥 조용히 하고 그냥 보고와 후회는 절대 안해. 이런게 예술이지\n",
      "이 영화를 관람하는 데에 있어서 현금 10만원을 내라고 해도 10만원이 전혀 아깝지 않은 영화이다 역사에 길이 남을 영화...대박이라는 말 밖에 안나온다\n",
      "개봉일 용아맥 20시40분꺼 영화끝나고 좌립박수나옴 ㅋ\n",
      "이렇게 모든 부분에서 완벽한 영화가 천만이 넘어야 하거늘... 천만영화라는 것과 영화의 수준은 별개인가 봅니다.\n",
      "한국인인데 미국 국뽕이 차오르다니\n",
      "톰 크루즈와 동시대를 살고 있고 그가 나온 작품을 여전히 영화관에서 즐길 수 있다는 게 너무 감사하고 또 감사하다.\n",
      "1. 가슴이 웅장해진다. 말이 안나온다.2. 이게 진짜 영화다.3. 팬티 2장이 아니라 기저귀 차고 가야됨4. 일반 영화랑은 급이 다름 5. 밥 이재용 닮음\n",
      "내용은  뻔한데 단점을 씹어먹을정도로 전투연출이 기가막힘...\n",
      "영화 보는 와중에 울컥울컥한다. 이런 영화를 볼수 있음에 감독, 배우들에게 감사\n",
      "톰형님 코로나 상황에서 2년 넘게 개봉연기되면서도 끝까지 OTT선공개 거부해줘서 고맙습니다. 이걸 핸드폰으로 봤다고 생각하면 상상만 해도 어휴...\n",
      "중력가속도 받으면 다른 배우들은 더 못생겨지는데 톰형은 주름이 펴지면서 더 멋있어짐오토바이 탈 때는 진자 아직도 1편의 그 매버릭 같아 보이더라\n",
      "할리우드 영화사들이여, 계속 돈 벌고  싶은가? 그렇다면 생명 공학에 이빠이 투자해서 늦기 전에 톰 크루즈 복제 인간을 만들도록.\n",
      "나중에 폰으로 보고 \"별론데?\" 하지 말고 무조건 극장에서 봐라.\n",
      "영화관에 오는 관객을 위해 만든 영화라고 본다거지같은 PC 덕지덕지 붙이면서관객을 가르치려하는 영화들이 계속 쏟아져나오다가드디어 극장에서 봐야하는 재미있는 영화가 나왔다어려울거없다우리가 해야할건 그저 자리에 앉아 화...\n",
      "1편에서 봤던 인트로씬 이함장면과 danger zone 브금의 강렬한 인상의 감성을 2편에서 그대로 재현해서 시작부터 가슴이 너무 뛰었습니다. 올드팬들조차 충분히 전율시킬만한 그런 수작이네요.. OTT가 난무하는 요...\n",
      "시사회로 봤습니다. 주말에 2회차 바로 예약 해 놨습니다. 평점 처음 남겨봅니다. 영화관에서 안보면 평생 후회 할 영화..\n",
      "탑건1편 꼭 보고 가세요.보는 중간중간 눈물이 나는데 참느라 힘들었습니다.\n",
      "존잼. 남자들의 가슴에 불을 지피는 영화\n",
      "제대로 만든 속편의 모범 사례.  꼭 극장에서 보시길\n",
      "미친 개존잼 한국인인데 왜 미국 해군의 국뽕이 느껴지냐고\n",
      "CG로 점철되었던 디지털 시대에 모처럼 리얼이 주는 아날로그의 감동을 가져왔다. 영화적인 모든 것들이 과하지 않아 밸런스가 좋고, 항공액션씬은 역대 최고이며, 탐 크루즈는 여전히 최고다.\n",
      "근래 본 영화중 최고 톰형한테 감사하다\n",
      "후속작이 나오기엔 너무 늦지 않았나 했던 걱정을 마하 10의 속도로 날려버린다.\n",
      "남자들 다울고있음말도안되는 영화\n",
      "초반 비지엠부터 감동.\n",
      "생각하지마 최고니까.\n",
      "이건 그냥 봐야됨\n",
      "씨네마 역사상 지금까지 나온 모든 블록버스터 영화들 중에서 정석적인 방법으로 가장 잘 만든 블록버스터 영화라고 단언한다.영화관을 나오고, 앞으로 이 이상으로 블록버스터 영화를 만들 수 있을까 하는 의문이 생겼다.끝판...\n",
      "과거 명작의 속편들은 이렇게 만들어주세요... 제발\n",
      "이게 옳게된 액션영화지.. 이거지.. 잘만든 cg도 눈호강은 되지만 이렇게 생생한 액션은 역시 대체재가 없다 배우들을 전투기에 직접 태우다니 미쳤나 진짜 미친 액션이 나왔다 심지어 잔인한 장면도 야한 장면도 없어 불...\n",
      "극장 나오면서 또 다시 자리 결제하는 내 모습을 보았다\n",
      "진짜 액션으로 가슴 뜨거워지게 하는건 이 형이 최고다.\n",
      "초6 아들과 탑건을 같이 보게  될줄은 몰랐습니다.어벤져스 세대인 아들은 탑건이 어땠을 지도 궁금했구요.식상할 줄 알았지만 시작부터 끝까지 행복하게 관람했습니다. 무엇보다도 초6 아들이 아주 재미 있었다고 합니다.오...\n",
      "그냥 무조건 보세요 생각하지 마세요\n",
      "크루즈형 같이 늙어가줘서 고마워 이번영화는 진짜 최고야 ㅠㅠ\n",
      "이정도면 톰 크루즈가 극장으로 오라고 협박하는 수준.\n",
      "제발 이 영화를 꼭 봐주세요. 부탁합니다. 제발 봐주세요. 제발요. ott에서 보고 후회하지 마시고 제발 영화관가서 보세요. 저 지금 하루종일 탑건 생각만 하고 있어요. 다같이 탑건 얘기 해야 하니까 꼭 보세요 쩨발...\n",
      "평점 10만점이 부족한 영화입니다.최고의 항공영화호불호 없이 볼 수 있는 영화입니다.재미없이 본다는게 이상한 영화입니다.\n",
      "평점 달러 옴. 영화관이 사라질 수 없는 이유. 2만 3천원 내고 4dx로 봐도 안 아까움. IMAX는 차선일 뿐인 영화.\n",
      "무조건 극장에서 봐야하는 영화에요!\n",
      "극장이 존재해야 하는 이유. CG로 범벅된 영화보다 클래식하면서도 카타르시스를 충분히 느낄 수 있는 영화\n",
      "감동 그자체입니다. 톰 선생님 오래 오래 건강하세요\n",
      "오프닝 음악 듣는순간 전율,,,\n",
      "슬퍼서가 아니라 벅차올라서 눈물이 나는 영화가 얼마만인가\n",
      "톰형이 이갈고 만든느낌이예요 정말 너무 재미있었습니다!!\n",
      "앞으로 이런 영화를 볼 수 없다는 사실이 슬플 뿐입니다\n",
      "와.. 영화관에서 안봤으면 후회할뻔.. 진짜 개재밌다\n",
      "영화관에서 꼭 봐야됨\n",
      "진심으로 죤나 멋있어서 울었다....\n",
      "방금 봤는데 또 보고싶다..\n",
      "천만영화 줄 서봅니다.\n",
      "더할것 하나 없고 뺄 것 도 하나 없는 완벽한 후속작.정말 이렇게 모든면에서 완벽한 액션영화를 감상한게 얼마만인지...가벼운 팝콘영화 생각하고 갔다가 진짜 뒤통수 오지게 맞고 나옴. 진짜 너무너무 잘 만들었다.\n",
      "톰크루즈 는 위대하다.\n",
      "액션 영화 보고 눈물 흘릴 뻔한 적은 처음이다 정말 재밌다.\n",
      "미친영화다 ㅠㅜ 전편 가물가물한 사람들은 꼭 보고가길. 오프닝 부터 초반은 전작 오마주 서비스로 팬들에게 감동폭탄 퍼붓고 스토리는 전편과 연결이 자연스러우며 공중비행과 전투씬은 숨쉴 틈을 안주네. 구스와 함께하는 고...\n",
      "관객이 무엇을 원하는지 알고 제대로 만든 영화입니다. 구질구질한 감독의 숨은 의도나 갈아넣은 영혼 따위 파악할 필요도 없습니다. 그냥 명작입니다.\n",
      "영화관의 존재를 제대로 알린 영화!\n",
      "이게 영화고 이게 속편이지\n",
      "1편보다 나은 2편은 없다는 규칙을 깨버린 TOPGUN.별 10개도 부족하다.\n",
      "진짜 오지는데 생각보다 흥행을 못한ㄷㅏ..제바ㄹ 영화관에서 상영해줄때 보세요..ㅠㅠㅠ\n",
      "왠만해서 평점안다는데... 이건영화의 한계를 뛰어넘었음\n",
      "<탑건>이 고전이된 영화라면 <탑건: 매버릭>은 새로운 고전이 될 영화다.\n",
      "전투기 기동만으로 표값한다. 인위적인지 않고정말 멋짐\n",
      "영화를 이렇게 \"재밌게\" 보고 나온게 얼마만인지.. 감동 그잡채..\n",
      "진짜 재밌게 봄 믿고보는 톰 형 , 마녀2 의 스트레스를 날려버림 마녀2 보지마세요\n",
      "가능하다면 큰 화면으로 봐요 부탁 아니에요\n",
      "전작수준으로 생각하고 보았는데, 상상 이상의 영화였습니다. 역대급!\n",
      "국산이 외산을 따라가지 못한다는걸 또 한번 깨닫게 해준 영화..\n",
      "1보고 보면 더 빠져듭니다\n",
      "36년의 감동이 36배가 되어 돌아왔다\n",
      "22년 최고의 영화이자 왜 아직 극장이 필요한지 보여주는 영화. 영상미, 음향 모두 압도적이고, 스토리도 심플하지만 군더더기 없이 깔끔합니다. 전작 내용 알고 가면 등장인물들의 감정선에 더 깊이 몰입할수 있습니다. ...\n",
      "좀전에 4dx로 보고왔습니다. 4dx에 최적화된 영화입니다. 되도록 꼭 4dx로 보세요!!! 개인적으로 본 영화중 탑3안에 들정도로 최고였음\n",
      "탑건 세대라면 꼭 보세요.가슴이 미쳐날뜁니다.\n",
      "재미있게 관람했습니다\n",
      "PC랑 중꿔자본 없는거에서 만점\n",
      "이거 보려고 찐으로 36년 기다린 사람도 후회없게 만드는 영화\n",
      "분명 액션영화인데 영화가 끝나면 마음 한구석이 왠지모르게 아려온다 아주 오래된 친구를 잠시 다시 만났다가 바로 다시 기약없는 이별을 하고 나오는 감정이랄까..\n"
     ]
    }
   ],
   "source": [
    "# 문자열 포매팅을 활용한 방법\n",
    "for pageNo in range(1,11) :\n",
    "    \n",
    "    # url 페이지의 번호가 1~10 바뀌고 있음\n",
    "    url = 'https://movie.naver.com/movie/bi/mi/pointWriteFormList.naver?code=81888&type=after&isActualPointWriteExecute=false&isMileageSubscriptionAlready=false&isMileageSubscriptionReject=false&page={}'.format(pageNo)\n",
    "    \n",
    "    # 1. \n",
    "    # 매번 바뀔때마다 새로운 패이지를 요청/응답 받아줌\n",
    "    res = req.get(url)\n",
    "    \n",
    "    # 2.\n",
    "    # 매번 바뀔때마다 bs객체화 진행\n",
    "    soup = bs(res.text, 'lxml')\n",
    "    \n",
    "    # 3.\n",
    "    # 요소 정보 선택해오기\n",
    "    rep = soup.select('div.score_reple > p > span')\n",
    "    \n",
    "    # 4.\n",
    "    # 리뷰 데이터 가져오기 (관람객 제거ver)\n",
    "    for i in range(len(rep)) :\n",
    "        if i % 2 != 0 :\n",
    "            print(rep[i].text.strip())\n",
    "    "
   ]
  },
  {
   "cell_type": "code",
   "execution_count": 80,
   "id": "513c171e",
   "metadata": {
    "ExecuteTime": {
     "end_time": "2023-03-27T02:22:41.543928Z",
     "start_time": "2023-03-27T02:22:37.070951Z"
    },
    "collapsed": true
   },
   "outputs": [
    {
     "name": "stdout",
     "output_type": "stream",
     "text": [
      "[현재 페이지 변호 : 1]\n",
      "평점 잘 안주는데 만점 줄려고 왔다\n",
      "영화관이 필요한 이유\n",
      "중국 애들은 불쌍타 나라 잘못 만나서 이런 영화를 극장에서 못보다니 ㅋㅋ\n",
      "감동의눈물 나올정도입니다. 평점10점급임.  내가 전투기 탄 기분이였음\n",
      "이 시대의 마지막 액션스타, \"톰 크루즈\"\n",
      "탑건1(1986년)의 36년만의 나온 속편. 매우 만족 스러웠고 매우 재밌었다 무조건 특별관에서 봐야되는 영화 2022년 개봉작 영화중에서 범죄도시2 이후 2번째로 엄청 좋았던 영화 톰 크루즈 미모는 여전히 잘생겼다...\n",
      "다른 말이 필요한가 레.전.드\n",
      "개쩐다 말이 필요없음 직접확인\n",
      "감동까지 겸비한 최고의 블록버스터\n",
      "지린다... 지려 할말이 없게 만듬..\n",
      "[현재 페이지 변호 : 2]\n",
      "영화관에서 탑건 보고 집에 가려고 차 핸들 잡는데 F-18 탄것도 아니면서 쓸데없이 비장해짐\n",
      "돌아가신 아버지가 탑건1을 좋아하셨는데 살아계시다면 꼭 함께 아이맥스관에서 관람하고 싶었어요 아버지와 함께 보는 기분으로 봤어요\n",
      "영화 보고 이렇게 기분 좋게 나왔던거 너무 오랜만인것같다 ㅋㅋㅋ\n",
      "CG시대에 실제 항공기 비행촬영을 한, OTT시대에도 왜 영화관이어야 하는지 새삼 알려준, 헐리우드 영화 황금기 그 시절 극장에서 박수치고 가슴뛰며 보던 그 흥분을 다시 느끼게 해준 영화! 오프닝 탑건 ANTHEM과...\n",
      "범죄도시2 재미있죠. 그런데 말입니다, 이거 한번 보고 오시죠.비행기 액션 영화인데 가슴이 웅장해지고 눈물 나올뻔함. 아니 진심 울컥했다니까요. 주변에서 눈물 삼키는 소리인지, 에어컨 때문에 추워서 코 훌쩍이는건진 ...\n",
      "기체 틀때 파일럿의 몸도 제껴 지니 나까지 심장이  터질듯했다. 미친 명화  탄생  10점 밖에  못 줘서  미안하다.탐형님 만수무강하시길\n",
      "마하10 별점10점!!\n",
      "매버릭은 낭만 그자체다 우리는 탐크루즈 시대의 살고있다\n",
      "미친영화 진심 미친영화특히 마지막 15분은 진짜 영화의 대비를 장식하는 역대 최고의 전투기씬. 톰 크루즈 커리어에 영원히 남을 올해 최고의 대작영화는 진짜 이렇게 만들어야 한다최고의 대작!!3번 보고 또 볼 예정\n",
      "3~40년을 건너뛰어 돌아온 것 만으로도 열광할 이유는 충분하다... 찬사를 보낸다.\n",
      "[현재 페이지 변호 : 3]\n",
      "올해 본 영화 중에 가장 최고의 영화다... 기립박수 치고 싶은 심정\n",
      "역시 실망시키지 않는 천조국 영화 완전 미국 그 자체인 영화 미국인이 보면 국뽕이 한계치까지 차오르는 영화 미국이 자랑스러울 영화 진짜 미국의 군사력 전투력 파일럿 세계최고 영화의 영상미 연출 스토리 연기 모든게 완...\n",
      "평점 잘안주는데 만점입니다\n",
      "어 그냥 조용히 하고 그냥 보고와 후회는 절대 안해. 이런게 예술이지\n",
      "이 영화를 관람하는 데에 있어서 현금 10만원을 내라고 해도 10만원이 전혀 아깝지 않은 영화이다 역사에 길이 남을 영화...대박이라는 말 밖에 안나온다\n",
      "개봉일 용아맥 20시40분꺼 영화끝나고 좌립박수나옴 ㅋ\n",
      "이렇게 모든 부분에서 완벽한 영화가 천만이 넘어야 하거늘... 천만영화라는 것과 영화의 수준은 별개인가 봅니다.\n",
      "한국인인데 미국 국뽕이 차오르다니\n",
      "톰 크루즈와 동시대를 살고 있고 그가 나온 작품을 여전히 영화관에서 즐길 수 있다는 게 너무 감사하고 또 감사하다.\n",
      "1. 가슴이 웅장해진다. 말이 안나온다.2. 이게 진짜 영화다.3. 팬티 2장이 아니라 기저귀 차고 가야됨4. 일반 영화랑은 급이 다름 5. 밥 이재용 닮음\n",
      "[현재 페이지 변호 : 4]\n",
      "내용은  뻔한데 단점을 씹어먹을정도로 전투연출이 기가막힘...\n",
      "영화 보는 와중에 울컥울컥한다. 이런 영화를 볼수 있음에 감독, 배우들에게 감사\n",
      "톰형님 코로나 상황에서 2년 넘게 개봉연기되면서도 끝까지 OTT선공개 거부해줘서 고맙습니다. 이걸 핸드폰으로 봤다고 생각하면 상상만 해도 어휴...\n",
      "중력가속도 받으면 다른 배우들은 더 못생겨지는데 톰형은 주름이 펴지면서 더 멋있어짐오토바이 탈 때는 진자 아직도 1편의 그 매버릭 같아 보이더라\n",
      "할리우드 영화사들이여, 계속 돈 벌고  싶은가? 그렇다면 생명 공학에 이빠이 투자해서 늦기 전에 톰 크루즈 복제 인간을 만들도록.\n",
      "나중에 폰으로 보고 \"별론데?\" 하지 말고 무조건 극장에서 봐라.\n",
      "영화관에 오는 관객을 위해 만든 영화라고 본다거지같은 PC 덕지덕지 붙이면서관객을 가르치려하는 영화들이 계속 쏟아져나오다가드디어 극장에서 봐야하는 재미있는 영화가 나왔다어려울거없다우리가 해야할건 그저 자리에 앉아 화...\n",
      "1편에서 봤던 인트로씬 이함장면과 danger zone 브금의 강렬한 인상의 감성을 2편에서 그대로 재현해서 시작부터 가슴이 너무 뛰었습니다. 올드팬들조차 충분히 전율시킬만한 그런 수작이네요.. OTT가 난무하는 요...\n",
      "시사회로 봤습니다. 주말에 2회차 바로 예약 해 놨습니다. 평점 처음 남겨봅니다. 영화관에서 안보면 평생 후회 할 영화..\n",
      "탑건1편 꼭 보고 가세요.보는 중간중간 눈물이 나는데 참느라 힘들었습니다.\n"
     ]
    },
    {
     "ename": "KeyboardInterrupt",
     "evalue": "",
     "output_type": "error",
     "traceback": [
      "\u001b[1;31m---------------------------------------------------------------------------\u001b[0m",
      "\u001b[1;31mKeyboardInterrupt\u001b[0m                         Traceback (most recent call last)",
      "\u001b[1;32m~\\AppData\\Local\\Temp\\ipykernel_5856\\1866071076.py\u001b[0m in \u001b[0;36m<module>\u001b[1;34m\u001b[0m\n\u001b[0;32m     30\u001b[0m     \u001b[1;31m# 리뷰페이지 요청에 대한 딜레이(지연) 설정★\u001b[0m\u001b[1;33m\u001b[0m\u001b[1;33m\u001b[0m\u001b[0m\n\u001b[0;32m     31\u001b[0m     \u001b[1;31m# 네트워크 환경 속도에 따라 딜레이 시간을 잘 조율해줘야 함!!\u001b[0m\u001b[1;33m\u001b[0m\u001b[1;33m\u001b[0m\u001b[0m\n\u001b[1;32m---> 32\u001b[1;33m     \u001b[0mtime\u001b[0m\u001b[1;33m.\u001b[0m\u001b[0msleep\u001b[0m\u001b[1;33m(\u001b[0m\u001b[1;36m1\u001b[0m\u001b[1;33m)\u001b[0m\u001b[1;33m\u001b[0m\u001b[1;33m\u001b[0m\u001b[0m\n\u001b[0m\u001b[0;32m     33\u001b[0m \u001b[1;33m\u001b[0m\u001b[0m\n\u001b[0;32m     34\u001b[0m \u001b[0mprint\u001b[0m\u001b[1;33m(\u001b[0m\u001b[1;34m'수집완료!'\u001b[0m\u001b[1;33m)\u001b[0m\u001b[1;33m\u001b[0m\u001b[1;33m\u001b[0m\u001b[0m\n",
      "\u001b[1;31mKeyboardInterrupt\u001b[0m: "
     ]
    }
   ],
   "source": [
    "# get() 함수의 params 속성 활용\n",
    "for pageNo in range(1,11) :\n",
    "    \n",
    "    print('[현재 페이지 변호 : {}]'.format(pageNo))\n",
    "    \n",
    "    # url 페이지의 파라미터가 1~10 바뀌고 있음\n",
    "    url = 'https://movie.naver.com/movie/bi/mi/pointWriteFormList.naver?code=81888&type=after&isActualPointWriteExecute=false&isMileageSubscriptionAlready=false&isMileageSubscriptionReject=false'\n",
    "    \n",
    "    # 1. \n",
    "    # 매번 바뀔때마다 새로운 패이지를 요청/응답 받아줌\n",
    "    # page = ?\n",
    "    # params : url 주소 맨 뒤에 추가적으로 값을 넘겨줄 떄 사용하는 속성(딕셔너리)\n",
    "    # 'key' = value\n",
    "    res = req.get(url, params = {'page' :pageNo})\n",
    "    \n",
    "    # 2.\n",
    "    # 매번 바뀔때마다 bs객체화 진행\n",
    "    soup = bs(res.text, 'lxml')\n",
    "    \n",
    "    # 3.\n",
    "    # 요소 정보 선택해오기\n",
    "    rep = soup.select('div.score_reple > p > span')\n",
    "    \n",
    "    # 4.\n",
    "    # 리뷰 데이터 가져오기 (관람객 제거ver)\n",
    "    for i in range(len(rep)) :\n",
    "        if i % 2 != 0 :\n",
    "            print(rep[i].text.strip())\n",
    "            \n",
    "    # 리뷰페이지 요청에 대한 딜레이(지연) 설정★\n",
    "    # 네트워크 환경 속도에 따라 딜레이 시간을 잘 조율해줘야 함!!\n",
    "    time.sleep(1)\n",
    "    \n",
    "print('수집완료!')\n",
    "    "
   ]
  },
  {
   "cell_type": "markdown",
   "id": "8aa642b8",
   "metadata": {},
   "source": [
    "#####  이렇게 데이터를 수집한 다음 긍정/부정 리뷰 데이터의 개수 \n",
    "##### 특정 문구의 등장 빈도 어느정도인지 등 데이터 분석할 수 있는 과정으로 넘어갈 수 있다.\n",
    "\n",
    "- 분석/시각화 등을 진행하기 위해 텍스트 데이터를 저장"
   ]
  },
  {
   "cell_type": "markdown",
   "id": "1f40f877",
   "metadata": {},
   "source": [
    "###  파일 읽고 쓰기"
   ]
  },
  {
   "cell_type": "code",
   "execution_count": 83,
   "id": "cb7958f6",
   "metadata": {
    "ExecuteTime": {
     "end_time": "2023-03-27T02:32:29.553064Z",
     "start_time": "2023-03-27T02:32:29.542093Z"
    }
   },
   "outputs": [],
   "source": [
    "# open() : 파일 읽기/저장 하는 함수\n",
    "# f = open('파일경로/파일명.확장자')\n",
    "# 권한 : r, w(read, write)\n",
    "\n",
    "# 파일 객체 생성(쓰기)\n",
    "f = open('test.txt', 'w')\n",
    "\n",
    "# 쓰기\n",
    "# write()\n",
    "f.write('파일 저장 성공!!')\n",
    "\n",
    "# 닫기 중요\n",
    "f.close()"
   ]
  },
  {
   "cell_type": "code",
   "execution_count": 84,
   "id": "420e0ea1",
   "metadata": {
    "ExecuteTime": {
     "end_time": "2023-03-27T02:42:43.615261Z",
     "start_time": "2023-03-27T02:42:43.608226Z"
    }
   },
   "outputs": [
    {
     "name": "stdout",
     "output_type": "stream",
     "text": [
      "파일 저장 성공!!\n"
     ]
    }
   ],
   "source": [
    "# 파일 객체 생성 (읽기)\n",
    "f = open('test.txt', 'r')\n",
    "\n",
    "# 읽기\n",
    "# readline()\n",
    "data  = f.readline()\n",
    "\n",
    "# 닫기\n",
    "f.close()\n",
    "\n",
    "print(data)"
   ]
  },
  {
   "cell_type": "code",
   "execution_count": 85,
   "id": "a4053a57",
   "metadata": {
    "ExecuteTime": {
     "end_time": "2023-03-27T02:49:06.439799Z",
     "start_time": "2023-03-27T02:49:06.425672Z"
    }
   },
   "outputs": [],
   "source": [
    "# 리뷰 데이터를 저장 할 파일 객체 생성\n",
    "f = open('영화리뷰.txt', 'w')\n",
    "\n",
    "for i in range(len(rep)) :\n",
    "    if i % 2 != 0 :\n",
    "        f.write(rep[i].text.strip())\n",
    "        \n",
    "# 리뷰 데이터를 모두 저장한 후 파일 객체 종료(중요)\n",
    "f.close()"
   ]
  },
  {
   "cell_type": "code",
   "execution_count": 88,
   "id": "4228840a",
   "metadata": {
    "ExecuteTime": {
     "end_time": "2023-03-27T03:07:27.093539Z",
     "start_time": "2023-03-27T03:07:15.941485Z"
    }
   },
   "outputs": [
    {
     "name": "stdout",
     "output_type": "stream",
     "text": [
      "[현재 페이지 변호 : 1]\n",
      "[현재 페이지 변호 : 2]\n",
      "[현재 페이지 변호 : 3]\n",
      "[현재 페이지 변호 : 4]\n",
      "[현재 페이지 변호 : 5]\n",
      "[현재 페이지 변호 : 6]\n",
      "[현재 페이지 변호 : 7]\n",
      "[현재 페이지 변호 : 8]\n",
      "[현재 페이지 변호 : 9]\n",
      "[현재 페이지 변호 : 10]\n",
      "수집완료!\n"
     ]
    }
   ],
   "source": [
    "f = open('영화리뷰.txt', 'w')\n",
    "\n",
    "# get() 함수의 params 속성 활용\n",
    "for pageNo in range(1,11) :\n",
    "    \n",
    "    print('[현재 페이지 변호 : {}]'.format(pageNo))\n",
    "\n",
    "    url = 'https://movie.naver.com/movie/bi/mi/pointWriteFormList.naver?code=81888&type=after&isActualPointWriteExecute=false&isMileageSubscriptionAlready=false&isMileageSubscriptionReject=false'\n",
    "\n",
    "    res = req.get(url, params = {'page' :pageNo})\n",
    "\n",
    "    soup = bs(res.text, 'lxml')\n",
    "    \n",
    "\n",
    "    rep = soup.select('div.score_reple > p > span')\n",
    "\n",
    "    for i in range(len(rep)) :\n",
    "        if i % 2 != 0 :\n",
    "            f.write(rep[i].text.strip())\n",
    "\n",
    "    time.sleep(1)\n",
    "    \n",
    "print('수집완료!')\n",
    "    \n",
    "f.close()"
   ]
  },
  {
   "cell_type": "code",
   "execution_count": 95,
   "id": "c79b1720",
   "metadata": {
    "ExecuteTime": {
     "end_time": "2023-03-27T03:16:54.405829Z",
     "start_time": "2023-03-27T03:16:54.397851Z"
    }
   },
   "outputs": [],
   "source": [
    "# 네이버 영화 리뷰 수집\n",
    "\n",
    "# 네이버 영화 리뷰 데이터를 수집/파일로 저장하는 함수 정의\n",
    "\n",
    "def naver_reple(save_path, page) :\n",
    "    \n",
    "        f = open(save_path, 'w')\n",
    "\n",
    "        for pageNo in range(1, page + 1) :\n",
    "\n",
    "            url = 'https://movie.naver.com/movie/bi/mi/pointWriteFormList.naver?code=81888&type=after&isActualPointWriteExecute=false&isMileageSubscriptionAlready=false&isMileageSubscriptionReject=false'\n",
    "\n",
    "            res = req.get(url, params = {'page' :pageNo})\n",
    "\n",
    "            soup = bs(res.text, 'lxml')\n",
    "\n",
    "\n",
    "            rep = soup.select('div.score_reple > p > span')\n",
    "\n",
    "            for i in range(len(rep)) :\n",
    "                if i % 2 != 0 :\n",
    "                    f.write(rep[i].text.strip())\n",
    "\n",
    "            time.sleep(1)\n",
    "\n",
    "        print('수집완료!')\n",
    "\n",
    "        f.close()\n",
    "    "
   ]
  },
  {
   "cell_type": "code",
   "execution_count": 96,
   "id": "bd047330",
   "metadata": {
    "ExecuteTime": {
     "end_time": "2023-03-27T03:20:48.920369Z",
     "start_time": "2023-03-27T03:16:57.358623Z"
    }
   },
   "outputs": [
    {
     "name": "stdout",
     "output_type": "stream",
     "text": [
      "수집완료!\n"
     ]
    }
   ],
   "source": [
    "# 함수 사용해서 100개 페이지 수집.저장!\n",
    "\n",
    "naver_reple('영화리뷰 100페이지.txt', 100)"
   ]
  },
  {
   "cell_type": "code",
   "execution_count": 98,
   "id": "d1ebcb1c",
   "metadata": {
    "ExecuteTime": {
     "end_time": "2023-03-27T03:29:02.914734Z",
     "start_time": "2023-03-27T03:29:01.065782Z"
    },
    "collapsed": true
   },
   "outputs": [
    {
     "name": "stdout",
     "output_type": "stream",
     "text": [
      "Package                           Version\n",
      "--------------------------------- --------------------\n",
      "alabaster                         0.7.12\n",
      "anaconda-client                   1.11.0\n",
      "anaconda-navigator                2.3.1\n",
      "anaconda-project                  0.11.1\n",
      "anyio                             3.5.0\n",
      "appdirs                           1.4.4\n",
      "argon2-cffi                       21.3.0\n",
      "argon2-cffi-bindings              21.2.0\n",
      "arrow                             1.2.2\n",
      "astroid                           2.11.7\n",
      "astropy                           5.1\n",
      "atomicwrites                      1.4.0\n",
      "attrs                             21.4.0\n",
      "Automat                           20.2.0\n",
      "autopep8                          1.6.0\n",
      "Babel                             2.9.1\n",
      "backcall                          0.2.0\n",
      "backports.functools-lru-cache     1.6.4\n",
      "backports.tempfile                1.0\n",
      "backports.weakref                 1.0.post1\n",
      "bcrypt                            3.2.0\n",
      "beautifulsoup4                    4.11.1\n",
      "binaryornot                       0.4.4\n",
      "bitarray                          2.5.1\n",
      "bkcharts                          0.2\n",
      "black                             22.6.0\n",
      "bleach                            4.1.0\n",
      "bokeh                             2.4.3\n",
      "boto3                             1.24.28\n",
      "botocore                          1.27.28\n",
      "Bottleneck                        1.3.5\n",
      "brotlipy                          0.7.0\n",
      "certifi                           2022.9.14\n",
      "cffi                              1.15.1\n",
      "chardet                           4.0.0\n",
      "charset-normalizer                2.0.4\n",
      "click                             8.0.4\n",
      "cloudpickle                       2.0.0\n",
      "clyent                            1.2.2\n",
      "colorama                          0.4.5\n",
      "colorcet                          3.0.0\n",
      "comtypes                          1.1.10\n",
      "conda                             22.9.0\n",
      "conda-build                       3.22.0\n",
      "conda-content-trust               0.1.3\n",
      "conda-pack                        0.6.0\n",
      "conda-package-handling            1.9.0\n",
      "conda-repo-cli                    1.0.20\n",
      "conda-token                       0.4.0\n",
      "conda-verify                      3.4.2\n",
      "constantly                        15.1.0\n",
      "cookiecutter                      1.7.3\n",
      "cryptography                      37.0.1\n",
      "cssselect                         1.1.0\n",
      "cycler                            0.11.0\n",
      "Cython                            0.29.32\n",
      "cytoolz                           0.11.0\n",
      "daal4py                           2021.6.0\n",
      "dask                              2022.7.0\n",
      "datashader                        0.14.1\n",
      "datashape                         0.5.4\n",
      "debugpy                           1.5.1\n",
      "decorator                         5.1.1\n",
      "defusedxml                        0.7.1\n",
      "diff-match-patch                  20200713\n",
      "dill                              0.3.4\n",
      "distributed                       2022.7.0\n",
      "docutils                          0.18.1\n",
      "entrypoints                       0.4\n",
      "et-xmlfile                        1.1.0\n",
      "fastjsonschema                    2.16.2\n",
      "filelock                          3.6.0\n",
      "flake8                            4.0.1\n",
      "Flask                             1.1.2\n",
      "fonttools                         4.25.0\n",
      "fsspec                            2022.7.1\n",
      "future                            0.18.2\n",
      "gensim                            4.1.2\n",
      "glob2                             0.7\n",
      "greenlet                          1.1.1\n",
      "h5py                              3.7.0\n",
      "HeapDict                          1.0.1\n",
      "holoviews                         1.15.0\n",
      "hvplot                            0.8.0\n",
      "hyperlink                         21.0.0\n",
      "idna                              3.3\n",
      "imagecodecs                       2021.8.26\n",
      "imageio                           2.19.3\n",
      "imagesize                         1.4.1\n",
      "importlib-metadata                4.11.3\n",
      "incremental                       21.3.0\n",
      "inflection                        0.5.1\n",
      "iniconfig                         1.1.1\n",
      "intake                            0.6.5\n",
      "intervaltree                      3.1.0\n",
      "ipykernel                         6.15.2\n",
      "ipython                           7.31.1\n",
      "ipython-genutils                  0.2.0\n",
      "ipywidgets                        7.6.5\n",
      "isort                             5.9.3\n",
      "itemadapter                       0.3.0\n",
      "itemloaders                       1.0.4\n",
      "itsdangerous                      2.0.1\n",
      "jdcal                             1.4.1\n",
      "jedi                              0.18.1\n",
      "jellyfish                         0.9.0\n",
      "Jinja2                            2.11.3\n",
      "jinja2-time                       0.2.0\n",
      "jmespath                          0.10.0\n",
      "joblib                            1.1.0\n",
      "json5                             0.9.6\n",
      "jsonschema                        4.16.0\n",
      "jupyter                           1.0.0\n",
      "jupyter_client                    7.3.4\n",
      "jupyter-console                   6.4.3\n",
      "jupyter-contrib-core              0.4.2\n",
      "jupyter-contrib-nbextensions      0.7.0\n",
      "jupyter_core                      4.11.1\n",
      "jupyter-highlight-selected-word   0.2.0\n",
      "jupyter-nbextensions-configurator 0.6.1\n",
      "jupyter-server                    1.18.1\n",
      "jupyterlab                        3.4.4\n",
      "jupyterlab-pygments               0.1.2\n",
      "jupyterlab-server                 2.10.3\n",
      "jupyterlab-widgets                1.0.0\n",
      "jupyterthemes                     0.20.0\n",
      "keyring                           23.4.0\n",
      "kiwisolver                        1.4.2\n",
      "lazy-object-proxy                 1.6.0\n",
      "lesscpy                           0.15.1\n",
      "libarchive-c                      2.9\n",
      "llvmlite                          0.38.0\n",
      "locket                            1.0.0\n",
      "lxml                              4.9.1\n",
      "lz4                               3.1.3\n",
      "Markdown                          3.3.4\n",
      "MarkupSafe                        2.0.1\n",
      "matplotlib                        3.5.2\n",
      "matplotlib-inline                 0.1.6\n",
      "mccabe                            0.6.1\n",
      "menuinst                          1.4.19\n",
      "mistune                           0.8.4\n",
      "mkl-fft                           1.3.1\n",
      "mkl-random                        1.2.2\n",
      "mkl-service                       2.4.0\n",
      "mock                              4.0.3\n",
      "mpmath                            1.2.1\n",
      "msgpack                           1.0.3\n",
      "multipledispatch                  0.6.0\n",
      "munkres                           1.1.4\n",
      "mypy-extensions                   0.4.3\n",
      "navigator-updater                 0.3.0\n",
      "nbclassic                         0.3.5\n",
      "nbclient                          0.5.13\n",
      "nbconvert                         6.4.4\n",
      "nbformat                          5.5.0\n",
      "nest-asyncio                      1.5.5\n",
      "networkx                          2.8.4\n",
      "nltk                              3.7\n",
      "nose                              1.3.7\n",
      "notebook                          6.4.12\n",
      "numba                             0.55.1\n",
      "numexpr                           2.8.3\n",
      "numpy                             1.21.5\n",
      "numpydoc                          1.4.0\n",
      "olefile                           0.46\n",
      "openpyxl                          3.0.10\n",
      "packaging                         21.3\n",
      "pandas                            1.4.4\n",
      "pandocfilters                     1.5.0\n",
      "panel                             0.13.1\n",
      "param                             1.12.0\n",
      "paramiko                          2.8.1\n",
      "parsel                            1.6.0\n",
      "parso                             0.8.3\n",
      "partd                             1.2.0\n",
      "pathlib                           1.0.1\n",
      "pathspec                          0.9.0\n",
      "patsy                             0.5.2\n",
      "pep8                              1.7.1\n",
      "pexpect                           4.8.0\n",
      "pickleshare                       0.7.5\n",
      "Pillow                            9.2.0\n",
      "pip                               22.2.2\n",
      "pkginfo                           1.8.2\n",
      "platformdirs                      2.5.2\n",
      "plotly                            5.9.0\n",
      "pluggy                            1.0.0\n",
      "ply                               3.11\n",
      "poyo                              0.5.0\n",
      "prometheus-client                 0.14.1\n",
      "prompt-toolkit                    3.0.20\n",
      "Protego                           0.1.16\n",
      "psutil                            5.9.0\n",
      "ptyprocess                        0.7.0\n",
      "py                                1.11.0\n",
      "pyasn1                            0.4.8\n",
      "pyasn1-modules                    0.2.8\n",
      "pycodestyle                       2.8.0\n",
      "pycosat                           0.6.3\n",
      "pycparser                         2.21\n",
      "pyct                              0.4.8\n",
      "pycurl                            7.45.1\n",
      "PyDispatcher                      2.0.5\n",
      "pydocstyle                        6.1.1\n",
      "pyerfa                            2.0.0\n",
      "pyflakes                          2.4.0\n",
      "Pygments                          2.11.2\n",
      "PyHamcrest                        2.0.2\n",
      "PyJWT                             2.4.0\n",
      "pylint                            2.14.5\n",
      "pyls-spyder                       0.4.0\n",
      "PyNaCl                            1.5.0\n",
      "pyodbc                            4.0.34\n",
      "pyOpenSSL                         22.0.0\n",
      "pyparsing                         3.0.9\n",
      "pyrsistent                        0.18.0\n",
      "PySocks                           1.7.1\n",
      "pytest                            7.1.2\n",
      "python-dateutil                   2.8.2\n",
      "python-lsp-black                  1.0.0\n",
      "python-lsp-jsonrpc                1.0.0\n",
      "python-lsp-server                 1.3.3\n",
      "python-slugify                    5.0.2\n",
      "python-snappy                     0.6.0\n",
      "pytz                              2022.1\n",
      "pyviz-comms                       2.0.2\n",
      "PyWavelets                        1.3.0\n",
      "pywin32                           302\n",
      "pywin32-ctypes                    0.2.0\n",
      "pywinpty                          2.0.2\n",
      "PyYAML                            6.0\n",
      "pyzmq                             23.2.0\n",
      "QDarkStyle                        3.0.2\n",
      "qstylizer                         0.1.10\n",
      "QtAwesome                         1.0.3\n",
      "qtconsole                         5.2.2\n",
      "QtPy                              2.2.0\n",
      "queuelib                          1.5.0\n",
      "regex                             2022.7.9\n",
      "requests                          2.28.1\n",
      "requests-file                     1.5.1\n",
      "rope                              0.22.0\n",
      "Rtree                             0.9.7\n",
      "ruamel-yaml-conda                 0.15.100\n",
      "s3transfer                        0.6.0\n",
      "scikit-image                      0.19.2\n",
      "scikit-learn                      1.0.2\n",
      "scikit-learn-intelex              2021.20221004.171935\n",
      "scipy                             1.9.1\n",
      "Scrapy                            2.6.2\n",
      "seaborn                           0.11.2\n",
      "Send2Trash                        1.8.0\n",
      "service-identity                  18.1.0\n",
      "setuptools                        63.4.1\n",
      "sip                               4.19.13\n",
      "six                               1.16.0\n",
      "smart-open                        5.2.1\n",
      "sniffio                           1.2.0\n",
      "snowballstemmer                   2.2.0\n",
      "sortedcollections                 2.1.0\n",
      "sortedcontainers                  2.4.0\n",
      "soupsieve                         2.3.1\n",
      "Sphinx                            5.0.2\n",
      "sphinxcontrib-applehelp           1.0.2\n",
      "sphinxcontrib-devhelp             1.0.2\n",
      "sphinxcontrib-htmlhelp            2.0.0\n",
      "sphinxcontrib-jsmath              1.0.1\n",
      "sphinxcontrib-qthelp              1.0.3\n",
      "sphinxcontrib-serializinghtml     1.1.5\n",
      "spyder                            5.2.2\n",
      "spyder-kernels                    2.2.1\n",
      "SQLAlchemy                        1.4.39\n",
      "statsmodels                       0.13.2\n",
      "sympy                             1.10.1\n",
      "tables                            3.6.1\n",
      "tabulate                          0.8.10\n",
      "TBB                               0.2\n",
      "tblib                             1.7.0\n",
      "tenacity                          8.0.1\n",
      "terminado                         0.13.1\n",
      "testpath                          0.6.0\n",
      "text-unidecode                    1.3\n",
      "textdistance                      4.2.1\n",
      "threadpoolctl                     2.2.0\n",
      "three-merge                       0.1.1\n",
      "tifffile                          2021.7.2\n",
      "tinycss                           0.4\n",
      "tldextract                        3.2.0\n",
      "toml                              0.10.2\n",
      "tomli                             2.0.1\n",
      "tomlkit                           0.11.1\n",
      "toolz                             0.11.2\n",
      "tornado                           6.1\n",
      "tqdm                              4.64.1\n",
      "traitlets                         5.1.1\n",
      "Twisted                           22.2.0\n",
      "twisted-iocpsupport               1.0.2\n",
      "typing_extensions                 4.3.0\n",
      "ujson                             5.4.0\n",
      "Unidecode                         1.2.0\n",
      "urllib3                           1.26.11\n",
      "w3lib                             1.21.0\n",
      "watchdog                          2.1.6\n",
      "wcwidth                           0.2.5\n",
      "webencodings                      0.5.1\n",
      "websocket-client                  0.58.0\n",
      "Werkzeug                          2.0.3\n",
      "wheel                             0.37.1\n",
      "widgetsnbextension                3.5.2\n",
      "win-inet-pton                     1.1.0\n",
      "win-unicode-console               0.5\n",
      "wincertstore                      0.2\n",
      "wordcloud                         1.8.2.2\n",
      "wrapt                             1.14.1\n",
      "xarray                            0.20.1\n",
      "xlrd                              2.0.1\n",
      "XlsxWriter                        3.0.3\n",
      "xlwings                           0.27.15\n",
      "yapf                              0.31.0\n",
      "zict                              2.1.0\n",
      "zipp                              3.8.0\n",
      "zope.interface                    5.4.0\n"
     ]
    }
   ],
   "source": [
    "# 현재 설치되어 있는 라이브러리 리스트 출력(목록과 버전 확인 용도)\n",
    "# ! : 강제실행\n",
    "!pip list"
   ]
  },
  {
   "cell_type": "code",
   "execution_count": 97,
   "id": "9e19581e",
   "metadata": {
    "ExecuteTime": {
     "end_time": "2023-03-27T03:28:09.593605Z",
     "start_time": "2023-03-27T03:28:05.265269Z"
    },
    "collapsed": true
   },
   "outputs": [
    {
     "name": "stdout",
     "output_type": "stream",
     "text": [
      "Collecting wordcloud\n",
      "  Downloading wordcloud-1.8.2.2-cp39-cp39-win_amd64.whl (153 kB)\n",
      "     -------------------------------------- 153.1/153.1 kB 9.5 MB/s eta 0:00:00\n",
      "Requirement already satisfied: numpy>=1.6.1 in c:\\users\\smhrd\\anaconda3\\lib\\site-packages (from wordcloud) (1.21.5)\n",
      "Requirement already satisfied: pillow in c:\\users\\smhrd\\anaconda3\\lib\\site-packages (from wordcloud) (9.2.0)\n",
      "Requirement already satisfied: matplotlib in c:\\users\\smhrd\\anaconda3\\lib\\site-packages (from wordcloud) (3.5.2)\n",
      "Requirement already satisfied: pyparsing>=2.2.1 in c:\\users\\smhrd\\anaconda3\\lib\\site-packages (from matplotlib->wordcloud) (3.0.9)\n",
      "Requirement already satisfied: cycler>=0.10 in c:\\users\\smhrd\\anaconda3\\lib\\site-packages (from matplotlib->wordcloud) (0.11.0)\n",
      "Requirement already satisfied: fonttools>=4.22.0 in c:\\users\\smhrd\\anaconda3\\lib\\site-packages (from matplotlib->wordcloud) (4.25.0)\n",
      "Requirement already satisfied: packaging>=20.0 in c:\\users\\smhrd\\anaconda3\\lib\\site-packages (from matplotlib->wordcloud) (21.3)\n",
      "Requirement already satisfied: kiwisolver>=1.0.1 in c:\\users\\smhrd\\anaconda3\\lib\\site-packages (from matplotlib->wordcloud) (1.4.2)\n",
      "Requirement already satisfied: python-dateutil>=2.7 in c:\\users\\smhrd\\anaconda3\\lib\\site-packages (from matplotlib->wordcloud) (2.8.2)\n",
      "Requirement already satisfied: six>=1.5 in c:\\users\\smhrd\\anaconda3\\lib\\site-packages (from python-dateutil>=2.7->matplotlib->wordcloud) (1.16.0)\n",
      "Installing collected packages: wordcloud\n",
      "Successfully installed wordcloud-1.8.2.2\n"
     ]
    }
   ],
   "source": [
    "# 라이브러리 설치\n",
    "# !pip install 설치할 라이브러리명\n",
    "# !pip install 설치할 라이브러리명 == 버전(버전 맞추고 싶을 때)\n",
    "\n",
    "!pip install wordcloud"
   ]
  },
  {
   "cell_type": "code",
   "execution_count": null,
   "id": "f8735bdd",
   "metadata": {},
   "outputs": [],
   "source": [
    "# 텍스트 데이터를 단어로 구분한 다음 빈도수를 확인하는 라이브러리 (워드클라우드)"
   ]
  },
  {
   "cell_type": "code",
   "execution_count": 101,
   "id": "f6507d54",
   "metadata": {
    "ExecuteTime": {
     "end_time": "2023-03-27T03:36:37.194487Z",
     "start_time": "2023-03-27T03:36:36.457664Z"
    }
   },
   "outputs": [],
   "source": [
    "from wordcloud import WordCloud\n",
    "\n",
    "# 단어의 빈도수를 가지고 워드클라우드를 그리기 위함\n",
    "import matplotlib.pyplot as plt"
   ]
  },
  {
   "cell_type": "code",
   "execution_count": 102,
   "id": "58640e48",
   "metadata": {
    "ExecuteTime": {
     "end_time": "2023-03-27T03:37:29.699013Z",
     "start_time": "2023-03-27T03:37:29.674047Z"
    },
    "collapsed": true
   },
   "outputs": [
    {
     "data": {
      "text/plain": [
       "'평점 잘 안주는데 만점 줄려고 왔다영화관이 필요한 이유중국 애들은 불쌍타 나라 잘못 만나서 이런 영화를 극장에서 못보다니 ㅋㅋ감동의눈물 나올정도입니다. 평점10점급임.  내가 전투기 탄 기분이였음이 시대의 마지막 액션스타, \"톰 크루즈\"탑건1(1986년)의 36년만의 나온 속편. 매우 만족 스러웠고 매우 재밌었다 무조건 특별관에서 봐야되는 영화 2022년 개봉작 영화중에서 범죄도시2 이후 2번째로 엄청 좋았던 영화 톰 크루즈 미모는 여전히 잘생겼다...다른 말이 필요한가 레.전.드개쩐다 말이 필요없음 직접확인감동까지 겸비한 최고의 블록버스터지린다... 지려 할말이 없게 만듬..영화관에서 탑건 보고 집에 가려고 차 핸들 잡는데 F-18 탄것도 아니면서 쓸데없이 비장해짐돌아가신 아버지가 탑건1을 좋아하셨는데 살아계시다면 꼭 함께 아이맥스관에서 관람하고 싶었어요 아버지와 함께 보는 기분으로 봤어요영화 보고 이렇게 기분 좋게 나왔던거 너무 오랜만인것같다 ㅋㅋㅋCG시대에 실제 항공기 비행촬영을 한, OTT시대에도 왜 영화관이어야 하는지 새삼 알려준, 헐리우드 영화 황금기 그 시절 극장에서 박수치고 가슴뛰며 보던 그 흥분을 다시 느끼게 해준 영화! 오프닝 탑건 ANTHEM과...범죄도시2 재미있죠. 그런데 말입니다, 이거 한번 보고 오시죠.비행기 액션 영화인데 가슴이 웅장해지고 눈물 나올뻔함. 아니 진심 울컥했다니까요. 주변에서 눈물 삼키는 소리인지, 에어컨 때문에 추워서 코 훌쩍이는건진 ...기체 틀때 파일럿의 몸도 제껴 지니 나까지 심장이  터질듯했다. 미친 명화  탄생  10점 밖에  못 줘서  미안하다.탐형님 만수무강하시길마하10 별점10점!!매버릭은 낭만 그자체다 우리는 탐크루즈 시대의 살고있다미친영화 진심 미친영화특히 마지막 15분은 진짜 영화의 대비를 장식하는 역대 최고의 전투기씬. 톰 크루즈 커리어에 영원히 남을 올해 최고의 대작영화는 진짜 이렇게 만들어야 한다최고의 대작!!3번 보고 또 볼 예정3~40년을 건너뛰어 돌아온 것 만으로도 열광할 이유는 충분하다... 찬사를 보낸다.올해 본 영화 중에 가장 최고의 영화다... 기립박수 치고 싶은 심정역시 실망시키지 않는 천조국 영화 완전 미국 그 자체인 영화 미국인이 보면 국뽕이 한계치까지 차오르는 영화 미국이 자랑스러울 영화 진짜 미국의 군사력 전투력 파일럿 세계최고 영화의 영상미 연출 스토리 연기 모든게 완...평점 잘안주는데 만점입니다어 그냥 조용히 하고 그냥 보고와 후회는 절대 안해. 이런게 예술이지이 영화를 관람하는 데에 있어서 현금 10만원을 내라고 해도 10만원이 전혀 아깝지 않은 영화이다 역사에 길이 남을 영화...대박이라는 말 밖에 안나온다개봉일 용아맥 20시40분꺼 영화끝나고 좌립박수나옴 ㅋ이렇게 모든 부분에서 완벽한 영화가 천만이 넘어야 하거늘... 천만영화라는 것과 영화의 수준은 별개인가 봅니다.한국인인데 미국 국뽕이 차오르다니톰 크루즈와 동시대를 살고 있고 그가 나온 작품을 여전히 영화관에서 즐길 수 있다는 게 너무 감사하고 또 감사하다.1. 가슴이 웅장해진다. 말이 안나온다.2. 이게 진짜 영화다.3. 팬티 2장이 아니라 기저귀 차고 가야됨4. 일반 영화랑은 급이 다름 5. 밥 이재용 닮음내용은  뻔한데 단점을 씹어먹을정도로 전투연출이 기가막힘...영화 보는 와중에 울컥울컥한다. 이런 영화를 볼수 있음에 감독, 배우들에게 감사톰형님 코로나 상황에서 2년 넘게 개봉연기되면서도 끝까지 OTT선공개 거부해줘서 고맙습니다. 이걸 핸드폰으로 봤다고 생각하면 상상만 해도 어휴...중력가속도 받으면 다른 배우들은 더 못생겨지는데 톰형은 주름이 펴지면서 더 멋있어짐오토바이 탈 때는 진자 아직도 1편의 그 매버릭 같아 보이더라할리우드 영화사들이여, 계속 돈 벌고  싶은가? 그렇다면 생명 공학에 이빠이 투자해서 늦기 전에 톰 크루즈 복제 인간을 만들도록.나중에 폰으로 보고 \"별론데?\" 하지 말고 무조건 극장에서 봐라.영화관에 오는 관객을 위해 만든 영화라고 본다거지같은 PC 덕지덕지 붙이면서관객을 가르치려하는 영화들이 계속 쏟아져나오다가드디어 극장에서 봐야하는 재미있는 영화가 나왔다어려울거없다우리가 해야할건 그저 자리에 앉아 화...1편에서 봤던 인트로씬 이함장면과 danger zone 브금의 강렬한 인상의 감성을 2편에서 그대로 재현해서 시작부터 가슴이 너무 뛰었습니다. 올드팬들조차 충분히 전율시킬만한 그런 수작이네요.. OTT가 난무하는 요...시사회로 봤습니다. 주말에 2회차 바로 예약 해 놨습니다. 평점 처음 남겨봅니다. 영화관에서 안보면 평생 후회 할 영화..탑건1편 꼭 보고 가세요.보는 중간중간 눈물이 나는데 참느라 힘들었습니다.존잼. 남자들의 가슴에 불을 지피는 영화제대로 만든 속편의 모범 사례.  꼭 극장에서 보시길미친 개존잼 한국인인데 왜 미국 해군의 국뽕이 느껴지냐고CG로 점철되었던 디지털 시대에 모처럼 리얼이 주는 아날로그의 감동을 가져왔다. 영화적인 모든 것들이 과하지 않아 밸런스가 좋고, 항공액션씬은 역대 최고이며, 탐 크루즈는 여전히 최고다.근래 본 영화중 최고 톰형한테 감사하다후속작이 나오기엔 너무 늦지 않았나 했던 걱정을 마하 10의 속도로 날려버린다.남자들 다울고있음말도안되는 영화초반 비지엠부터 감동.생각하지마 최고니까.이건 그냥 봐야됨씨네마 역사상 지금까지 나온 모든 블록버스터 영화들 중에서 정석적인 방법으로 가장 잘 만든 블록버스터 영화라고 단언한다.영화관을 나오고, 앞으로 이 이상으로 블록버스터 영화를 만들 수 있을까 하는 의문이 생겼다.끝판...과거 명작의 속편들은 이렇게 만들어주세요... 제발이게 옳게된 액션영화지.. 이거지.. 잘만든 cg도 눈호강은 되지만 이렇게 생생한 액션은 역시 대체재가 없다 배우들을 전투기에 직접 태우다니 미쳤나 진짜 미친 액션이 나왔다 심지어 잔인한 장면도 야한 장면도 없어 불...극장 나오면서 또 다시 자리 결제하는 내 모습을 보았다진짜 액션으로 가슴 뜨거워지게 하는건 이 형이 최고다.초6 아들과 탑건을 같이 보게  될줄은 몰랐습니다.어벤져스 세대인 아들은 탑건이 어땠을 지도 궁금했구요.식상할 줄 알았지만 시작부터 끝까지 행복하게 관람했습니다. 무엇보다도 초6 아들이 아주 재미 있었다고 합니다.오...그냥 무조건 보세요 생각하지 마세요크루즈형 같이 늙어가줘서 고마워 이번영화는 진짜 최고야 ㅠㅠ이정도면 톰 크루즈가 극장으로 오라고 협박하는 수준.제발 이 영화를 꼭 봐주세요. 부탁합니다. 제발 봐주세요. 제발요. ott에서 보고 후회하지 마시고 제발 영화관가서 보세요. 저 지금 하루종일 탑건 생각만 하고 있어요. 다같이 탑건 얘기 해야 하니까 꼭 보세요 쩨발...평점 10만점이 부족한 영화입니다.최고의 항공영화호불호 없이 볼 수 있는 영화입니다.재미없이 본다는게 이상한 영화입니다.평점 달러 옴. 영화관이 사라질 수 없는 이유. 2만 3천원 내고 4dx로 봐도 안 아까움. IMAX는 차선일 뿐인 영화.무조건 극장에서 봐야하는 영화에요!극장이 존재해야 하는 이유. CG로 범벅된 영화보다 클래식하면서도 카타르시스를 충분히 느낄 수 있는 영화감동 그자체입니다. 톰 선생님 오래 오래 건강하세요오프닝 음악 듣는순간 전율,,,슬퍼서가 아니라 벅차올라서 눈물이 나는 영화가 얼마만인가톰형이 이갈고 만든느낌이예요 정말 너무 재미있었습니다!!앞으로 이런 영화를 볼 수 없다는 사실이 슬플 뿐입니다와.. 영화관에서 안봤으면 후회할뻔.. 진짜 개재밌다이게 영화고 이게 속편이지1편보다 나은 2편은 없다는 규칙을 깨버린 TOPGUN.별 10개도 부족하다.진짜 오지는데 생각보다 흥행을 못한ㄷㅏ..제바ㄹ 영화관에서 상영해줄때 보세요..ㅠㅠㅠ왠만해서 평점안다는데... 이건영화의 한계를 뛰어넘었음<탑건>이 고전이된 영화라면 <탑건: 매버릭>은 새로운 고전이 될 영화다.전투기 기동만으로 표값한다. 인위적인지 않고정말 멋짐영화를 이렇게 \"재밌게\" 보고 나온게 얼마만인지.. 감동 그잡채..진짜 재밌게 봄 믿고보는 톰 형 , 마녀2 의 스트레스를 날려버림 마녀2 보지마세요가능하다면 큰 화면으로 봐요 부탁 아니에요전작수준으로 생각하고 보았는데, 상상 이상의 영화였습니다. 역대급!있어보이는척 평달고 점수 내리는분들 누구보다 재밌게 봤으면서 돌려까지맙시다 돌려차기 한대맞습니다두번 말할 필요도없음 무조건 극장으로공군 출신인데 전투기 엔진음의 울림을 간만에 느껴서 좋았음 ㅋㅋcgv 4d로 보고 왔는데 이 영화는 무조건 영화관에서 봐야 됨 포드 V 페라리 보고나서 이런 건 영화관에서 봐야 되는구나 했는데 그런 느낌을 간만에 느...4dx로 다시 봤다. 내 선택은 역시 옳았다.팝콘무비의 정석 탐크루즈는 대단해 내가 12살이면 파일럿된다고 입대할듯올해 킹갓 영화임.. 뻔한 스토리임에도 몰입감이 쩔고 1편 안봤는데도 본것같음 감동을 준다..쥰내 재밌음 진짜토르 빨리 내리고 다시 스크린엑스 틀어줘라액션영화인데 왜 눈물이나지ㅜ무조건 4D로보세요~~ 톰형이랑 같이 제트기탄줄Don\\'t think about it. Just do it매우 미국스럽네요  그래서 정말 정말 재미있게봤습니다 ㅋ 미국 서부의 광활한 풍요로움과 여유가 담겼고 미국 황금기 8090년대스런 영화스타일을 그대로 잘 담아냈음  그리고 옷브랜드로 빗대자면 아베크롬비스럽달까100인치 티브이로 보더라도 ott따위는 아직 멀었다. 이것이 바로 영화.미국에서만 만들수 있는 영화...마지막 비행 전투 씬은 압권이였다...와!!이런 영화가 정말 그리웠다 진짜 최고다본편보다 나은 속편입니다극장이 왜 여전히 존재하는지 그 이유를 명확히 알려주는 영화아저씨에게는 눈물을 젊은이에게는 즐거움을 주는 영화와....탐크루즈는 나이먹어도 왜이리 멋있나요? 정말 처음부터 끝까지 너무 재밌게봤네요오랜만에 영화에서 느끼는 감동과 소름이었습니다. 한번 더보고 싶네요 하...돌비시네마에서 봤는데 굉장했고요. 전투기 소리가 ㄷㄷ아이맥스에서 한번 더 보면 좋겠는데,촌사람은 그저 웁니다ㅜㅜ잡념이 사라집니다10, 20대 미혼이 보기에는 그저 눈요기용 오락영화로 느껴질 수 있겠다.그렇지만 10대시절 아버지를 여의고 지금은 네살 아들을 키우며 매일 전쟁터같은 직장에 나가 전문분야에 치열하게 종사하면서 살아가는 40대를 목...제발 cgv 4dx 일주일만 열어줘아이맥스의 존재 이유, 극장이 존재해야만 하는 이유.토르 러브앤썬더, 닥터 스트레인지2 이런 마블 영화들이랑은 비교할 급이 안될 정도로 웰메이드 완전 잘 만든 작품이었다.우선 톰형의 지리는 연기력과 디테일한 전투기들의 연출은어우... 또 보러 가고싶다 ㅠ이보다 완벽한 후속작은 없다파라마운트 나올때부터 엔딩나올때까지 그냥 감동의 연속... 이렇게 잘만들수가..아이맥스에 다시 걸어주세요다들n차돌고있는데 왜 아이맥스 안줌늦둥이로 태어난 내가 우리아버지와 같은 나이에 탑건을 보았다.  1987년 17세셨던 아버지, 지금 17살인 나. 톰크루즈 형님이 젊었을적과 60이 넘으신 지금을 연결하는 의미가 있는 작품이라면 나에게는 그 시절 아...Danger Zone 쫙 깔리는 오프닝부터 석양을 비추는 엔딩까지 30여 년의 세월이 무색하구나 싶었음. 감동 포인트가 너무 많아서 다회차 가야겠습니다..안봤으면 인생2시간 손해본겁니다.pc에 마블이 오염되고 어벤저스 엔드게임 이후로 쓰레기같은 영화들만 보다가진짜 간만에 명작을 봐서 기쁘다인생살면서 똑같은 영화를 영화관에서 5번 볼줄은 몰랐다관람평 거의 10년만에 쓸 가치가 있는 영화훗날 톰크루즈가 액션 스턴트를 직접 못하더라도, 그를 영화에서 보지 못하더라도, 영화관에서 영화를 못보더라도, 그게 오늘은 아니다.이미 퇴역한지 오랜 기계공학의 정수들의 마지막 비행. 인력은 언젠가 AI, 드론으로 대체 되겠지만, 불완전한 인간만의 로망이 있다.영화를 극장에서 봐야만 하는 이유를 시작부터 끝까지 쉴 틈 없이 보여준 걸작. 내 생애 두 번 다시 이와 같이 같은 영화를 보기 위해 극장을 세번 네번 계속 갈 일이 또 있을까. 좋은 영화를 아득히 넘어선, 위대한 ...미국만이 보여줄수 있는 정통 헐리우드 톰크루즈의 리즈시절은 시간이 흘러 추억과 감동이 되어 가슴을 뭉클 거리게 만드는 명작1986년도를 뒤흔들었던 영화의 뜨거운 귀환. 이보다 더 완벽할 수 없기에 온전히 즐길 수 있는 미국인들이 좀 부럽기도올해의 최고 역대급이라고 칭할수 있는 영화, 톰 크루즈는 정말 대단한 배우.문화와 함께 나이들어가는 감동을 선사한 인생 최고의 영화.  다만 2022년 6월 25일 오후 7시 50분 잠실 롯데 시네마 21관 K열 10, 11번 좌석에서 본 커플은 반성해라. 영화 내내 핸드폰 볼꺼면 왜 극장...처음 장면부터 전율이 오더니 끝까지 감동 웃음 스케일 모든게 완벽함 탐은 내인생 최고의 배우!!! 이건 진짜영화관에서 봐야됨와 진짜 낭만 그 자체 ㅋㅋ스토리만 보면 옛날 영화긴 한데 아니 걍 개 멋짐 ㅋㅋ 추천합니다출연 배우들도 좋고 스토리도 좋고 너무너무 좋았던 영화 돈이 안아깝다세상에. 이 영화를 내리고 토르를 4DX에 걸다니 자원 낭비다!35년 전의 영화인 탑건을 보고 가야 영화의 장면과 배역들의 감정선, 스토리를 온전히 이해하면서 공감할 수 있음. 배우들의 열연이 돋보이는 비행 장면과 전투기의 전투 액션을 제대로 즐기고 싶다면 스크린이 큰 돌비 사...OTT로 개봉하자는 의견에 절대 안된다고 극장개봉 해야한다고 주장한 톰아저씨에게 감사의 인사를.. 꼭 영화관에서 봐야함명불허전이다. 첫장면에 배경음악듣는순간 끝났다.ㅎ여러번 전율을 선사해주는 영화.  특히중간에 매버릭 단독 비행씬이 압권...다들 숨죽이고 봄연기, 스토리, 감동, 그리고 톰쿠르즈.. 바이크탈때 그의 찐 행복 미소는 잊을 수 없다... 일을 즐기는 듯한 그 미소.. 나도 갖고싶다 이 한마디로 영화 평은 끝난다.젭알 영화관에서 꼭 보세요 존잼입니다두 번째 봤는데 감동이 사라지지 않음. 또 볼거임.메인 OST 나올때부터 가슴이 웅장해진다 ㅠㅜ 전작에 대한 예우를 갖춘 최고의 속편관람객관람객관람객관람객관람객올해 최고의 영화. 오랜만에 심장 뛴다. 뒤에 타고 싶어.한마디만 하겠음. 탐 크루즈 그다지 안 좋아했는데 이거 보고 팬됐다.덧붙이자면 감동과 재미, 모두 다 잡은 영화. 단언코 올해 본 영화 중 최고임.꼭 보세요.화려한 액션+가끔가다 나오는 코미디+억지스럽지 않은 감동이 어울려져서 너무 재밌었어요. 여태까지 봤던 액션 영화 중에 가장 재밌었던 것 같기도 해요ㅎㅎ 꼭 4DX로 보시는 걸 추천해요!나도 그와 함께 날다고등학교 시절 보았던 탑건.. 영화 초반 전편의 OST가 흐르면서 시작된 전율이 감동으로...전투기로 보여줄 수 있는건 모두 보여준 2022년 최고의 영화입니다. 용산 아이맥스에서 봤는데 전투기 씬 내내 전율이 가시질 않았어요탐 크루즈만이 할 수 있는 36년을 관통한 스토리의 감동!완벽했다 어릴적 TV에서 보던 헐리우드 영화 그 자체를 다시 느끼고옴 ㅎㅎㅎ 재미있습니다2022년 최고의 걸작이다.톰크루즈와 주변 인물들간의 감정선과 연출, 영상미에 감탄하면서 봤습니다. 특히 마지막 30분은 제가 파일럿이 되어 몰입해 속도감과 스릴, 통쾌함을 느꼈네요. 탑건1을 안보면 이해가 안되는 장면들이 있어 1을 보고 보...너무 재미있어서 영어이름 킴크루즈로 정했습니다. 육군복지근무지원단 출신으로 군부심 느껴졌습니다.영화관에서 안보면 후회할 영화1편에 대한 예우가 완벽하다할리우드는 이런 영화를 만들기 위해 존재한다는걸 보여준영화탑건의 속편이 나오기까지 오랜세월이 흘렀지만 톰크루즈 형님은 여전히 카리스마 넘치고, 더 멋있어진것 같은 느낌이 든다.전투기 조종조차도 본인이 거의 조종을 했다니 이 영화는 꼭 극장에서 관람해야한다.기대이상이네요   꼭 보세요아직도 극장에서 이 영화를 안 봤다면 당장 보세요. 이건 극장에서 봐야할 영화지 ott는 절대 아님.상업영화면 이걸 바이블삼아라~~~군더더기 하나읍다토르야 4dx 내놔라 ㅋㅋㅋㅋ이건 진짜 개 명작이다 가슴이 웅장해진다주변에서 보라보라해도 내 스타일 영화 아니라고 안보다가 억지로 한 번 봄. 그리고 코돌비 용아맥 용포디 여포디 수퍼G 롯데4D 컬러리움 스크린X까지 9번 봄그냥 미쳤어요 .. 꼭 보세요 제발높은 기대를 하고 가도 그 이상을 보게될것입니다.탐오빠 영화 찍어줘서 고마워요. 만수무강 하세요ㅠㅠ5번봤다.  이제더이상 탑건앓이 안했으면...역대급..말이필요없네요~영화관에서 꼭 보시길 추천드릴게요안본 눈 사고 싶습니다 진심으로 처음에 봤을때 느낌을 다시 느끼고 싶어....몇 번을 더 봐야 만족할 수 있을까.. 영화 보고 나오면서 또 다음 회차 예매하게 만드는 미친 영화뻔한데 존나 뻔한데 존나 재밌음.진짜 최고의 영화네요!보기전까진 탐크루즈가 몇 살인데..언제적 탑건인데..이런 생각이었는데. 진심 1분도 지루함 없이 몰입해서봤네요. 최고입니다.진짜 완벽한 영화였음....말이 필요없습니다 ... 영화 보는게 레어한 문화생활이었던 시절의 감성을 다시 느끼게 해준 영화...왜 영화관에서 영화를 보는지 알게 해주는 영화이 영화를 보고 내 인생을 돌아봄톰크루즈 나이가 60임60인데도 저렇게 영화에 혼신을 다할 수 있는가?애국심이 차올랐음아이맥스 보고 4dx 보고싶은데 망치든녀석으로 다 바꿨네 장사할 줄 모르는 cgv이 나이에 전투기 영화보면서 두근거릴 일인가탑건1 팬한테 정말 선물같은 영화웅장하다, 뭉클하다!!! 영원한 청춘 톰 크루즈를 위하여!처음으로 평점 남깁니다.처음으로 두번봣습니다..인생영화…29살인 나는 아빠랑 처음으로 영화관에 가서 같이 영화를 봤다! 이걸 시작으로 자주 볼 생각이다!인생 처음으로 두번 본 영화에요! 전투기 액션씬이 너무 재밋습니다인생 최고의 영화.  외계+인같은 쓰레기 영화 상영관 다  내리고 탑건 상영관좀 늘려줘라비행기 타고 전투한 느낌. 손을 꼭 부여잡고 긴장하면서 봤습니다. 시간은 순삭. 톰크루즈는 명불허전. 저 나이에 저렇게 멋있을 수가...극장이 필요한 이유, 바로 이 영화가 답.크 이것이야말로 전편을 넘어선 훌륭한 속편이라고 할 수 있습니다. 정말 뛰어나네요! 아이맥스로 꼭 보세요!!이보다 완벽한 2가 있을까톰 크루즈 영화를 보며 눈물이 날 줄은 정말 몰랐습니다. 그것도 신파눈물 말고요. 엄지 척입니다~와 ! 탑건 미쳤다. 너무 재밌음.. 올해 본 영화 중 제일 재밌게 봤음! 톰크루즈 너무 멋있음 ㅠㅠ인류 영화사에 한 획을 그었다.죄송합니다 36년전에 보신 분들 저는 27년만 기다렸네요;;영화 첫 장면에서 전율을 느꼈습니다.말이 필요없고 만점 주려고 들어왔습니다 아이맥스로만 3번 관람했습니다 천만이상 흥행했으면 좋겠네요영화보고 나도 모르게 고속도로에서 시속 130,140 올리며 희열을 느꼈다그냥 개쩜 할리우드 영화의 절정 극치 마스터피스진짜 일반인입니다 알바아닙니다꼭보세요2022년 올해의 영화.  무조건 아이맥스로 봐야합니다.  톰형은 그냥 레전드다.항공 액션의 황홀경, 요란하지않은 웅장함영화관이 존재하는 이유 그 자 체영화관에서 상영 내려갈 날만 생각하면 벌써 눈물이 앞을 가린다제발 연례행사로 상영 해주세요아이맥스로 못 본 게 한..속편을 만들 거라면 이렇게 만들길 최근 5년간 블록버스터 영화 중에 최고다결과를 예측할 수 있는 스토리임에도 불구하고 몰입감은 최고였고, 배우들의 연기또한 훌륭하네요. 톰크루즈는 전설 그자체입니다.평점 첨써보네. 다음주에 한번 더 보러 갈거 같다. 오랜만에 느껴보는 감동영화자체가 멋있다 걍… 올해 최고의 작품이 될듯. 그 시절의 낭만이 느껴지는 듯.오프닝 시퀀스 부터가 전율이었다꼭 영화관에서 보세요맨마지막에 레이디가가노래나올때 그렇게벅찰수가없음탑건 중독에서 빠져나올 수가 없음 일상 생활 불가임그냥 미쳤습니다. 영화관에서 느낄 수 있는 미덕을 모두 느끼게 해주는 명작이었습니다.제작비 1700억원. 이런 영화를 영화관에서 안보면 영화관 다 문 닫아야함.진짜 이건 극장에서 봐야함! 아이맥스 초 강추!!!용산 아이맥스 정중앙인 J열 24번에서 봤다. 이런 영화야말로 극장이, 아이맥스관이 존재해야 할 이유다. CG로 떡칠된 슈퍼히어로 영화에서는 느낄 수 없는 박진감과 긴장감이 느껴지는 진정한 대작. 영화 보고 나오는데...어릴적 토요명화로 접했던 그 느낌을 지금 성인이 돼 영화관에서 감상하니 계속 전율했습니다.토르 안보고 탑건 2번보는 내가 승리자~영화관이 존재해야 하는 이유, 톰 크루즈가 최고이자 최후의 무비스타인 이유레전드의 속편으로서 가장 좋은 예시오지게 재밌다. 영화관 4번 가기는 처음이다. 아직까지 안 봤다면 지금 상영하는 모든 영화를 제끼고 갈만 하다... 아니 가야만 한다.인생 첨으로 영화관에서 2번 보게 된 영화안봤으면 어쩔뻔인생 첫 평점인데 10점 줄라고 왔음스토리는 뻔한데 그게 마음을 편안하게 해줌.. 요상하게 한번더 보고 싶음.. ost 찾아서 자꾸 듣고 있음..재미있음 ㅠㅠ 너무 뒤늦게 알아서 4d나 스크린X를 못보게 돼서 너무 아쉬움 ㅠㅠ이렇게 만들거 아니면 후속편 제작하지마라OTT의 시대는 오겠지만 오늘은 아니야영화관에서 볼 가치가 있는 영화.내 생애 최초로 영화관가서 같은 영화를 여러번 보게함2022년 올해 극장에서 본 최고의 영화영화관에서 안보면 무조건 후회할 영화 내리기 전에 재관람 갑니다!영화를 좋아하지만 평점 댓글은 처음 남겨요정말 인생영화톰크루즈 안 늙었으면 좋겠어요수작을 넘어선 명작의 반열에 오를 영화!감동적영화 본 후 아직도 여운이 남습니다. 영상미와 더불어 음향 너무 좋습니다. 영화관에서 꼭 보세요.전투기 비행 장면의 긴장감, 압도감은 어떤 영화도 따라잡을 수 없다. 2022년 최고의 비행 영화.오... 정말 간만에 등장한 마블 히어로물 이외의 수작! 꼬맹이때 전투기뽕 졸업 했다고 믿었는데, 그게 아니더군요. 친숙한? F-18 보는데 엄청 멋지게 보이게... 나는 아직도 전투기 좋아하는듯왜 775만 봤지? 4천만은 본줄진짜 영화관에서 보기 잘했다관람객관람객관람객관람객관람객관람객관람객씨지에 절여진 눈을 리얼액션으로 정화가히 영화관에서 본 영화중 최고 전율을 받았다.진짜 제 인생영화로 등극했습니다. 영화관에서 볼 수 있다는게 감사한 영화지렸다 댓글 처음 남겨봐요톰에 의한 관객을 위한 톰의 영화.역시 탐크루즈!! 클래스는 영원하다!! 무더운 여름, 시원한 액션이 온몸을시원하게 해주는.. 완전 최고였다!!탑건을 보고 탑건:매버릭을 봐야한다그래야 매버릭과 루스터의 감정선을 이해 가능하고마지막에 감정이 폭발함을 느낄 수 있다진짜 올해 최고의 영화최고다. 또 볼란다. 아이맥스로 봐야지뻔한데 개재밌음.. 또 볼거임오랜만에 제대로 된 미국의 블록버스터 맛을 본 느낌입니다. 후반부 액션은 최고Don\\'t think, Just do무슨 말을..봐라 두번 봐라영화관에서 상영할 때 빨리 보세요...언젠간 영화관이 필요 없어지는 날이 오겠지, 하지만 오늘은 아니야레전드 속편의 귀환 믿고보는 스타 톰크루즈다시봐도 재밌고 감동적인 영화Don\\'t think. just watch it.극장에서 두번 안보는데 이건 첨으로 봤다솔직히 평점 처음 주거든요? 안 줄 수가 없어요VOD로 보면 후회될 영화미국 국뽕이 들어갔을 거란 생각은 애초부터 하고 관람해서 거부감은 크게 들지 않았습니다.무엇보다 이거 cg 안쓰고 톰형 직접 연기했다던데... 영화보다가 중간에 톰형 제발 수명대로는 끝까지 살아줘.. 라는 생각이 들...후속작은 이렇게 만들어야 한다는걸 보여준 영화영화관에서 네 번 본 명작입니다. CG가 아니라 실제 전투기 탑승해서 찍은 장면들이 정말 압권입니다.OTT의 시대에도 왜 극장을 가야하는지 보여주는 영화CGV 4DX 돌려주세요 ㅠㅠㅠㅠ진짜 올해 최고의 영화다...토르 아이맥스 내리고 다시 탑건 올려주ㅓ돈이 아깝지 않고 이런 영화를 만들어줘서 고맙다탑건 1 개봉했을 땐 태어나지도 않았던 사람인데도 너무 재밌어서 집에 와서 탑건1보고 또 보러 갔다. 만점 주려고 머리털 나고 처음으로 네이버 평점 쓴다 이 영화를 극장에서 안보면 님 손해마블 광팬인데도 오랜만에 CG에 절여지지 않은 영화를 보니 감동이 더욱 크네요. 유료시사로 보고, 용아맥에서 보고, 4DX로 또 볼 예정이에요.영화관이 더이상 필요한가 했던 시대에 그래도 역시 영화관에서 봐야하는 영...원래 댓글 잘 안다는데 너무 재밌게 봐서 댓글 남겨요 명작입니다!말이 필요없다.역대 최고의 액션배우 탐크루즈.꼭 영화관에서 봐야될 영화심하게 과몰입 중. 1편 나왔을 때 공군 입대하는 사람이 폭증했다는 말을 이제 믿는다. 나도 할 수 있다면 했을 듯..탑건 1에 이어서 톰 크루즈는 여전히 멋있네요이 맛에 영화관에서 영화 보는거지평점 절대 안주는데 만점주러 옴진짜 소름돋는 영화.모든게 완벽(음악,연출 등등)했고시간가는줄모르게 몰입도가 개쩔었다.실제로 전투기를 타서 그런가 전혀 이질감이 1도 없었다.톰 형은 여전히 멋있고, 미해군도 개 멋있다1편을 꼭 보고 가세요. 1편에...오늘 4DX로 6회차 보고 왔습니다. 영화를 4DX로 본건 처음인데...솔직히 말하면 멀미 나서 좀 힘들었습니다. 아마 이건 늙어서 그런거 같고...ㅠㅜ 제가 말하고 싶은건 이겁니다. OTT도 올라왔고 볼 만큼 봤다...미쳤다.. 진짜..별점 처음 남겨보는데, 별점 남기려고 들어옴주제에 집중한 스토리, 뇌절없이 적당한 선에서 끊은 로맨스씬, 가슴 웅장해지는 전투기씬, ost랑 분위기에 찰떡같이 어울리는 해변씬 모든게 완벽함. 무엇보다 스토리에 지장주는 억지pc, 주입식 교훈 없어서 즐기기 좋...그냥... 완벽한 귀환이라고 밖에는...그냥 봐야함. 영화관에서 안보고 나중에 집에서 보면 땅을 치고 후회할 확률100%.탑건: 매버릭을 보다보면 탑건1을 오마주한 장면, 1편의 등장인물(아이스맨, 페니(페니는 1편에서 이름만 언급됨)), 1편의 ost가...모든 요소가 완벽했고 30년이 넘는 세월 동안 꾸준한 관리와 작품 활동으로 이런 명작을 볼 수 있게 만들어준 톰 크루즈께 너무 감사하다이건 10점 만점 그 이상의 점수를 주고싶다코로나로 인해 개봉이 연기되어충분한 시간을 두고 완성도를 높일 수 있었던 부분이 명작을 탄생시킨게 아닐까그동안 3년동안 코로나로 고생한 우리에게 선물같은 영화가 아닐까 생각...내 인생 최고의 영화 중 하나!  연출과 ost가 나의 심금을 울렸다영화 초반은 지루한 척도 해보지만 이 미션에 지루할 수 없는걸 알고 하는 짓이다올해 본 영화 중에서 가장 재미있었습니다.몰입도가 엄청나서 숨도 안 쉬어질 정도였습니다. 개인적으로 올해 무슨 영화가 나와도 이기기 힘들거 같다는 생각입니다이미 n회차를 달렸는데도 영화관에서 내려갈까봐 조마조마한 영화는 처음이랄까빌어먹을 PC가 시장을 망치고 있는 판에 혜성처럼 나타나 우리의 갈증을 채워준 영화이자, 스크린의 존재 이유를 충분히 보여준 영화.영화관에서 영화 보는 게 이렇게 좋은 거구나 깨닫게 해준 영화.. 영화관에서 못 본 사람들...안타깝다눈물이 앞을가린다 내 인생영화 등극..톰크루즈가 ott 개봉 막고 영화관 고집했다는 이유를 영화보고나니 너무나 이해했습니다 1편 안봐도 재밌지만 보면 영화 오프닝부터 느끼는 감정이 다르긴 합니다 되도록 영화관에서 보세요.진짜 완벽했음 해변씬은 진짜 길이길이 남을 장면이다..평가하는것도 송구스럽다이번까지 4회차!! 영화관의 존재이유를 설명해주는 최고의 영화4D로 한번더 보고싶다진짜 제발 보세요!!! ㅠㅠㅠ정말 처음부터 심장뛰는 영화는 이게 처음입니다 톰크루즈 아저씨 정말 건강하게 오래오래 이런 영화 만들어주세요전통적인 오리지날 미국맛. T2 이후 최고의 속편. 탑건 4DX는 전국민이 한번씩은 꼭 앉아봐야함. 오늘 비상선언 꼬라지보니 4D 다시 걸릴듯..영화관에서 처음 보면서 소름돋은적이 거의 한번도 없는 여자임. 그 어벤져스 엔드게임 어셈블 전투장면때 정도?근데 이 영화보면서 진짜 계속 소름돋았음 최소 다섯번이상 ㅋㅋ 인생에서 4회차 하는 유일한 영화가 됨(영화관...아이맥스와 포디로 못 본 게 한입니다언젠간 OTT의 시대가 오겠죠, 그런데 오늘은 아닙니다톰크루즈의 현실감각이 대단하다. 신파도 없고 과몰입도 없고 딱 바라던대로의 재미다. 알고 당할거라는 생각이 들었지만 상상 이상의 재미였다.CG가 범람한 시대에진짜 헐리우드 영화가 무엇인지 보여준 영화중국자본에 찌들은 요즘 미국영화와 다른 자신감넘치는 완벽한 영화뻔하고 예측가능한데 왜 울컥하냐 전투기 액션 최고이 영화는 극장에서 영화를 봐야할 이유를 알려준다안보면 ㄹㅇ 인생절반손해4d 관람 놓친 게 젤 안타까움명작... 너무재미있고 부모님과 함께 즐길수있었다이거 극장에서 4디로 안보면 인생낭비한거임 경고했음액션 영화는 재미없다는 와이프의 코를 이영화로 눌럿습니다극장이 왜 있는가 생각하게 되는 영화. 특별관에서 봐야 그 진가가 드러나는게 아쉽지만, 시각적 체험을 할 수  있어 짜릿하고 감동적이다.영화관 존재의 가치.30년이 지나 나온 완벽한 속편제가 태어나서 처음으로 극장에서 두 전 본 영화에요최고입니다극장에서는 이런걸 봐야함전투기에 대한 이해가 엄청 높은 느낌? 스크린 내려가기 전에 보세요. 꼭 영화관에서 봤음하는 영화스포일러가 포함된 감상평입니다. 감상평 보기관람객관람객관람객오랜만에 감동으로 울었다 !2000년이 넘어서 나온 영화중 최고인생영화급입니다 두번봤습니다영화에 이렇게 몰입한게 얼마만인지 정말 오랜만에 제대로 즐김. 영화 본 후 일주일이나 지난 지금도 탑건 관련 영상은 계속 보게 된다.전 엄청 울었어요. 톰크루즈 너무 멋있어ㅠㅠ탐크루즈를 아직도 볼수있는것만으로도축복이다아주 조아료 너무 재미씀아이맥스 재개봉 기원짧은기간에 두번본 영화는 이게 처음종소리만 들어도 가슴이 뛴다..저도 뒤에 태워주시면 안돼요?완벽하다…이런게 영화지…보헤미안 랩소디 이후로 재탕뛰게 만든 영화이게 영화지이건 꼭 극장가서 보기를 추천함. 한마디로 개지림!매버릭의, 매버릭에 의한, 매버릭을 위한 영화. 노장은 죽지 않는다. 다만 사라질뿐!옳게 된 추억팔이영화 한번본건 다시안보는데처음으로 재상영하고 싶어졌다주인공이 탐크루즈가 아닌탐크루즈+본인(나)로 만들어버리는 매직!앞으로 다른 작품에서 뛰어넘을수 있을까싶을 정도의 역대 4D영화의 원톱!아이맥스보다는 4D를 추천합니다.오프닝부터 엔딩까지 탐형과  전투기를같이 타고 직...젊은 세대를 노스탤지어 속으로 끌어들이는 완벽한 방법평이 높은 이유가 있었다  훈련장면 보고 봐서 그런지 비행할때 같이 숨죽여서 본듯제 점수는 10점입니다.또 보러 갑니다 이번에는 아이맥스 영화관에서 보려구요 70세 엄마도 또 보고싶다 하시네요현재까지 올해 최고의 영화최근 몇년간 본 영화 중 최고네요.보는 내내 심장이 뛰어 너무 좋았어요.파일럿 체험영화. 이렇게 몰입해서 영화를 본 게 얼마만인지탑건앞에선 남자의 눈물도 너그럽지올해 본 최고의 영화. 처음으로 n차라는 걸 해봤다.티켓값이 많이 올라서 나중에 볼까 고민했는데또 봐야할 것 같습니다.. 두번보세요영화 n차찍는 사람 이해 안갔었는데..이젠 그게 내가 되벌임뻔하지만 재밌게 만드는건 쉬운 일이 아니다.영화관에서 왠만하면 2번 보지 않는다. 넷플같은데 올라오길 기다리지. 근데 영화관에서 2번봤다. 안보면 후회할거 같아서.cgv4dx 다시 올려주세요부탁드립니다일반관, 스크린x로는 봤지만 4dx로 못본게 한 이네요22년도 최고의 영화라고 판단요근래 본 최고의 영화완벽한 오락영화. 톰크루즈는 전설로 남을듯...내 인생 최고의 영화 몇 번이고 봐도 절대 질리지 않을 감동을 선사하는 영화였다시간지나는줄 모르고 봄, 군더더기없이 깔끔, 전투기 전투기술 멋짐, 끝나고 선택한 나 칭찬.근 몇년 동안 본 영화중에 최고36년만의 후속편은 이래야한다. 군더더기 없이 깔끔함. 완벽하진 않지만 완전해진 매버릭. 탑건2가 아니라 탑건 : 매버릭인 이유.핫…22년도에 본 영화 중에 탑건2가 원탑????????난 내가 이렇게 영화를 좋아하는줄 몰랐다. 두근거리고 짜릿하고 눈물이 났다.1편을 몇배로 업그레이드시켜버렸네요 진짜 너무너무 재밌습니다 보고난지 며칠이 지났는데도 아직도 두근거려요 액션씬 정말 대박이고 배우들도 다들 연기 잘합니다 캐릭터들도 매력적이고그냥 미쳤음. 꼭 극장에서 보시길..무조건 극장에서 봐야 될 영화영화관의 존재 이유....모든 면에서 크게 발전한 속편이자 웰메이드 블록버스터의 대표작이 될만하다!이런 영화만 있으면 인생이 행복할 것 같다.살면서 이 영화를 아이맥스로 볼 수 있었음에 감사할 정도였다.이게 영화지..그저 톰형의 자연사만 바랄뿐극장에서 2번보고 싶어진 영화가 몇년만인지.영화관에서 봐야만 하는 영화영화관 자체를 잘 가지 않는 스타일인데 처음 보고 나오자마자 딱 들었던 생각이 \\'너무 깔끔하게 잘 만들어졌다\\' 였다. 그리고 자꾸 생각나고 다시 보고 기분 좋아지는 경험을 하고 싶다는 생각이 들게 하는...개봉한지 꽤 됐는데도 4D관에 사람이 꽉 찼던... 재밌게 봤습니다안봤으면 큰일날뻔..가슴이 웅장해진다3번 봤는데 또 보고 싶으면 개추 ㅋㅋ킬링타임으로 생각하고 들어왔다가 감탄하고 나왔습니다. 끝물이라서 안볼까 했는데 내리기 전에 봐서 다행위인전도 아닌데 톰 크루즈를 존경하게 만드는 영화.너무 감동적이었다 그리고 한번더 보고싶다알려줘.구스! 왜 명작인지돈주고 볼만하다 두번볼만하다감동했음관람전 탑건 1편은 필수시청.속편은 항상 전편보다 못하다는 편견은 탑건2는 해당되지 않을듯 하다.진짜 재밌음. 그 오프닝곡 흘러나오면 아직도 심장이 꼼질거림네이버 영화 평점 처음 주는거 같네. 10점이 아니라 100점짜리 있어야 함. 과거에 평점 줄려고 들어온 기억이 없는데... 이 영화만큼은 반드시 영화관에서 봐야 함. 말이나 글로는 표현할 수 없는 무언가가 분명히 ...관람객관람객관람객관람객관람객관람객함께해서 영광이었습니다 캡틴왜 아직도 아날로그 스타가 필요한지에 대한 영화추억을 오마주한 창의적인 연출력, 그리고 무서운 익숙함아날로그감성 너무좋음 몰입도 미쳤다올해 최고의 영화\\'이렇게 이야기가 흘러가면 재밌지 않을까\\'를 모두 실현시켜준 영화! 후반부에는 내가 전투기에 탄 것처럼 짜릿했다기승전결이 완벽한 최고의 속편!톰크루즈형 간지 쩐다 ㅠㅠ 마지막에 감동받아서 눈물나올뻔 ㅜ블록버스터 영화의 정석이자 정점 아닐까 하네요꼭 영화관에서 봐야하는 영화, 절대 지각을 해서는 안되는 영화, 안보면 안보는거지 ott로 볼 생각은 하지말고 문화의날에라도 달려가길일반 2D 로 보고 IMAX, 4D 로도 다시 보기는 난생 처음이다. 우리에게 왜 다운로드 사이트가 아닌 영화관이 필요한지를 알려주는 영화. 초딩 이후, 35년을 기다려왔다.이런 영화를 보기 위해 영화관에 간다관람객관람객관람객관람객2D 보고 이번주 4DX로 또보러갑니다..왜보러가시는지는 다들아시죠? 지립니다..대작이 괜히 대작이 아니다. 오랜만에 영화다운 영화.전편에 대한 향수와 오마주, 그 이상을 뛰어넘어 36년의 기다림을 더할 나위 없는 만족감과 감동으로 채워준 130분.내가 본 역대 최고 영화다처음부터 끝까지 소름이 돋음기대보다 더 더 더 만족스러운 2편이게 영화지 .. 시간 어디로감?꼼꼼하게 챙길 거 다 챙기면서.. 훨씬 더 나은 모습으로 다시 돌아온.. 모든 걸 다 잡은 속편..전투기씬은 미쳤다그냥 ㅋㅋㅋ연출한 사람,..,., 사랑해요탑건1편을 재미있게 보신분이라면 이번편도 후회하지 않을겁니다.와~ 진짜 넋을 잃고 봤어요. 톰 크루즈 그는 대체!! 스토리도 영상미도 모두모두 훌륭합니다.11번봣음 또볼거임…내가 생애 처음으로. 평점남긴다용산 아이맥스 다시 열렸다말이 필요 없는 인생영화... 3회 관람 했습니다씨이이이벌 진짜존나재밌다..하존나 재밌음 ㄹㅇ 무조건 보셈아니 이 영화 뭐에요?!!일산에서 포디로 봤는데 진짜 끝내주네요!! 올해 본 영화중 단연 최고! 포드v페라리만큼 재밌었어요. 나중에 상영관 다시 열어주셔서 꼭 다들 포디로 보셨으면 좋겠어요.미국인 아닌데 미국뽕 터질뻔함전작을 보지 않았지만 크게 이해가지 않는 부분은 없었다. 스토리와 액션에 몰입해서 봤다. 영화관에서 보길 잘했다는 생각이 든 영화.4dx로봤는데 4dx screen으로 또 못봐서 아쉽네요 토르개봉한다고 2주만에 특별관끝난거 개빡치네여 ㅠㅠ 4주정도해주지..전투기 액션신..이 영화는 걍 영화관에서 안보면 후회함영화관이 존재하는 이유... 매버릭은 이 영화로 신이 되었다이런 영화를 돈주고 봐야지평점 처음입니다 아주 잼있습니다~~~~두 번, 세 번 영화관에서 또 보고 싶은 영화정말 이 영화는 극장용이에요.극장에서 안보면 후회합니다.방금 보고 왔는데...탑건 1 좋아하던 사람들은, 무조건 극장에서 보세요. 무조건.그냥 가슴이 웅장해진다...30대 초반이라 탑건 1은 못봤습니다. 나중에 찾아볼 수 있었지만 안봤어요. 근데 2만 봐도 재밌네요.1을 보고 갔으면 감동포인트들이 좀 달랐겠단 생각이 듭니다.제 생각에 이 영화는 뭔가 뽕의 집합체 같아요.이거 어...인생 영화로 등극함 역대급임오늘 5회차 했어. 다음주에 또 볼꺼야...꼭 보세요 두번 보세요 톰크루즈님 만수무강하시고 3탄 주세요탑건을 초딩때 보고 파일럿을 꿈꿨다… F-14 아카데미 프라모델로 만족했다. 탑건 매버릭을 보고울었다. Danger Zone 오프닝에… 도그 파이터… 45살 내 인생과 같았다.오랜만에 할리우드액션감성 좋았음야간 근무 마치고 조조로 봤는데 돌비시네마의 전투기 소리에 졸음이 달아났고스토리와 영상에 아드레날린이 덩달아 나왔는지 정오가 다 되었는데도 졸리지 않을만큼 올해 본 최고의 영화!탑건 매버릭 -> 탑건 1(1986) -> 탑건 매버릭 이 순서로 보면 극락영화관에서 봐야되는 영화라는게 딱 맞는 말이었네요. 연기가 신박하다 이런건 아니지만 정말 좋은 엔터테인먼트 영화.새로운 기술은 나날이 늘어가지만 그럼에도 인간의 한계를 극복하고 나아가는 이에게 눈물과 함께 박수를 보내게 되는 영화. 이 영화는 영화관에서 봐야 진가를 제대로 느낄 수 있다.솔직히 이런 장르 별로 안좋아했는데.. 영화관 가보고 생각이 달라짐 그냥 정말 재밌고.. 영화관에서 봐야하는 영화다 라는 생각이에요.음향하나만 봐도 영화관에서 볼 이유 충분4DX로 봐주세요 제발36년 전 1편을 봤던 중학생이지천명이 되어 2편을 봤다. 하나의 길을 묵묵하고 성실하게 걸어온 아는 형님을 보는마음이었다. 나의 우상이었던 매버릭, 아이스맨 다시 봬서 반가웠습니다. 형님들..!용아맥 용포디로 스엑으로 봤는데, 매번 새롭게 재미있었다. 기분이 좋아질 필요가 있을 때마다 보고 싶음. 계속 상영하면 또 보러갈 것 같은 느낌.남자의 심금을 울리는 영화이건 만점이지탑건1을 보지않았어도 이해하는데 무리가 없었다압도적인 스케일에 놀랐고 재밌었다6번 관람했다...남자들이 좋아하는거 다 나옴..이영화는 무조건 영화관에서 봐야합니다정말 오랜만에 영화를 봤네요이 작품에 평가를 논할 수 있을까꼭  사운드관으로가서보세요~영화관 내리기전에 후다닥!!내 인생 처음으로 한 영화를 10번 넘게 본건 탑건이 처음. 톰 크루즈 도대체 뭘 만든겁니까. 재료부터 비율까지 갓벽한 김치찌개의 향연.TOP GUN = CINEMA단언컨대 올해 최고의 영화. 봐도봐도 안 질린다.탐형은 사랑입니다. 그의 진정성 있는 연기가 가슴을 울립니다.감상포인트를 추천해주라는데 이건 전부다 선택해야겠는데요....? 최고의 작품입니다저희 아들 꿈이 파일럿인데 아들아 보고 또 보고 싶다고 해서 벌써5번을 봤네요.!! 제가 탑건1울 중학생땨 보고36년에만에 나온거네요 톰크루즈는 연세가 61세 되고도 잘생겼네요톰 크루즈가 왜 탑인지 알수있다OTT가 쏟아져도 영화관에 가야하는 이유톰형 타임어택 찍을때 지림2년만에 본 영화중 최고의 선택톰형 ... 건강하게 오래오래 살아서 영화에 계속 나와줘마블영화, pc영화에 지친 사람들의 눈과 귀를 시원하게 씼어주는 영화Talk to me, Goose.이정도 영화라면 얼마든지 극장에서 돈주고 볼 의향이 있음정말 미치도록 재밌다 하 미치겠다전작에 대한 예우가 무엇인지 보여주는 진정한 탑 오브 탑.. 20대엔 충격을 50대엔 선물을 준 톰형 고맙습니다 그리고 현재 후두암으로 투병중인 킬머형님을 보게 되어 그것만으로 고맙습니다 쾌차하시길..올해 본 영화 중 최고미친 개 재밌어!! 이게 바로 블록버스터 영화지!!진짜 오랜만에 영화다운거 본듯합니다꼭보세요성공한 시리즈물은 어설픈 세대교체보다 건재한 레전드를 부각시킨다정말 재미있게 봤어요 또 보고 싶네요몇번을 다시봐도 감동아 뭐 비행기.. 지루하겠다 하면서 기대 1도 안했는데 영화 보는 내내 우와 하면서 눈 초롱초롱하게 봤음 그리고 4D로 재관람함톰크루즈가 2에 다시 나온다는 것만으로도 의미가 있다. 스토리도 좋지만 비행 장면 연출이 꽤나 실감나고 멋있고 흥미진진함. 엔차할수록 재밌다.진짜미친영화임 꼭4DX로 보세요 돈아낀다고 2D로봤다가 10분만에 후회하고 4DX로 2차뛰러감처음부터 끝까지 다 예측되는 스토리인데 진짜 구라안까고 심장부여잡으면서 혼자 욕하면서봄1편보다 재밌는 2편 오랜만….영화관에서 꼭 봐야한다액션영화인데 이상하게 울컥했다...두번보려고 내일도 예매함.네이버 평점 처음 남겨보는데 만점 주려고 왓어요 톰크루즈 최고전투기 액션장면 연출 진짜 압도적인 퀄리티네요...빵빵한 사운드랑 화면에서 보여주는 전투기 비행장면 입체감이 장난 아닙니다.4d나 아이맥스로 꼭 보시는걸 추천함너무 재미있게 잘봤습니다. 극장의 가치를 증명하는 영상미와 ost 였어요.늘어지지 않는 확실하고 굵은 스토리에 굵직한 연출과 실감나는 액션. 일반관에서도 빨려들어가는 몰입감. 긴장과 감동의 조화.아쉬웠던 점( 조연들의 출연비율이 아쉬웠음.)하지만 연출력과 연기력으로 커버.막판에 진짜 재미있네 ㅎㅎ전투기신은 하나하나 다 머릿속에 박제하고 싶었네요. 멋있는 톰형도 완전 취향저격이었습니다.주말에 가족들과 또 보러 가려구요!탑건2에 걸맞게 스토리를 잘짠듯. 비행씬 전투씬 연출이 좋아서 영화관 관람 추천합니다.오랫만에 시간가는 중 모르고 감상했습니다.더 할 나위 없었다! 올해 최고의 영화!두시간동안 지루함이 한번도 느껴지지 않았던 영화2022년 영화 중 가장 재밌었던 영화가 될 것 같다.아 ㅋㅋ 이건 만점 안 줄 수가 없지 ㅋㅋㅋ오프닝부터 그냥 미침 눈 돎올해 최고의 영화흑흑흑....이런게 할리우드구나클리셰가 아닌 클래식 진부함이 아닌 풍부함 톰크루즈 아닌 메버릭 그 자체일반관에서 보고, 일반관에서 한 번 더 보고, 이거 특별관에서 안 보면 후회하겠다 싶어서 돌비시네마로 또 보고, 이제는 4DX로 안 보면 나중에 후회하겠다 싶어 또 4DX도 예매한 영화.너무너무너무 재밌다 안 본 사...무조건 4DX로 보세요!!!뻔한데 안뻔함...예상가능한데 긴장되고 기대됨톰크루즈는 왜 저나이에도 웃는게 멋있을까살다살다 영화관에서 박수 치는 거 처음 봤어요물론 저도 물개박수 침미쳤어 개재밌음 너무 재밌어서 3번봄인생 최고의 영화중 하나! 마스터 피스! 토르 때문에 4dx 빨리 내린게 아쉽다..인류의 문화 유산 +1하 시기 놓치지 마시고지금 상영할 때 영화관에서 꼭 보시길 바랍니다영화보고 이렇게 감동과 희열을 느끼는건 정말 오랜만이에요톰크루즈 아저씨가 아니라 오빠다...진짜 오랜만에 영화다운 영화를 봤다전형적인 미국식 국뽕 영화지만 밉지 않고 짜릿한 쾌감마저 주는 영화. 4DX영화관에서 보는 걸 추천오프닝부터 눈물 주룩주룩올해 최고의 영화도무지 흠 잡을 수 없다. 10점으론 모자르다. 톰크루즈 커리어 ???? 작품너무재미있다.... 또 보고 싶어요4DX로 안 보면 평생후회내가 톰크루즈보다 탑건 더 많이 봤을듯...영화에 약을 친것이 분명하다 봐도 봐도 재미있고 역시 씨지 없이 촬영한게 정말 신의 한수인듯 화면이 시원시원하고 눈에 걸리는게 없다아직 안 본 사람 있으면 스스로를 위해 제발 영화관에서 내리기 전에 보길 바람ㅋㅋㅋ나는 이거 보기 위해 이 시대에 태어났나 싶음35살 내 인생 최고의 영화모든 부분에서 퍼펙트개존잼 눈물글썽임,,이런게 바로 영화관 영화다10점 만점에 10.4점정지 상태에서 마하 10까지 거침없이 날아가 관객들 마음 속 표적에 정확히 명중시키는 영화탑건1을 안 봤다 = 감동100 탑건1 요약만 봤다 = 감동 200 탑건1 정주행 후 봤다 = 감동500분명한건 이 영화는 클래식이 될 것 이다.이걸보고나니 문득 마블영화 넘 유치해서 못보겠단 생각이 들었음.. 어벤저스! 어셈블?? 어우 오글거려 으오프닝 1분만에 영화표값 다 뽑아주는 신기한 영화탑건 매버릭을 저는 다섯번을 봤습니다 일단 저의 취향과는 맞지않았던 영화였습니다. 하지만 다섯번을보고 이영화는 굉장히 신기한 영화라고 생각했습니다. 용아맥에서 봐서 그런진 몰라도 마지막의 감동은 그대로였기 때문입니다...감독이 이정도는 뽑아줘야 15000원 낼 용의가 있습니다.극장이 필요한 이유. 특별관이 필요한 이유.진차 재밌다 꼭 극장에서 봐야됨태어나서 처음으로 3번을 연속으로 볼 만큼,아버지의 어린 시절의 설렘을 느낄 수 있었던 것처럼,내 자식도 나의 설렘을 느낄 수 있기를이 영화를 영화관에서 봤다는 건 행운입니다내인생영화..일반관1번 4DX 2번.. 말이필요없음10점...10점이요...내 기준에 영화관에서 이렇게 많이 본 영화는 없을 것이다 마음에 드는 영화도 한두 번 보고 티비에서 해주면 계속 보는 수준인데 톰크루즈는 대단하다탑건.. 전편을 안 봤지만 사전 정보 약간 접하고 봤는데 정말 재밌고 좋았다. 스토리도 좋고 액션,연출,영상 다 좋았다.이런게 영화다!!!!역대 봤던 할리우드 영화중 최고. 이건 평점을 주러 굳이굳이 들어올 수 밖에 없다. 이게 영화지!!!!단연 올해 최고의 영화. 톰크루즈 무병장수하세요4번 봤는데 봐도봐도 이건 진짜 찐 영화다 스토리 연출 뻔하다고하는데 그건 뭐 어느 영화나 다 유추가능하지만 이 영화는 극장용 영화과 확실하다정말 최고였어요. 이렇게 만족도가 컸던 영화는 오랜만이네요. 톰 크루즈가 가장 돋보이지만 다른 주연들의 비주얼도 너무 황홀합니다. 액션감과 패션, 긴장감 모두 다 잡은 영화입니다.4dx 재상영 열였어요!!    기회는 다시는 안오니 꼭 4dx로 보세요!!ㄹㅇ 역대 최고 4dx 영화입니다이렇게 매니아와 일반 관객들 모두를 최고로 만족시키는 영화가 몇이나 될까.7번 극장에서 관람한 내 인생영화!어디가서 이런 짜릿한 공중 액션을 볼 수 있을까?영화값이올랐지만 아깝지 않은 영화극장에서 봐야 그 스케일을 체감할 수 있습니다.늦차탔지만 늦게라도 영화관에서 보길 잘했어...몰입감있는 액션과 벅차오르는 감동으로 가득한 영화30여년전의 감동을 뛰어넘는 매버릭입니다. 강추!영화관 가서 2번 봤는데 또 보고 싶을 만큼 재밌었다..5번 봤음.그냥 최고다 마블을 이긴 클래식올해 개봉한 최고의 영화... 아니 다크나이트에 이어 내 인생 최애영화!! 이 영화는 아이맥스나 4DX, 돌비시네마에서 관람하는 것이 분명 더 재미있지만 그냥 일반관에서 봐도 충분이 재밌다!! 왜냐고? 톰 형이 나오...남자라면 봐라3회차 관람하고 싶을 정도로 너무 재밌어요극장에서 봐야 할 영화. 뻔한 내용 같으면서도 정말 재밌어요.무조건 음향 좋은 관에서 봐야하는 영화!그냥 대박임...4DX로 못본게 한이다....최고의 상업 영화…30년 뒤에 봐도 전설로 남아있을듯오래전, 그시절 탑건 팬이시라면 꼭 보셔야 할 영화. 매버릭은 탑건팬들을 위한 영화더군요!2022년은 절반 남았지만 올해 최고의 영화라 자부할 수 있다최고의 명작톰크루즈는 아직 죽지 않았다.올해 처음으로 별 만점 드립니다.상업영화의 끝판왕입니다. 최고입니다 !!4D로 다시 보고싶은데, 벌써 내리고 있다는게 아쉽다.  1000만이 안된다는 것도 이상하다.뾰루지까지 완벽했던 최고의 영화4D로 봤는데 같이 착륙했네요매버릭의 비행을 체험하는 경험! 영화관에서 만나야만 할 영화공군 출신이라면 무조건 극장에서 보세요!!!레전드..영화관이 존재할 이유제트기 실제로 타는 기분 ㅋㅋㅋㅋ정말최고  다시보고싶다4d로 상영관 내놔라!!전투기 쓰다듬는데 눈물이 다 나네미쳤다~~ 극장에서 보세요무조건 영화관에서 봐야하는 영화입니다. 정말 같이 전투기 타면서 작전수행하는거 같았어요 최고입니다.즐거움을 넘어 감동까지... 이런게 영화지. 사운드는 특히 최고였어요진짜 이만한 영화 오랜만에 보는듯시작부터 부정맥 오듯 심장 아프고후반부엔 감탄만 나온다감히 전 세대를 아우를 수 있는 대작이라 하겠음중국 핵시설 폭격신 지림감동적인 36년만의 재회!최고네요 비행씬도 그렇고 감동도 있고  초강추진짜 평점 처음 줘본다.처음부터 끝까지 소름이 쫙 돋네요.마지막 감동도 최고이고 아이맥스관에서 봤는데 전투기 날아다니는 사운드나 진동도 죽여주네요내 인생 최고의 첨단상업영화 이보다 지릴 순 없다톰 형 여전히 멋있음 추천 꾹1편을 안 봐도 스트리 이해는 무리 없겠지만 전편을 본다면 감동은 2배일 것 같습니다.완벽한 영화입니다!!두세번 봐도 될 영화!극장에서 처음으로 2번본 영화두번봄 질질흘렸다..그냥 최고예요. 막바지에 보고 와서 아이맥스 한 번 밖에 못 본 게 너무 후회될 만큼ㅠㅠ모든게 완벽했음현재까지 7차 관람중입니다ㅎㅎ영화의 오프닝 OST가 시작되면서 눈물이 날뻔...나도 이 영화와 같이 나이를 먹어갔구나 하는 아련함이 함께 느껴져서한참동안 탑건의 리즈시절이 그리워진 후속이었다뭐 빼놓을게 있어야지.. 아이맥스로 본 사람들이 그저 부러울 뿐.2022년 최고의 영화였다. 탑건 1편을 기억하는 이들에겐 당시의 추억을 회상할 수 있는 선물이자, 전편을 보지 못한 이들에게는 살아있는 신화를 영접하는 좋은 계기가 되었을 것으로 본다. 어느 것 하나 빠짐이 없이 ...영상미는 최고라 자부합니다.4dx로 보기 너무 너무 잘했습니다 ㅎㅎ 최고 ! ! !10점.. 10점이요.. 아니 100점이요.. 만점입니다..걍 모든게 완벽했음...꼭 영화관에서 보기OTT로 보면 후회함 무조건 극장에서 봐야 함 이왕이면 특별관으로 제발 다들 탑건 보세요미친 영화 같네요 요즘 영화라고 부를만한 것도 없었는데 이게 영화지 라고 말할수 있는 영화 라고 말할수 있겠네요. 입 벌리고 보는동안 침 떨어질지 걱정이나 할정도로 ㅎㅎ코로나 시대에 그래도 왜 관객들이 극장으로 가야하는지 이유를 제시하는 영화 스크린으로 꼭 봐야합니다나 26살인데 왜 36년차 팬인것처럼 감동적인거냐고 아 진짜 탑건 나한테 뭔 짓 했냐고...스토리가 탄탄해서 감동이 있었네요. 더군다나 비행액션이 정말 최고입니다!! 탑건때문에 영화관 갔네요ㅎ기존에 나왔던 탑건을 안봤는데도 찡한 여운이 남았습니다.긴장감 넘치는 전개가 좋았습니다N차 관람을 할 수 밖에 없는 영화개봉 늦게한 롯데는 대가리 박자망할 토르 러브 앤 썬더가 더 늦게 나왔다면 톰 형 뒷자리에 한 번 더 탔을텐데...영화관이 존재하는 이유를 설명하는 영화이 영화를 감히 내가 평가해도 됨?인생영화.  조만간 또 볼꺼임왜 10점 이상은 없나요?극장에서 2번이상 본 영화들.1. 2001년 반지의 제왕2. 2014년 인터스텔라그리고 2022년 탑건:매버릭!!!10년에 한번 나올까말까한 극장에서 필감해야하는 엄청난 영화.5번째 보고 왔어요 한 영화를 영화관에서 여러차례 보는게 태어나서 처음입니다 6번째 가려합니다 상영관 내릴때까지 가지싶네요 탑건 중독영화라는 문화가 주는 희노애락에 감사함과 동시에 인간의 의지가 이만큼이나 강하고 아름답다는 걸 일깨워준 것에 아낌없는 찬사를!!탑건 속편을 굳이 왜 하냐고 탐탁치 않았던 나는 똥멍청이 톰 크루즈 그는 천재만재 30년 넘게 안 한다고 뻐팅기다 만들기로 결정한 데는 다 이유가 있었다세 번을 관람했지만 볼 때마다 가슴이 벅차고 눈시울이 붉어진다. 이런 영화 또 만날 수 있을까? 톰 크루즈이기에 가능한 영화관람의 최고의 경지.마지막 전투씬은 압도적 근래 본 영화 중 가장 최고였다마지막 전투씬은 레전드믿고보는 톰크루즈 배우님 너무 좋은 시간이였습니다재미따 .. 톰쿠르즈는 역시고.. 배경 스토리4DX 관람을 추천 드립니다. 탑건과 아주 잘 어울립니다.단순한 스토리이지만 세부적으로 따져보면 마음을 울리는 부분들이 많습니다. 파일럿이 물러날 때가 있겠지만 그게 오늘은 아니다.문제를 해결하지 못하고 좌절하고 있...1편보다 나은 2편 ㄷㄷㄷㄷ매버릭 보려고 탑건1 미리 보고 갔는데 진짜 탁월한 선택이었다 1보고 보니까 더 감동있고 더 재밌는것 같음 진짜 올해 본 영화중 최고!!!!5번 봣다. 레알로 질질 싼다울면서 봄ㅠㅠ 그나저나 탑건3는 언제 나오니요?울 마누라가 첨부터 끝까지 집중한 영화는 21년만에 처음봄. 역대급1편을 뛰어넘는 속편을 보는건 오랜만이다전투기 탈 때 꼭 내가 타는 것 같은 그런 느낌,,,!  4D가 아닌데도 이게 가능한 건가 싶었음,, 그래도 4D로 보고 싶다!마블히어로가 아닌 잊고 있던 찐한 미국맛 인간 히어로의 액션 그자체가 너무 멋있었음태어나서 처음으로 두번 본 영화진짜 오랜만에 영화같은 영화봤습니다.참신하고 개성있고 남들과는 다른내용으로 - 개 뻔한 연출에 pc떡칠하고 개죽을 쒀놓는 디즈니랑 마블과 달리뻔하면 뻔한 내용이지만 - 이렇게 충실하고 긴장감있고 재미있는 영화는 정말...가슴이 벅차오른다 그 시절 탑건을 모르고 미국인도 파일럿도 아니지만 이렇게 가슴뛰고 손에 땀을 쥐게 하는 영화의 힘에 박수를 보낸다지금까지 영화관에서 본 영화 중 최고영화보면서 행복했다.한마디로 극장에서 영화를 봐야하는 이유를 알려준다 멋지게 나이 들어가는 탐형님이 너무 멋지다 월드클라스가 어떤건지 확인하게 된다 아이맥스나 4d 필수영화는 미국영화임을 다시 한번 깨달음.그냥... 인생영화.... 꼭 봐야함.... 가능하면 아이맥스로 꼭 봐야함...처음 쓰는 평점... 이런 영화를 내 생애 다시 볼 수 있을까?진짜 구라 안치고 인생영화 갈아치웠다.아멕보단 돌비나 4dx가 나은듯.2D, 돌비, 4DX, SCREENX 로 4번 봤습니다. 시작이 늦어서 아이맥스 못 본게 한... 외계인에 한산이 있어서 특별상영관이 돌아올 일은 없겠지 ㅜㅜㅜ 최고는 단연코 SCREENX!!뻔한 스토리와 뻔한 액션이지만 그러면 어떠한가... 그저 최고인걸.The best movie of my life한 10년동안 본 영화중 최고...역대급 영화였어요. 슬픈장면없이 눈물이 나오고 감동받았고 보는내내 소름돋았습니다.MSCG안치고 자연스턴트가 빚어낸 시네마 장맛, \"이 집 블록버스터 잘하네\"관람객vod가 나왔어도 큰 스크린으로 보고 싶어????네이버 영화 리뷰 처음 남깁니다. 정말 정말 정말 웰메이드 상업영화!!! 영화관 가는 데 쓴 시간과 돈이 전혀 아깝지 않아요.이걸 영화관에서 개봉 안하려고 했다니...탑건 1은 못 봤지만. 탑건 매버릭은 단연코 생에 최고의 영화 중 하나. 톰 크루즈 아저씨 사랑합니다..재탕해도 이만한게 없다 너무재밌음훌륭한 액션도 액션이지만! 스토리 자체가 정말 뛰어나다뻔한 스토리지만 가슴이 웅장해지는건 막을 수 없었다.남자의 낭만을 담은 영화. 오랜만에 영화다운 영화를 본 느낌.스토리가 기대한대로 흘러가지만, 오히려 좋아.전투기의 진동과 함께 전율이 느껴지는 완벽한 영상미게명작이다역시톰크루즈는훌륭하다우리가 영화를 또다른 체험이라고 말할 수 있는 이유.톰 크루즈의 톰 크루즈에 의한 톰 크루즈를 위한 영화뭐 하나 빠질 것 없이 훌륭했다. 정말 영화관이 필요한 이유를 시사하는 작품. 보기를 망설일 필요가 없다.  평점 10점 주려고 왔어요 :)무조건 보세요! 진짜어느 나이때가 봐도 좋아할 내용입니다짱짱짱짱와 인생영화 등극이다... 스크린x로 또봤는데 진짜 미쳤음. 현장 한가운데 있는 느낌. 스크린엑스관 추천함평이 좋은 이유는 있다. n회차 완전 가능올해 최고의 영화였다.나 비행기탈래스포일러가 포함된 감상평입니다. 감상평 보기관람객관람객관람객관람객관람객관람객관람객관람객관람객나.. 이런 영화 좋아하네?인터스텔라 이후로 별점 10점 오랜만이다. 몰입이 된다. 4D로 다시 보고싶다.한국인인데 미국뽕이 차올라요극장에서 3번봤다진짜 개존잼 올해의 영화다 그냥톰 크루즈 당신은 대체... 또 보러갈게요다 좋았지만 마지막 하이라이트 약 30분부터는 손에 땀을 쥐고 봤다남친한테 끌려 갔는데 재밌게 봤어요톰형은 늙어도 멋있네. 짜릿한 영화다극장에서 2번봤네요 메버릭 그자체.. 톰크루즈 너무 대단합니다. 영화를 보고나면 연기뿐만 아니라 제작 등 영화 그자체에 얼마나 진심이었는지가 느껴질 정도로 여운이 강해요.아무리 재미있어도 2번이상 보는 영화는 없었는데 내인생 최고의 영화 등극함ㅋ 3번 봐도 개존잼. 보면 볼수록 빠져드는 영화. 제가 지금 탑건에 미췄어요. 상영관 내리기전에 또 보러 갈 예정ㅋ 여러분 이 영화는 꼭 영...예전 10대때 탑건을 너무 재미있게 봤었는데.. 탑건 매버릭은 그때의 느낌을 주면서도 최신 영화답게 업그레이드가 잘되서 너무 재미있게 보았습니다.마치 내가 직접 최신 제트기를 모는듯한 기분과 아이맥스 영화관에서 보아...이보다 더 완벽한 후속작이자 마무리를 할수 있을까 싶음 액셤, 스토리, 연기 모두 올해 본 영화 중 최고였내요~^^탑건1세대의 열정을 간접적으로나마 느끼게 해 준 너무나도 멋졌던 영화탑건1의 향수를 느낄수 있는 스토리도 좋았지만 후반 전투기 액션은 그야말로 탑이다극장에서 관람하면 확실히 모든면에서 배가 되는 영화비행 할 때 내가 직접 하는 것 처럼 긴장돼서 영화 다 보고 나오니까 어깨 결림 넘 재밌었어용와... 영화관서 이런 만족감을 얻는게 얼마만인지2번 관람한 영화는 탑건이 처음20점은 줄 수 없냐?말이필요없습니다처음으로 영화관에서 3번 본 영화…인생영화 됨ㅜㅜ ost까지 갓벽ㅜㅜㅜ탑건 매버릭이 아니라 그냥 톰 크루즈라고 했어도 충분했을 영화ㅋㅋㅋ 톰크루즈 무병장수해서 이런 영화 팍팍 만들어줬으면인생영화 그냥 미쳤음  2d 돌비 4d 3 번 봤음 ㅠ?ㅠ마지막 30분 몰입도는 역대급노래가 너무조아스포일러가 포함된 감상평입니다. 감상평 보기관람객관람객내가 왜 4dx로 보지 않았을까..추억은 이렇게 살려주는거라 봅니다 역시 탐형영화의 스토리, 연출, 연기, 영상미, ost 모든 장면, 모든것이 좋았다! 영화 보는 내내 몰입하다가 엔딩크레딧이 다 올라갈때까지 영화관을 나서기 싫을정도로 처음부터 마지막까지 최고인 영화!뻔한 스토리를 세련되게 다듬고, 배우들의 열연과 화려한 공중전 연출을 더해 완성도를 극도로 끌어올렸다. 영화관의 존재 이유를 증명해준 영화. 반드시 영화관에서 보세요.시네마의 시대는 끝날거에요  하지만 오늘은 아닙니다인생영화등극 최고다 그냥.마블조차도 보여주지 못한 원조 정통 할리우드를 톰크루즈 혼자서 탑건으로 보여주는구나!!!꼭 영화관에서 봐야할 최고의 영화!CG로 뒤덮인 토르를 무색하게 하는 영화영화가 먼지 알려주는 영화와 배우, 탐 크루즈첫 화면부터 빨려들어가는 느낌.특유의 미국뽕 영화에다 모든 전개상황이 다 예측가능하지만 재미있다. 킬링타임용도 아니다.비행기 액션씬도 멋지고 진짜 올만에 재미있는 영화를 봤다.미쳤습니다 명심해야할 점 하나. 1편 요약이라도 보고 가세요..!1편과 이어지는 부분에서 초반에는 잠깐 지루하나 후반부를 향한 빌드업이었습니다. 미친 공중액션씬이 아직도 잊혀지질 않습니다.끝나고 나오는데 먼가 말할수없는 만족감...행복하네요.존잼!!!! 수험생 스트레스 다 풀렸어요 아드레날린 팡팡꼭 영화관에서 봐야하는 영화굉장히 뻔한 플롯인데 그것또한 낭만으로 만듬진짜 역대급 영화..  장르가 톰크루즈..보는내내 감탄밖에 안나옴너무 감동적임..탐아저씨는 미친 배우다...극장서 안보믄 죽을때까지 후회하게 될것이딘뻔한 스토리를 살려내는 톰 크루즈의 진심. 그가 있어 이 영화가 완전무결해졌다. 씨지로 덮여가는 영화 속 이 영화가 보여주는 아날로그의 날것과 거침이 가슴을 뛰게 한다.  이 영화는 무조건 영화관에서 봐야한다.평점 높아서 봤는데 나도 평점 주고 있다속편의 정석 속편의 바이블그냥 봅시다.보면알아요.4dx로 2번째 보고왓움 진짜 제발 부탁드립니다 탑건을 2d로만 보신 분들 안계셧으면 좋겠어요…. 제발제발 무조건 4d로 한번 더 보세여 이미 보신 분들도 무조건 후회 안합니다 진자 제발 4d극장 가서 보세요 재발제...나 여잔데 울었음 G렸음그들에게 기립박수를 보내고싶다그냥 말할 필요도 없는 영화 시네마 그 자체... 극장의 존재 이유를 알려준 영화무조건 추천. 영화가 이런거였지 이거지.4dx로 감상했는데 완전재밌었습니다.전투신때문이라도 4dx로 보시는걸 추천드립니다.내리기 전에 4DX SCREENX로 보세요. 2시간넘도록 놀이기구 타는기분 느낄수 있습니다. 이건 무조건 체감형으로 보셔야해요최근 본 것 중 레전드 영화! 처음과 끝이 깔끔했고 미드웨이보다 쩔었음 보고 나오자마자 또 보고 싶은 영화였음숨막히게 멋있음..톰크루즈의 눈빛..깊네요 ♥상업영화는 이렇게 찍어야함영화관이 필요한 이유를 느꼈다. 16,000원이 아깝지 않았던 영화.베스트 오브 베스트탐형 감사합니다톰크루즈 한스짐머 최고의 조합10점빼고는 줄수가없네 할말없음정말 이런게 영화지. 기다렸습니다.86년 개봉시 관객들과 현시대의 관객들 모두를 즐겁게 만족시커주는 최고의 오락영화!탑건1을 보시고 가시면 감동은 배가 됩니다.이후로도 탐 크루즈 만큼 액션에 진심인 배우를 또 볼 수 있을까? 동시대를 살면서 이 영화를 극장에서 볼 수 있다는거 자체가 행운인 느낌ㅋ촌스러움이 멋있다!진짜 이번년도 영화관에서 본 영화 중에서 거의 제일 좋았다 지루할 틈 없이 모든 장면이 다 좋았던 작품ㅠㅠㅠㅠ 이 영환 무조건 영화관이다올해 최고의 영화 감동 눈물, 웃김, 사랑, 액션 모두다 들어있는 영화탑건 팬에게는 종합선물세트 같은 영화였고, 보는 내내 설레고 즐겁고 행복했습니다.IMAX 영화관이 존재해서 정말 다행이에요최근에 봤던 영화중 가장 만족. IMAX랑 4DX 봤는데 4DX가 더 만족도가 높았고 정말 두번 봤지만 한번 더 봐도 돈이 아깝지 않은. 이전 편은 안봤는데 이해하는데 큰 무리는 없었습니다.2022년 최고의 영화내 인생 최고로 재밌는 영화 등극뻔한데 흥미진진하고 재밌다영화관에서 안보면 후회함극장의 존재 이유를 보여주는 영화... 만점 이상의 영화입니다.미쳤어요 무조건 보세요 이건 무조건 영화관에서 봐야됩니다 본인 집 화면이 얼마나 크던지 소리가 잘나오던지 그게 중요한게 아닙니다. 엔진소리 진동으로 온몸이 떨리는 효과를 느껴봐야해요삼십오년전, 그 때 그 선글라스, 그 자켓, 그 오토바이,그리고 그녀…평생 처음 평점 남겨 봅니다. #매버릭 꼭 보세요.아 지린다 지려 93년도에 비디오테이프로 보고 F-14 프라모델 만들고 TV에서 종종 나오면 멍하니 보던 영화였는데 이렇게 속편으로 나오다니딱봐도 90년대 학번 횽님들과 무언의 눈빛들을 주고 받고 착석할때의 그 웅장...과하게 욕심 부리지 않는 이야기가 좋다.더욱 더 훌륭한 비행장면과 전편처럼 영상에 잘 어울리는 음악들이 좋다.오랜만에 정말 재밌게 잘봤어요.. 다시 보러가야지꼭 극장에서 봐야하는 영화최고다.. 진심 스토리, 연기, 감동 뭐 하나 빠지는게 없다.. 돈을 더 내고 봐도 아깝지 않은 명작!안보면 안되는 영화가 있다. 탑건 메버릭은 그 중 하나이다.뭐라고 말을..감동 그 자체임전형적인 스토리.. 하지만 완벽한 연출 크흡역대 최고의 비행 액션..30여년이라는 긴 시간이 지났음에도 톰 형은 멋지다.이건 꼭 영화관에서 봐야함this is TOP CRUISE!  2020년에 볼 영화를 기다리고다시 1달 추가연기 ㅜ 드디어 봤네요 탑건 1편에 대한 오마주 장면, 뛰어난 연출, 실제 전투기 비행 중에서 연기력 유료시사1번, 개봉일 1번총 2...신, 구의 완벽한 조합. 톰크루즈 짱돌비시네마에서 유료시사회 관람했습니다.그냥 미쳤습니다.!부모님 모시고 아이맥스로 한번 더 볼 예정입니다.보실거라면 꼭!! 아이맥스나 돌비에서 보시길 추천합니다.감동이 배가 됩니다~아이맥스로 또 봐야지.35년만의 후속작이기에 완벽할수 있었다. 그세월이 주는 상황들이 영화에 녹아들어 배우, 스토리, 재미, 영상과 OST 모든것이 완벽. 전작을 복습하고 보면 재미 2배. 쇼생크 탈출과 함께 인생영화 등극.스포일러가 포함된 감상평입니다. 감상평 보기관람객꼭 영화관에서 봐야함ㄹㅇ극장에서 탑건을 보지 못한다는 건 후회할 일이 싱긴다는 것정말 최고라는 말 밖에 할 말이 없다.톰크루즈라 가능했던 영화입니다.눈물이 나네요..영화는 이렇게 만드는 거다진짜 재밌다너무 멋있어모든 것이 완벽한 영화..5번 봐도 안질려요영화관이 진짜 필요한 이유최근 몇년간 본 영화 중에 최고! 영화관 가는게 이제는 돈아깝다며 ott 풀릴 때까지 기다리곤 했는데, 탑건 매버릭은 특별관에서 8번이나 관람했다(그랬는데도 계속 더 보고싶을 정도) 영화관에서 완전히 내려가면 슬플 ...1 보고가면 감동이 오백배탑건1보다 훨씬 스릴있고 스토리도 갖춰서 좋았습니다. 스크린x나 돌리사운드로 보시는걸 강추드립니다. 정말 걸작입니다. 모든 세대가 감동있게 볼수있는 영화입니다.처음 main anthem 나올 때부터 눈물이 났슴...전편을 알고 영화를 보았더니 감독의 의중을 알 수 있었고 그대로 영화에 몰입되어 마지막까지 울면서 봤네요 ㅠㅠ 10년내에 최고의 영화가 아닐까 싶습니다.이 뻔한 클리셰로 사람 울게 만드냐액션 영화는 이렇게 만들어야 한다는 걸 보여준 교과서 같은 영화몇 번을 봐도 후회 없을 영화톰크루즈 형 너무 멋있어요 ^^이걸 vod나 ott로 보겠다고?? ....36년만에 나온 후속편이 이토록 완벽할수가현 시점 상업영화가 보여줄 수 있는 극치최고의영화.. 감사합니다.이런거안하는데별다섯개 주려고 옴인생 최고의 영화...톰크루즈 진짜 사람이냐...?자칫 유치할 수 있는 이야기를 이렇게 낭만적이고 근사하게 그려낼 수 있을까? 세월을 이겨낸 톰 크루즈가 영화 내내 반짝반짝 빛난다. 오랜된 것도 멋있을 수 있다고 영화는 말한다.간만에 본 별 다섯개짜리 영화4d관에서 보는데 너무 리얼하고 보는내내 너무재밌었어요다신 없을 인생 영화. 오늘까지 5회차 관람인데 영화에서 주는 감동과 교훈이 매번 다르다.이 영화를 영화관에서 볼 수 있음에 감사하다내가 본 가장 완벽한 후속작! 이보다 더 뛰어날 순 없다. 앞으로도 이정도의 몰입감을 주는 영화를 볼 수 있을지 걱정될 정도...비행씬은 몸을 저절로 움찔거리게하고, 전투기 액션 장면은 정말 짜릿하며, 톰캣의 등장은...이게 헐리우드 영화지꼭 영화관에서 보셔야 합니다.아니 안본 분들 이 영화 왜 안 봐요??두 번이나  봤는데 솔직히 시간만 되면 한번 더 보고싶네요뭐하나 흠잡을 것 없는 영화오랜만에 영화관에서 볼만한 영화를 봤습니다톰 크루즈의 연기는 두말할것없고 영상 ost 모두 영화와 잘어울려서 재밌었습니다1편을 보지않아도 대충은 설명해줍니다오랜만에 보는 깔끔하고 군더더기 없는 오락영화전투씬에서 숨 참고 봤습니다12점은 안되나요?리얼,염력,골든슬럼버,인랑,성냥팔이 소녀의 재림,클레멘타인 모두 피해가지 못했다 그 모든걸 본 내 눈을 보상해준 영화가 아닌가 싶다36년의 기다림을 만족시키고도 남는 속편영화관이 존재해야되는 이유굿 보는내내 지렸음  ㅜㅜ다크나이트가 인생 최대의 영화였는데, 매버릭은 다크나이트랑 거의 동급이었다. 오락영화의 정점같은 영화 영화관에서 두 번 이상 잘 안보는 두 번 봤네요... 또 보고 싶음지렸다 나이가 들어서 그런지 눈물도 나네40대들어서 힘들어죽겠네만 연발하고있는데...톰아저씨 환갑이넘으셨네...4DX로 한번더 보러가겠습니다.영화관 달려가서 보세요. 4DX, IMAX, SCREEN X!! 근데 폰 무음으로 돌려놓는 것은 기본 중의 기본. 불과 2시간 정도 폰 못 들여다보면 죽는 스마트폰 중독자들은? 걍 넷플릭스든 올레티비든 왓챠든 기다렸...내일 두번째 관람 드갑니다. 최고임~이건 영화관 N차를 안할 수 없는 영화입니다.꼭 영화관에서 보세요.만23세여자 파일럿 되고싶어요.. 늦었나요?OTT시대에 왜 영화관이 존재해야 하는지 알려주는 영화. 내 인생 영화. 4DX, IMAX 보시길. 찐득한 마초향기와 오마주 가득, 옛감성 일으키는 OST의 조화. 영화를 보는 내내 가슴이 웅장해집니다. 본사람이 승...일주일 전에 탑건 1을 다시보고 생각보다 너무 재미없고 올드한데... 라는 느낌이었는데,용산 아이맥스에서 본 탑건 매버릭은 내 인생 영화 top3 들어가는 명작이었다.680석 기립박수와 전투기가 이률할 때의 사운드의...비싸진 영화비가 전혀 아깝지않은 영화 오랜만.미국인도 아닌데 벅차오르고 정말 존잼.처음 영화 평점주는 사람입니다이건 진짜 꼭 보세요이 영화 진짜 미쳤다... 그냥 봐라... 다음주에 또 보러 갈거다.보고 나오는 순간 그냥 나도 열심히 살아야겠다 이 생각만 들더라 ㅋㅋㅋㅋ별 5개가 탑건을 위해 존재했다결론적으로 톰크루즈만이 보여줄 수 있는 영화였다.이건 만점이다탑건 정말 최고의 영화인생 살면서 영화 리뷰 남기는건 처음인데 진짜 졸라 재밌습니다 농담 안치고 21세기 최고의 영화일듯한 줄 요약- 장인은 도구를 탓하지 않는다.꼭 보시길.. 단순한 재미 뿐만 아니라 ai에게 일자리 밀리고, 무인으로 대체되는 미래에서 생명체와 인간이란 어떤 의미를 가질 수 있을지 생각해볼만한 영화. 진짜 재밌으니 ...JUST INSANE제작진과 배우에 경의를 표한다 ㅋㅋ 최고다항공 포르노 비행 포르노36년만에 완벽한 부활 완벽한 스토리잠시도 지루할 시간이 없네요극장 가시면 방광 조절  잘하세요중간에 화장실 가믄 한번 더 보셔요헐리우드 블록버스터의 귀환최고.최고.최고.1쳔 기억이 가뭍가물한데 너어어어무 재밋게 봤어요!!!!탐크루즈최고오오오오!!!무엇보다도 저희 남편 함께한지 12년만에 눈물 첨 봤어요!!! 갬동의눈물.ㅋㅋㅋ1편보고가라! 두번봐라! 아이맥스 봐라!사운드, 영상미, 줄거리 ...그리고 톰 크루즈극장에서 안보면 후회할뻔.. 올해 본 영화중에서 최고!!그냥 보세요 별 말 필요없음정말 오랜만에 영화다운 영화를 봤네요. 과하지도 않고 깔끔하게 완성도 높은 영화입니다. 다시 보러 갈거에요남자의 심장을 뒤집어놓는 인트로 제트엔진소리와함께 어느샌가 끝나고보니 내손은 마치 내가 F18조종간을 쥔것처럼 땀이흥건하며 스크린을 뚫어버릴듯 노려보고있었다.톰형님과의 비행 죽을때까지 잊지 못할것같다부모님에게도 추천진짜 인생영화! 와이프 안본다는거 데려갔는데 너무 재미있다고 난리네요! 1편은 유투브 요약본이라도 보고 가세요.훌륭한 속편의 탄생. 톰 크루즈 너무 멋있다!1편 중반까지만 본 내가 이렇게 벅차는데 1편을 봤었던 팬은 얼마나 벅찰까? 4d로도 보고싶다는 생각이 들었다.  정말 전작을 예우해준다는게 이런뜻이구나 느낌. 톰크루즈 늙은거 맘아프다. 평생 안늙고 영화 많이 찍어...탑건의 후속편에 기대할 수 있는 모든 것을 제대로 충족시켜준 느낌. 특히 공중 전투 장면은 기술의 발전 덕인지 전작보다도 훨씬 좋았다. 톰 크루즈가 멋있게 늙어가는 모습을 보는 기쁨이 가장 크다.거의 10년간본 영화중에 최고인듯 싶네요. 진정한 인생영화4DX 돌려주시면 또 볼게요너무 재밌어서 두번 봤네요 ! 처음 볼때는 비행기 액션에 놀라고 두번째 볼때는 영상과 음악의 조화에 감동합니다.멋진 하늘 멋진 바다 , 시간을 들여서 표현해야할 장면은 충분히 여백가 여운을 주며 보여주네요속편의 정석! 30년 세월을 넘어 장면 하나하나에 벅차오름두번봐도 질리지 않음 아맥으로 못본게 아쉽네요 ㅠㅠ죽기전에 보게 돼서 이런 명작을 보게 되어서 영광이다. 정말 감동이여서 두번 봤습니다.와 살다보니 이런 영화를 보는 날도 오는구나   무조건 보세요군더더기가 1도 없는 130분. 그저 놀라울 따름단 1초도 눈을 뗄 수 없었던 영화입니다. 시작부터 마지막까지 너무 재밌게, 그리고 눈물날만큼 감동적으로 본 영화입니다. 톰을 사랑할 수 밖에 없네요. 최고의 영화!!!전작을 보지 않아도 영화 이해하는데에 어려움이 없고 매끄럽게 흘러가는 영화였다영상과 스토리 노래 모두 경이롭다이 시대 마지막 무비스타 톰크루즈 그에게 무한한 찬사를...영화 끝난지 삼십분인데도 여운이 남아있어요! ㅠ최고단언컨대 올해 최고의 영화였다그 시절을 경험한 모든 사람들에게 다시 건네는 반가운 기억Don\\'t think it. Just watch this movie.관람객관람객이영화에만 십오만원은 쓴거같아요인생최고의 영화열심히 살고싶어져요N차 하는 사람들의 심정을 이해하게 된 영화입니다. 단순한 스토리 뻔한 결말이지만 감동의 눈물.이 나네요인생 영화 3번 봤는데 또 보고싶음알려줘 구스. 그게 뭔지 몰라도 알 수 있어요. 그런 걸 보러 영화관에 갑니다.꼭 4D로 보세요! 톰형 고마워..완벽한 기승전결 이런 영화가 또 나올수 있을까?SCREEN X로 보고오고 4DX로 한번 더 보고왔습니다진짜 꼮 보세요 이걸 영화관에서 안보면 후회합니다재미없다는 사람 있으면 나와 대거 1 출격 준비존잼...잘만든 미국판 CJ감성인데 안지루하고 항공 액션에 CG를 거의 쓰지 않아서 위화감없고 재밌음오랜만에 찾은 인생영화10점을 안줄수가 없다. 영화관에서 봐야할 영화 ㅎㅎ탑건:매버릭으로 36년만에 완성된 탑건이라는 생각이 들었다 진짜 꼭 영화관에서 봐야하는 영화 !!!기승전결 연출 ost 싹 다 완벽한 진정한 상업영화입니다. 가능하시다면 용산 포디엑스로 꼭 보세요 진짜 존잼.. 지금까지 10차정도 찍었는데 10번 다 너무 재밌게 봤어요낭만 그 자체 너무 재밌다한번만 볼 수 없는 영화 탑건!포디 포디 재관람 할 수 있길 바랐는데 이게 되네요!1차는 일반관에서 2차는 포디관에서 봤어요 내용을 아는 상황에서 포디로 보니까 더 재밌더라고요~ 6월에 개봉한 탑건이 8월까지 상영하...Danger zone부터 hold my hand까지 멈추지 않는 아드레날린과 감동보다가 울뻔했다 진짜 엉ㅇ엉크으으 재밌게 잘 봤습니다반드시 극장에서 봐야할 영화! 톰크루즈는 물론 출연한 배우들의 연기가 훌륭하며 연출, 스토리, 영상, OST 등 모든 것이 좋다. 보면 볼수록 자꾸 더 보고 싶어져서 수시로 극장으로 달려갔다. 2022년 여름은 탑건...완전 재밌었음 진짜 극장에서 봐야 하는 영화..Maybe so sir, but not today.돈이 아깝지 않은 영화. 반드시 극장에서 보시길...탑건1을 몰라도 재미있고 보고 보면 더 재미있는 작품입니다.할리우드라 가능했던영화 지금까지 본 오락영화중 제일 잼있었다 배우들연기 좋고감독의 연출력이 뛰어나다 별다른 스토리가 없는데도 잼있다 비행기가 아름답다고 느껴진다 전무후무한 오락영화로 남을 듯꼭 극장에서 보세요어떤 영화는 관람이 아니라 체험이된다. 지린다. 미쳤다너무 재밌어서 n차 관람 추천이요!탑건1을 좋아하는 사람이라면 무조건 봐야하는 명작톰 오빠.. 라고 부르고 싶어지는 영화였다.와 이 영화는 무조건 영화관에서 보세요!!스토리는 뻔하나 그 뻔함이 싫지 않았다평소 영화 만족도 매우 까다로운 편, 인생영화 등극. 무조건 영화관에서 n차관람하세요!기대 많이하고 봤는데 재밌었습니다.태어나서 영화를 본다는 기쁨이란 게 이런 것.영화는 반드시 스크린으로 봐야 한다.과거 이야기와 함께 아날로그 느낌의 영화 오랜만에 잘 봤어요!너무 판타지에 디지털화 된 느낌의 영화만 보다가 보니 좋네요!돈이 아깝지가 않은 영화롤러코스터를 탄 것 같은 기분최곱니다마하10오프닝부터 두근두근. 극장 존재의 이유.그냥 쩔음 인생영화 될 것 같음시네마의 시대가 저물어갈때 \\'Not Today\\'를 외치다이때까지 본 영화중 가장 인상깊은 영화..진심 존잼...최고ㅜㅜㅜㅜ처음봤을때보다 두번째 봤을때 더 놓치는 장면 없이 좋았던 영화.OST선곡은 모든이들이 인정할거같고, 그냥 너무 재밌었음.영화관이 존재하는 이유스크린으로 보는 탐크루즈 얼굴로 티켓값 이미 다 함탑건 n차로 최근에 다시 보았습니다.유튜브에서 탑건2가 만들어 지기 까지의 비하인드 스토리와 해석등 더 알고 보니 더 재미있고, 다시 봐도 말로 표현할수 없는 웅장함이 있네요.라스트 무비스타 탐 크루즈...이건 영화관에서 꼭 봐야함아주 좋습니다극장에서 봐야되는 영화!! 돈 아깝지 않습니다!!최고최고최고 말이 필요 없음!최고최고 탐크루즈최고입니다.또 보고 싶다. 영화관의 존재 이유를 입증하는 영화.오랜만에 재밌고 집중이 흐트러지지 않는 영화근 몇 년간 본 영화 중 제일 재밌다.간만에 영화본거긴 한데 진짜 역대급일만한 스케일에 박진감넘치고 몰입감이 상당합니다!! 2번이상 보세요ㅋㅋ대거 원 스탠바이레전드....이 좋은걸 나만 볼수 없다...널리널리 알려야해ost 매일 듣고 있음, 이건 꼭 영화관에서 봐야함두번 봤는데 또 보고싶음액션배우의 대가 톰 크루즈는 믿고 본다. 오래간만에 재밌는 액션영화 본 듯 하다.너무너무 재밌는 영화! 탐크루즈님 너무 멋있어요♥스포일러가 포함된 감상평입니다. 감상평 보기관람객관람객관람객관람객관람객관람객관람객비행씬 진짜 잘 만들었음이런장면 보고싶지? 하는 곳에서 짜자잔 하고 보여주는데 진짜 영화보는 내내 너무 신나고 즐거웠어요 영화시작 30초만에 4D로 보길 잘했다싶었어요마지막 30분이 압권최고 아이맥스 돌리도...영화관의 시대가 아직 끝나지 않았음을 알리는 톰 크루즈의 Real한 비행탑건 코돌비, 용아맥, 용포디로 다 봤는데 볼 때마다 꿀잼톰 크루즈를 영원히 보고싶다..친구와 1회차 관람하고 36년전 내가 태어나기도 전에 이 영화를 보신 아버지랑 2회차 보고왔습니다. 영화 관람 후 포토티켓 2장을 뽑아 골라보시라고 드리니 아버지께서 톰크루즈가 나와있는 걸로 고르시더군요. 이제야 알...전투기에 같이 탔는것 처럼 몰입도와 간단한 스토리임에도 꽉찬 감동이 느껴지는... 그냥 최고..역대급 영화입니다. 영화관 n차 관람한 두번째 영화..살면서 평점 난긴적이 없는데 탑건에 처음 남겨봄.. 영화 처음부터 끝까지 전율만 가득했음아주 클래식한 전투기 액션 영화.. 쓰잘데기 없는 pc 없어서 좋고 시원시원한 전개 다 좋았다진짜 이건 영화관에서 봐야한다. 이런 영화는 사운드도 중요해서 영화관에서 봐야 온전히 느낄 수 있다All time best movie.가슴이 뜨거워진다는 말은 그냥 관용적 표현인줄로만 알았는데, 마지막 랜딩씬에서 정말 말 그대로 가슴이 뜨거워짐을 느꼈다. 무언가 오랫동안 잊고 있었던 뜨거움 같았다.특별관 내려가기전에 무조건 보셈 아맥, 돌비, 4dx3개 다봐야됨 이영화 극장에서 안보고 지나가면 인생 후회함영화보고 만족스럽게 나온거 너무 오랜만이에요. 반드시 영화관에서 봐야하는 영화!!눈이 다 시원한 영상. 나이 60에 자기 관리 끝판왕 톰 크루즈. 4DX에서 봤는데 막 내리기 전에 IMAX 찾아서 다시 봐야 하나 고민중.감상평 처음 등록해봅니다 이게 영화입니다 여러분날아 다니는 비행액션은 역시 아이맥스로 봐야 합니다. CG보다 실제 액션! 그리고 감동! OST!까지 훌륭합니다. 반드시 1편을 보고 오셔야 이해 됩니다.'"
      ]
     },
     "execution_count": 102,
     "metadata": {},
     "output_type": "execute_result"
    }
   ],
   "source": [
    "repleData = open(\"영화리뷰 100페이지.txt\", \"r\").readline()\n",
    "repleData.\n",
    "\n",
    "# f = open(\"영화리뷰 100페이지.txt\", \"r\")\n",
    "# f.readline()\n",
    "# f.close()"
   ]
  },
  {
   "cell_type": "code",
   "execution_count": 108,
   "id": "92e21472",
   "metadata": {
    "ExecuteTime": {
     "end_time": "2023-03-27T03:43:33.717707Z",
     "start_time": "2023-03-27T03:43:33.283884Z"
    }
   },
   "outputs": [],
   "source": [
    "# repleData에 저장된 리뷰데이터를 WorldCloud로 단어 빈도수 체크\n",
    "# WordCloud() : 배경색, 글자색, 글씨체, 마스크이미지 등 워드클라우드 스타일 옵션 설정\n",
    "# generate() : repleData에 저장된 리뷰 데이터를 WorldCloud로 단어 빈도수 체크\n",
    "wc = WordCloud(font_path=\"C:/Windows/Fonts/malgun.ttf\", background_color='white').generate(repleData)"
   ]
  },
  {
   "cell_type": "code",
   "execution_count": 112,
   "id": "520378dd",
   "metadata": {
    "ExecuteTime": {
     "end_time": "2023-03-27T03:47:20.682383Z",
     "start_time": "2023-03-27T03:47:20.493893Z"
    }
   },
   "outputs": [
    {
     "data": {
      "text/plain": [
       "(-0.5, 399.5, 199.5, -0.5)"
      ]
     },
     "execution_count": 112,
     "metadata": {},
     "output_type": "execute_result"
    },
    {
     "data": {
      "image/png": "[encoded data removed]",
      "text/plain": [
       "<Figure size 500x1000 with 1 Axes>"
      ]
     },
     "metadata": {},
     "output_type": "display_data"
    }
   ],
   "source": [
    "# 워드클라우드를 이욯해서 시각화\n",
    "\n",
    "# 시각화의 (너비, 높이) 크기 설정\n",
    "plt.figure(figsize=(5,10))# (2,4) ==> (좌우, 상하)\n",
    "\n",
    "# 워드클라우드를 이용해서 시각화\n",
    "plt.imshow(wc)\n",
    "\n",
    "# axis() : x축 , y축 라벨 출력 관련 함수\n",
    "# 기본값 : x축, y축 정보 자동 할댕(축 라벨 표현 유무)\n",
    "plt.axis('off')"
   ]
  },
  {
   "cell_type": "markdown",
   "id": "b9584142",
   "metadata": {},
   "source": [
    "### 데이터 수집 순서 정리\n",
    "1. 사용할 라이브러리 로딩 ( requests, BeautifulSoup 등..)\n",
    "2. requests를 활용해서 웹 페이지 요청( hearders 설정, params는 선택저으로)\n",
    "3. 받아온 데이터를 BeautifulSoup으로 객체화 진행\n",
    "4. 객체화된 데이터에서 select() 또는 select_one()을 활용해서 데이터 수집\n",
    "5. 수집된 데이터에서 text(순수 컨텐츠) 속성으로 접근해서 파일 형태로 저장"
   ]
  }
 ],
 "metadata": {
  "kernelspec": {
   "display_name": "Python 3 (ipykernel)",
   "language": "python",
   "name": "python3"
  },
  "language_info": {
   "codemirror_mode": {
    "name": "ipython",
    "version": 3
   },
   "file_extension": ".py",
   "mimetype": "text/x-python",
   "name": "python",
   "nbconvert_exporter": "python",
   "pygments_lexer": "ipython3",
   "version": "3.9.13"
  },
  "toc": {
   "base_numbering": 1,
   "nav_menu": {},
   "number_sections": true,
   "sideBar": true,
   "skip_h1_title": false,
   "title_cell": "Table of Contents",
   "title_sidebar": "Contents",
   "toc_cell": false,
   "toc_position": {},
   "toc_section_display": true,
   "toc_window_display": false
  },
  "varInspector": {
   "cols": {
    "lenName": 16,
    "lenType": 16,
    "lenVar": 40
   },
   "kernels_config": {
    "python": {
     "delete_cmd_postfix": "",
     "delete_cmd_prefix": "del ",
     "library": "var_list.py",
     "varRefreshCmd": "print(var_dic_list())"
    },
    "r": {
     "delete_cmd_postfix": ") ",
     "delete_cmd_prefix": "rm(",
     "library": "var_list.r",
     "varRefreshCmd": "cat(var_dic_list()) "
    }
   },
   "types_to_exclude": [
    "module",
    "function",
    "builtin_function_or_method",
    "instance",
    "_Feature"
   ],
   "window_display": false
  }
 },
 "nbformat": 4,
 "nbformat_minor": 5
}
